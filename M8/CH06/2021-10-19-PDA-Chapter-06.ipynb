{
 "cells": [
  {
   "cell_type": "markdown",
   "metadata": {},
   "source": [
    "# Chapter 6: How to clean the data"
   ]
  },
  {
   "cell_type": "code",
   "execution_count": 29,
   "metadata": {},
   "outputs": [],
   "source": [
    "import pandas as pd"
   ]
  },
  {
   "cell_type": "markdown",
   "metadata": {},
   "source": [
    "## What the info() method can tell you"
   ]
  },
  {
   "cell_type": "code",
   "execution_count": 30,
   "metadata": {},
   "outputs": [],
   "source": [
    "polls = pd.read_csv('../data/president_polls_2016.csv')"
   ]
  },
  {
   "cell_type": "code",
   "execution_count": 31,
   "metadata": {},
   "outputs": [
    {
     "name": "stdout",
     "output_type": "stream",
     "text": [
      "<class 'pandas.core.frame.DataFrame'>\n",
      "RangeIndex: 12624 entries, 0 to 12623\n",
      "Data columns (total 27 columns):\n",
      " #   Column            Non-Null Count  Dtype  \n",
      "---  ------            --------------  -----  \n",
      " 0   cycle             12624 non-null  int64  \n",
      " 1   branch            12624 non-null  object \n",
      " 2   type              12624 non-null  object \n",
      " 3   matchup           12624 non-null  object \n",
      " 4   forecastdate      12624 non-null  object \n",
      " 5   state             12624 non-null  object \n",
      " 6   startdate         12624 non-null  object \n",
      " 7   enddate           12624 non-null  object \n",
      " 8   pollster          12624 non-null  object \n",
      " 9   grade             11337 non-null  object \n",
      " 10  samplesize        12621 non-null  float64\n",
      " 11  population        12624 non-null  object \n",
      " 12  poll_wt           12624 non-null  float64\n",
      " 13  rawpoll_clinton   12624 non-null  float64\n",
      " 14  rawpoll_trump     12624 non-null  float64\n",
      " 15  rawpoll_johnson   8397 non-null   float64\n",
      " 16  rawpoll_mcmullin  90 non-null     float64\n",
      " 17  adjpoll_clinton   12624 non-null  float64\n",
      " 18  adjpoll_trump     12624 non-null  float64\n",
      " 19  adjpoll_johnson   8397 non-null   float64\n",
      " 20  adjpoll_mcmullin  90 non-null     float64\n",
      " 21  multiversions     36 non-null     object \n",
      " 22  url               12621 non-null  object \n",
      " 23  poll_id           12624 non-null  int64  \n",
      " 24  question_id       12624 non-null  int64  \n",
      " 25  createddate       12624 non-null  object \n",
      " 26  timestamp         12624 non-null  object \n",
      "dtypes: float64(10), int64(3), object(14)\n",
      "memory usage: 12.9 MB\n"
     ]
    }
   ],
   "source": [
    "polls.info(verbose=True, memory_usage='deep', show_counts=True)"
   ]
  },
  {
   "cell_type": "code",
   "execution_count": 32,
   "metadata": {},
   "outputs": [
    {
     "name": "stdout",
     "output_type": "stream",
     "text": [
      "--- 1634671465.7511885 seconds ---\n"
     ]
    }
   ],
   "source": [
    "# NOTE: This may take a long time to run\n",
    "import time\n",
    "start = time.process_time()\n",
    "jobs = pd.read_excel(\"../data/oesm18all/all_data_M_2018.xlsx\") \n",
    "print(\"--- %s seconds ---\" % (time.time() - start))"
   ]
  },
  {
   "cell_type": "code",
   "execution_count": 33,
   "metadata": {},
   "outputs": [
    {
     "name": "stdout",
     "output_type": "stream",
     "text": [
      "<class 'pandas.core.frame.DataFrame'>\n",
      "RangeIndex: 403895 entries, 0 to 403894\n",
      "Data columns (total 31 columns):\n",
      " #   Column        Non-Null Count   Dtype  \n",
      "---  ------        --------------   -----  \n",
      " 0   area          403895 non-null  int64  \n",
      " 1   area_title    403895 non-null  object \n",
      " 2   area_type     403895 non-null  int64  \n",
      " 3   naics         403895 non-null  object \n",
      " 4   naics_title   403895 non-null  object \n",
      " 5   i_group       403895 non-null  object \n",
      " 6   own_code      403895 non-null  int64  \n",
      " 7   occ_code      403895 non-null  object \n",
      " 8   occ_title     403895 non-null  object \n",
      " 9   o_group       403895 non-null  object \n",
      " 10  tot_emp       403895 non-null  object \n",
      " 11  emp_prse      403895 non-null  object \n",
      " 12  jobs_1000     227944 non-null  object \n",
      " 13  loc_quotient  227944 non-null  object \n",
      " 14  pct_total     169080 non-null  object \n",
      " 15  h_mean        403895 non-null  object \n",
      " 16  a_mean        403895 non-null  object \n",
      " 17  mean_prse     403895 non-null  object \n",
      " 18  h_pct10       403895 non-null  object \n",
      " 19  h_pct25       403895 non-null  object \n",
      " 20  h_median      403895 non-null  object \n",
      " 21  h_pct75       403895 non-null  object \n",
      " 22  h_pct90       403895 non-null  object \n",
      " 23  a_pct10       403895 non-null  object \n",
      " 24  a_pct25       403895 non-null  object \n",
      " 25  a_median      403895 non-null  object \n",
      " 26  a_pct75       403895 non-null  object \n",
      " 27  a_pct90       403895 non-null  object \n",
      " 28  annual        15682 non-null   object \n",
      " 29  hourly        729 non-null     object \n",
      " 30  Unnamed: 30   0 non-null       float64\n",
      "dtypes: float64(1), int64(3), object(27)\n",
      "memory usage: 473.1 MB\n"
     ]
    }
   ],
   "source": [
    "jobs.info(verbose=True, memory_usage='deep', show_counts=True)"
   ]
  },
  {
   "cell_type": "markdown",
   "metadata": {},
   "source": [
    "## What the unique values can tell you"
   ]
  },
  {
   "cell_type": "code",
   "execution_count": 34,
   "metadata": {},
   "outputs": [
    {
     "data": {
      "text/plain": [
       "cycle                   1\n",
       "branch                  1\n",
       "type                    3\n",
       "matchup                 1\n",
       "forecastdate            1\n",
       "state                  57\n",
       "startdate             352\n",
       "enddate               345\n",
       "pollster              196\n",
       "grade                  10\n",
       "samplesize           1766\n",
       "population              4\n",
       "poll_wt              4399\n",
       "rawpoll_clinton      1312\n",
       "rawpoll_trump        1385\n",
       "rawpoll_johnson       584\n",
       "rawpoll_mcmullin       16\n",
       "adjpoll_clinton     12569\n",
       "adjpoll_trump       12582\n",
       "adjpoll_johnson      6629\n",
       "adjpoll_mcmullin       57\n",
       "multiversions           1\n",
       "url                  1304\n",
       "poll_id              4208\n",
       "question_id          4208\n",
       "createddate           222\n",
       "timestamp               3\n",
       "dtype: int64"
      ]
     },
     "execution_count": 34,
     "metadata": {},
     "output_type": "execute_result"
    }
   ],
   "source": [
    "# the number of unique values for each column\n",
    "# look closely at columns with fewer than 5 unique values\n",
    "# see p. 202-203 in textbook\n",
    "polls.nunique()"
   ]
  },
  {
   "cell_type": "code",
   "execution_count": 35,
   "metadata": {},
   "outputs": [
    {
     "data": {
      "text/plain": [
       "cycle                                                          [2016]\n",
       "branch                                                    [President]\n",
       "type                               [polls-plus, now-cast, polls-only]\n",
       "matchup                               [Clinton vs. Trump vs. Johnson]\n",
       "forecastdate                                                [11/8/16]\n",
       "state               [U.S., New Mexico, Virginia, Iowa, Wisconsin, ...\n",
       "startdate           [11/3/2016, 11/1/2016, 11/2/2016, 11/4/2016, 1...\n",
       "enddate             [11/6/2016, 11/7/2016, 11/5/2016, 11/4/2016, 1...\n",
       "pollster            [ABC News/Washington Post, Google Consumer Sur...\n",
       "grade                       [A+, B, A-, B-, A, nan, B+, C+, C-, C, D]\n",
       "samplesize          [2220.0, 26574.0, 2195.0, 3677.0, 16639.0, 129...\n",
       "population                                             [lv, rv, a, v]\n",
       "poll_wt             [8.720654, 7.628472, 6.424334, 6.087135, 5.316...\n",
       "rawpoll_clinton     [47.0, 38.03, 42.0, 45.0, 48.0, 44.0, 46.0, 41...\n",
       "rawpoll_trump       [43.0, 35.69, 39.0, 41.0, 44.0, 40.0, 42.7, 46...\n",
       "rawpoll_johnson     [4.0, 5.46, 6.0, 5.0, 3.0, 7.1, 1.0, 2.0, nan,...\n",
       "rawpoll_mcmullin    [nan, 24.0, 27.6, 24.52, 25.0, 21.0, 28.0, 30....\n",
       "adjpoll_clinton     [45.20163, 43.34557, 42.02638, 45.65676, 46.84...\n",
       "adjpoll_trump       [41.7243, 41.21439, 38.8162, 40.92004, 42.3318...\n",
       "adjpoll_johnson     [4.626221, 5.175792, 6.844734, 6.069454, 3.726...\n",
       "adjpoll_mcmullin    [nan, 24.0, 27.70142, 24.13522, 24.52, 25.0, 2...\n",
       "multiversions                                                [nan, *]\n",
       "url                 [https://www.washingtonpost.com/news/the-fix/w...\n",
       "poll_id             [48630, 48847, 48922, 48687, 48848, 48619, 485...\n",
       "question_id         [76192, 76443, 76636, 76262, 76444, 76163, 760...\n",
       "createddate         [11/7/16, 11/8/16, 11/6/16, 11/4/16, 11/5/16, ...\n",
       "timestamp           [09:35:33  8 Nov 2016, 09:24:53  8 Nov 2016, 0...\n",
       "dtype: object"
      ]
     },
     "execution_count": 35,
     "metadata": {},
     "output_type": "execute_result"
    }
   ],
   "source": [
    "# see the unique values in each column\n",
    "polls.apply(pd.unique)"
   ]
  },
  {
   "cell_type": "markdown",
   "metadata": {},
   "source": [
    "## What the value counts can tell you"
   ]
  },
  {
   "cell_type": "code",
   "execution_count": 36,
   "metadata": {},
   "outputs": [
    {
     "data": {
      "text/plain": [
       "U.S.              3318\n",
       "Florida            444\n",
       "North Carolina     375\n",
       "Pennsylvania       375\n",
       "Name: state, dtype: int64"
      ]
     },
     "execution_count": 36,
     "metadata": {},
     "output_type": "execute_result"
    }
   ],
   "source": [
    "polls.state.value_counts().head(4)"
   ]
  },
  {
   "cell_type": "code",
   "execution_count": 37,
   "metadata": {},
   "outputs": [
    {
     "data": {
      "text/plain": [
       "U.S.              0.262833\n",
       "Florida           0.035171\n",
       "North Carolina    0.029705\n",
       "Pennsylvania      0.029705\n",
       "Name: state, dtype: float64"
      ]
     },
     "execution_count": 37,
     "metadata": {},
     "output_type": "execute_result"
    }
   ],
   "source": [
    "polls.state.value_counts(normalize=True).head(4)"
   ]
  },
  {
   "cell_type": "code",
   "execution_count": 38,
   "metadata": {},
   "outputs": [
    {
     "data": {
      "text/plain": [
       "NaN    12588\n",
       "*         36\n",
       "Name: multiversions, dtype: int64"
      ]
     },
     "execution_count": 38,
     "metadata": {},
     "output_type": "execute_result"
    }
   ],
   "source": [
    "polls.multiversions.value_counts(dropna=False)"
   ]
  },
  {
   "cell_type": "code",
   "execution_count": 39,
   "metadata": {},
   "outputs": [
    {
     "data": {
      "text/plain": [
       "state          grade\n",
       "U.S.           A-       1215\n",
       "               C+        546\n",
       "               B         162\n",
       "               C-        126\n",
       "               A+        114\n",
       "                        ... \n",
       "Nebraska CD-1  B           3\n",
       "Indiana        A           3\n",
       "Nebraska CD-2  B           3\n",
       "Missouri       A           3\n",
       "Mississippi    C           3\n",
       "Length: 321, dtype: int64"
      ]
     },
     "execution_count": 39,
     "metadata": {},
     "output_type": "execute_result"
    }
   ],
   "source": [
    "polls[['state','grade']].value_counts()"
   ]
  },
  {
   "cell_type": "markdown",
   "metadata": {},
   "source": [
    "## How to drop rows"
   ]
  },
  {
   "cell_type": "code",
   "execution_count": 40,
   "metadata": {},
   "outputs": [],
   "source": [
    "#polls = polls[polls.type == 'now-cast']"
   ]
  },
  {
   "cell_type": "code",
   "execution_count": 41,
   "metadata": {},
   "outputs": [],
   "source": [
    "polls = polls.query('type == \"now-cast\"')"
   ]
  },
  {
   "cell_type": "code",
   "execution_count": 42,
   "metadata": {},
   "outputs": [],
   "source": [
    "import sqlite3\n",
    "fires_con = sqlite3.connect('../data/Data/FPA_FOD_20170508.sqlite')\n",
    "fires = pd.read_sql_query(\n",
    "    '''SELECT STATE, FIRE_YEAR, DATETIME(DISCOVERY_DATE) AS DISCOVERY_DATE,\n",
    "              FIRE_NAME, FIRE_SIZE, LATITUDE, LONGITUDE\n",
    "       FROM Fires''', fires_con)\n",
    "fires.columns = fires.columns.str.lower()"
   ]
  },
  {
   "cell_type": "code",
   "execution_count": 43,
   "metadata": {},
   "outputs": [
    {
     "data": {
      "text/html": [
       "<div>\n",
       "<style scoped>\n",
       "    .dataframe tbody tr th:only-of-type {\n",
       "        vertical-align: middle;\n",
       "    }\n",
       "\n",
       "    .dataframe tbody tr th {\n",
       "        vertical-align: top;\n",
       "    }\n",
       "\n",
       "    .dataframe thead th {\n",
       "        text-align: right;\n",
       "    }\n",
       "</style>\n",
       "<table border=\"1\" class=\"dataframe\">\n",
       "  <thead>\n",
       "    <tr style=\"text-align: right;\">\n",
       "      <th></th>\n",
       "      <th>state</th>\n",
       "      <th>fire_year</th>\n",
       "      <th>discovery_date</th>\n",
       "      <th>fire_name</th>\n",
       "      <th>fire_size</th>\n",
       "      <th>latitude</th>\n",
       "      <th>longitude</th>\n",
       "    </tr>\n",
       "  </thead>\n",
       "  <tbody>\n",
       "    <tr>\n",
       "      <th>48642</th>\n",
       "      <td>CA</td>\n",
       "      <td>1992</td>\n",
       "      <td>1992-06-28 00:00:00</td>\n",
       "      <td>None</td>\n",
       "      <td>0.1</td>\n",
       "      <td>36.021667</td>\n",
       "      <td>-118.805000</td>\n",
       "    </tr>\n",
       "    <tr>\n",
       "      <th>48644</th>\n",
       "      <td>CA</td>\n",
       "      <td>1992</td>\n",
       "      <td>1992-06-28 00:00:00</td>\n",
       "      <td>None</td>\n",
       "      <td>0.1</td>\n",
       "      <td>36.021667</td>\n",
       "      <td>-118.805000</td>\n",
       "    </tr>\n",
       "    <tr>\n",
       "      <th>71593</th>\n",
       "      <td>WA</td>\n",
       "      <td>1994</td>\n",
       "      <td>1994-08-06 00:00:00</td>\n",
       "      <td>None</td>\n",
       "      <td>0.1</td>\n",
       "      <td>46.441667</td>\n",
       "      <td>-121.783333</td>\n",
       "    </tr>\n",
       "    <tr>\n",
       "      <th>189841</th>\n",
       "      <td>WA</td>\n",
       "      <td>1992</td>\n",
       "      <td>1992-09-06 00:00:00</td>\n",
       "      <td>None</td>\n",
       "      <td>0.1</td>\n",
       "      <td>47.908200</td>\n",
       "      <td>-117.992700</td>\n",
       "    </tr>\n",
       "    <tr>\n",
       "      <th>193186</th>\n",
       "      <td>MT</td>\n",
       "      <td>1992</td>\n",
       "      <td>1992-08-14 00:00:00</td>\n",
       "      <td>None</td>\n",
       "      <td>2.0</td>\n",
       "      <td>45.083300</td>\n",
       "      <td>-107.534000</td>\n",
       "    </tr>\n",
       "    <tr>\n",
       "      <th>...</th>\n",
       "      <td>...</td>\n",
       "      <td>...</td>\n",
       "      <td>...</td>\n",
       "      <td>...</td>\n",
       "      <td>...</td>\n",
       "      <td>...</td>\n",
       "      <td>...</td>\n",
       "    </tr>\n",
       "    <tr>\n",
       "      <th>1871739</th>\n",
       "      <td>CA</td>\n",
       "      <td>2015</td>\n",
       "      <td>2015-12-20 00:00:00</td>\n",
       "      <td>DEER HOLLOW WY / PEPPERCO</td>\n",
       "      <td>0.1</td>\n",
       "      <td>33.458184</td>\n",
       "      <td>-117.086954</td>\n",
       "    </tr>\n",
       "    <tr>\n",
       "      <th>1871904</th>\n",
       "      <td>CA</td>\n",
       "      <td>2015</td>\n",
       "      <td>2015-12-20 00:00:00</td>\n",
       "      <td>DEER HOLLOW WY / PEPPERCO</td>\n",
       "      <td>0.1</td>\n",
       "      <td>33.458184</td>\n",
       "      <td>-117.086954</td>\n",
       "    </tr>\n",
       "    <tr>\n",
       "      <th>1872000</th>\n",
       "      <td>CA</td>\n",
       "      <td>2015</td>\n",
       "      <td>2015-12-20 00:00:00</td>\n",
       "      <td>DEER HOLLOW WY / PEPPERCO</td>\n",
       "      <td>0.1</td>\n",
       "      <td>33.458184</td>\n",
       "      <td>-117.086954</td>\n",
       "    </tr>\n",
       "    <tr>\n",
       "      <th>1876440</th>\n",
       "      <td>CA</td>\n",
       "      <td>2015</td>\n",
       "      <td>2015-05-19 00:00:00</td>\n",
       "      <td>None</td>\n",
       "      <td>1.0</td>\n",
       "      <td>34.003623</td>\n",
       "      <td>-117.167418</td>\n",
       "    </tr>\n",
       "    <tr>\n",
       "      <th>1878010</th>\n",
       "      <td>CA</td>\n",
       "      <td>2015</td>\n",
       "      <td>2015-05-19 00:00:00</td>\n",
       "      <td>None</td>\n",
       "      <td>1.0</td>\n",
       "      <td>34.003623</td>\n",
       "      <td>-117.167418</td>\n",
       "    </tr>\n",
       "  </tbody>\n",
       "</table>\n",
       "<p>3616 rows × 7 columns</p>\n",
       "</div>"
      ],
      "text/plain": [
       "        state  fire_year       discovery_date                  fire_name  \\\n",
       "48642      CA       1992  1992-06-28 00:00:00                       None   \n",
       "48644      CA       1992  1992-06-28 00:00:00                       None   \n",
       "71593      WA       1994  1994-08-06 00:00:00                       None   \n",
       "189841     WA       1992  1992-09-06 00:00:00                       None   \n",
       "193186     MT       1992  1992-08-14 00:00:00                       None   \n",
       "...       ...        ...                  ...                        ...   \n",
       "1871739    CA       2015  2015-12-20 00:00:00  DEER HOLLOW WY / PEPPERCO   \n",
       "1871904    CA       2015  2015-12-20 00:00:00  DEER HOLLOW WY / PEPPERCO   \n",
       "1872000    CA       2015  2015-12-20 00:00:00  DEER HOLLOW WY / PEPPERCO   \n",
       "1876440    CA       2015  2015-05-19 00:00:00                       None   \n",
       "1878010    CA       2015  2015-05-19 00:00:00                       None   \n",
       "\n",
       "         fire_size   latitude   longitude  \n",
       "48642          0.1  36.021667 -118.805000  \n",
       "48644          0.1  36.021667 -118.805000  \n",
       "71593          0.1  46.441667 -121.783333  \n",
       "189841         0.1  47.908200 -117.992700  \n",
       "193186         2.0  45.083300 -107.534000  \n",
       "...            ...        ...         ...  \n",
       "1871739        0.1  33.458184 -117.086954  \n",
       "1871904        0.1  33.458184 -117.086954  \n",
       "1872000        0.1  33.458184 -117.086954  \n",
       "1876440        1.0  34.003623 -117.167418  \n",
       "1878010        1.0  34.003623 -117.167418  \n",
       "\n",
       "[3616 rows x 7 columns]"
      ]
     },
     "execution_count": 43,
     "metadata": {},
     "output_type": "execute_result"
    }
   ],
   "source": [
    "fires[fires.duplicated(keep=False)]"
   ]
  },
  {
   "cell_type": "code",
   "execution_count": 44,
   "metadata": {},
   "outputs": [],
   "source": [
    "fires.drop_duplicates(keep='first', inplace=True)"
   ]
  },
  {
   "cell_type": "markdown",
   "metadata": {},
   "source": [
    "## How to drop columns"
   ]
  },
  {
   "cell_type": "code",
   "execution_count": 45,
   "metadata": {},
   "outputs": [
    {
     "data": {
      "text/plain": [
       "cycle                  1\n",
       "branch                 1\n",
       "type                   1\n",
       "matchup                1\n",
       "forecastdate           1\n",
       "state                 57\n",
       "startdate            352\n",
       "enddate              345\n",
       "pollster             196\n",
       "grade                 10\n",
       "samplesize          1766\n",
       "population             4\n",
       "poll_wt             3894\n",
       "rawpoll_clinton     1312\n",
       "rawpoll_trump       1385\n",
       "rawpoll_johnson      584\n",
       "rawpoll_mcmullin      16\n",
       "adjpoll_clinton     4202\n",
       "adjpoll_trump       4199\n",
       "adjpoll_johnson     2210\n",
       "adjpoll_mcmullin      30\n",
       "multiversions          1\n",
       "url                 1304\n",
       "poll_id             4208\n",
       "question_id         4208\n",
       "createddate          222\n",
       "timestamp              1\n",
       "dtype: int64"
      ]
     },
     "execution_count": 45,
     "metadata": {},
     "output_type": "execute_result"
    }
   ],
   "source": [
    "polls.nunique()"
   ]
  },
  {
   "cell_type": "code",
   "execution_count": 46,
   "metadata": {},
   "outputs": [],
   "source": [
    "#polls = polls.drop(columns=['cycle','forecastdate'])"
   ]
  },
  {
   "cell_type": "code",
   "execution_count": 47,
   "metadata": {},
   "outputs": [],
   "source": [
    "polls.drop(columns=['cycle','forecastdate'], errors='raise', inplace=True)"
   ]
  },
  {
   "cell_type": "markdown",
   "metadata": {},
   "source": [
    "## How to rename columns"
   ]
  },
  {
   "cell_type": "code",
   "execution_count": 48,
   "metadata": {},
   "outputs": [],
   "source": [
    "polls = polls.rename(columns={\n",
    "    'rawpoll_clinton':'clinton_pct',\n",
    "    'rawpoll_trump':'trump_pct'})"
   ]
  },
  {
   "cell_type": "code",
   "execution_count": 49,
   "metadata": {},
   "outputs": [],
   "source": [
    "polls_names_dict = {'rawpoll_clinton':'clinton_pct',\n",
    "                    'rawpoll_trump':'trump_pct'}\n",
    "polls.rename(columns = polls_names_dict, inplace = True)"
   ]
  },
  {
   "cell_type": "code",
   "execution_count": 50,
   "metadata": {},
   "outputs": [],
   "source": [
    "polls.columns = polls.columns.str.replace('_pct','')"
   ]
  },
  {
   "cell_type": "code",
   "execution_count": 51,
   "metadata": {},
   "outputs": [
    {
     "name": "stderr",
     "output_type": "stream",
     "text": [
      "<ipython-input-51-13880b04ae0c>:1: FutureWarning: The default value of regex will change from True to False in a future version.\n",
      "  jobs.columns = jobs.columns \\\n"
     ]
    }
   ],
   "source": [
    "jobs.columns = jobs.columns \\\n",
    "    .str.replace('^a_','annual_') \\\n",
    "    .str.replace('^h_','hourly_') \\\n",
    "    .str.replace('_pct','_percent')"
   ]
  },
  {
   "cell_type": "markdown",
   "metadata": {},
   "source": [
    "## How to find missing values"
   ]
  },
  {
   "cell_type": "code",
   "execution_count": 52,
   "metadata": {},
   "outputs": [],
   "source": [
    "mortality_data = pd.read_csv('mortality_missing_values.csv')"
   ]
  },
  {
   "cell_type": "code",
   "execution_count": 53,
   "metadata": {},
   "outputs": [
    {
     "data": {
      "text/html": [
       "<div>\n",
       "<style scoped>\n",
       "    .dataframe tbody tr th:only-of-type {\n",
       "        vertical-align: middle;\n",
       "    }\n",
       "\n",
       "    .dataframe tbody tr th {\n",
       "        vertical-align: top;\n",
       "    }\n",
       "\n",
       "    .dataframe thead th {\n",
       "        text-align: right;\n",
       "    }\n",
       "</style>\n",
       "<table border=\"1\" class=\"dataframe\">\n",
       "  <thead>\n",
       "    <tr style=\"text-align: right;\">\n",
       "      <th></th>\n",
       "      <th>Year</th>\n",
       "      <th>AgeGroup</th>\n",
       "      <th>DeathRate</th>\n",
       "    </tr>\n",
       "  </thead>\n",
       "  <tbody>\n",
       "    <tr>\n",
       "      <th>0</th>\n",
       "      <td>1900.0</td>\n",
       "      <td>01-04 Years</td>\n",
       "      <td>1983.8</td>\n",
       "    </tr>\n",
       "    <tr>\n",
       "      <th>1</th>\n",
       "      <td>NaN</td>\n",
       "      <td>01-04 Years</td>\n",
       "      <td>1695.0</td>\n",
       "    </tr>\n",
       "    <tr>\n",
       "      <th>2</th>\n",
       "      <td>1902.0</td>\n",
       "      <td>01-04 Years</td>\n",
       "      <td>NaN</td>\n",
       "    </tr>\n",
       "    <tr>\n",
       "      <th>3</th>\n",
       "      <td>1903.0</td>\n",
       "      <td>01-04 Years</td>\n",
       "      <td>1542.1</td>\n",
       "    </tr>\n",
       "    <tr>\n",
       "      <th>4</th>\n",
       "      <td>NaN</td>\n",
       "      <td>01-04 Years</td>\n",
       "      <td>NaN</td>\n",
       "    </tr>\n",
       "  </tbody>\n",
       "</table>\n",
       "</div>"
      ],
      "text/plain": [
       "     Year     AgeGroup  DeathRate\n",
       "0  1900.0  01-04 Years     1983.8\n",
       "1     NaN  01-04 Years     1695.0\n",
       "2  1902.0  01-04 Years        NaN\n",
       "3  1903.0  01-04 Years     1542.1\n",
       "4     NaN  01-04 Years        NaN"
      ]
     },
     "execution_count": 53,
     "metadata": {},
     "output_type": "execute_result"
    }
   ],
   "source": [
    "mortality_data.head(5)"
   ]
  },
  {
   "cell_type": "code",
   "execution_count": 54,
   "metadata": {},
   "outputs": [
    {
     "data": {
      "text/html": [
       "<div>\n",
       "<style scoped>\n",
       "    .dataframe tbody tr th:only-of-type {\n",
       "        vertical-align: middle;\n",
       "    }\n",
       "\n",
       "    .dataframe tbody tr th {\n",
       "        vertical-align: top;\n",
       "    }\n",
       "\n",
       "    .dataframe thead th {\n",
       "        text-align: right;\n",
       "    }\n",
       "</style>\n",
       "<table border=\"1\" class=\"dataframe\">\n",
       "  <thead>\n",
       "    <tr style=\"text-align: right;\">\n",
       "      <th></th>\n",
       "      <th>Year</th>\n",
       "      <th>AgeGroup</th>\n",
       "      <th>DeathRate</th>\n",
       "    </tr>\n",
       "  </thead>\n",
       "  <tbody>\n",
       "    <tr>\n",
       "      <th>5</th>\n",
       "      <td>1905.0</td>\n",
       "      <td>01-04 Years</td>\n",
       "      <td>1498.9</td>\n",
       "    </tr>\n",
       "    <tr>\n",
       "      <th>6</th>\n",
       "      <td>NaN</td>\n",
       "      <td>01-04 Years</td>\n",
       "      <td>NaN</td>\n",
       "    </tr>\n",
       "    <tr>\n",
       "      <th>7</th>\n",
       "      <td>1907.0</td>\n",
       "      <td>01-04 Years</td>\n",
       "      <td>NaN</td>\n",
       "    </tr>\n",
       "    <tr>\n",
       "      <th>8</th>\n",
       "      <td>1908.0</td>\n",
       "      <td>01-04 Years</td>\n",
       "      <td>1396.8</td>\n",
       "    </tr>\n",
       "    <tr>\n",
       "      <th>9</th>\n",
       "      <td>1909.0</td>\n",
       "      <td>01-04 Years</td>\n",
       "      <td>1348.9</td>\n",
       "    </tr>\n",
       "  </tbody>\n",
       "</table>\n",
       "</div>"
      ],
      "text/plain": [
       "     Year     AgeGroup  DeathRate\n",
       "5  1905.0  01-04 Years     1498.9\n",
       "6     NaN  01-04 Years        NaN\n",
       "7  1907.0  01-04 Years        NaN\n",
       "8  1908.0  01-04 Years     1396.8\n",
       "9  1909.0  01-04 Years     1348.9"
      ]
     },
     "execution_count": 54,
     "metadata": {},
     "output_type": "execute_result"
    }
   ],
   "source": [
    "mortality_data.loc[5:9]"
   ]
  },
  {
   "cell_type": "code",
   "execution_count": 55,
   "metadata": {},
   "outputs": [
    {
     "name": "stdout",
     "output_type": "stream",
     "text": [
      "Year         3\n",
      "AgeGroup     0\n",
      "DeathRate    4\n",
      "dtype: int64\n"
     ]
    }
   ],
   "source": [
    "missing_count = mortality_data.shape[0] - mortality_data.count()\n",
    "print(missing_count)"
   ]
  },
  {
   "cell_type": "code",
   "execution_count": 56,
   "metadata": {},
   "outputs": [
    {
     "data": {
      "text/html": [
       "<div>\n",
       "<style scoped>\n",
       "    .dataframe tbody tr th:only-of-type {\n",
       "        vertical-align: middle;\n",
       "    }\n",
       "\n",
       "    .dataframe tbody tr th {\n",
       "        vertical-align: top;\n",
       "    }\n",
       "\n",
       "    .dataframe thead th {\n",
       "        text-align: right;\n",
       "    }\n",
       "</style>\n",
       "<table border=\"1\" class=\"dataframe\">\n",
       "  <thead>\n",
       "    <tr style=\"text-align: right;\">\n",
       "      <th></th>\n",
       "      <th>Year</th>\n",
       "      <th>AgeGroup</th>\n",
       "      <th>DeathRate</th>\n",
       "    </tr>\n",
       "  </thead>\n",
       "  <tbody>\n",
       "    <tr>\n",
       "      <th>1</th>\n",
       "      <td>NaN</td>\n",
       "      <td>01-04 Years</td>\n",
       "      <td>1695.0</td>\n",
       "    </tr>\n",
       "    <tr>\n",
       "      <th>2</th>\n",
       "      <td>1902.0</td>\n",
       "      <td>01-04 Years</td>\n",
       "      <td>NaN</td>\n",
       "    </tr>\n",
       "    <tr>\n",
       "      <th>4</th>\n",
       "      <td>NaN</td>\n",
       "      <td>01-04 Years</td>\n",
       "      <td>NaN</td>\n",
       "    </tr>\n",
       "    <tr>\n",
       "      <th>6</th>\n",
       "      <td>NaN</td>\n",
       "      <td>01-04 Years</td>\n",
       "      <td>NaN</td>\n",
       "    </tr>\n",
       "    <tr>\n",
       "      <th>7</th>\n",
       "      <td>1907.0</td>\n",
       "      <td>01-04 Years</td>\n",
       "      <td>NaN</td>\n",
       "    </tr>\n",
       "  </tbody>\n",
       "</table>\n",
       "</div>"
      ],
      "text/plain": [
       "     Year     AgeGroup  DeathRate\n",
       "1     NaN  01-04 Years     1695.0\n",
       "2  1902.0  01-04 Years        NaN\n",
       "4     NaN  01-04 Years        NaN\n",
       "6     NaN  01-04 Years        NaN\n",
       "7  1907.0  01-04 Years        NaN"
      ]
     },
     "execution_count": 56,
     "metadata": {},
     "output_type": "execute_result"
    }
   ],
   "source": [
    "mortality_data[mortality_data.isnull().any(axis=1)]"
   ]
  },
  {
   "cell_type": "code",
   "execution_count": 57,
   "metadata": {},
   "outputs": [
    {
     "data": {
      "text/html": [
       "<div>\n",
       "<style scoped>\n",
       "    .dataframe tbody tr th:only-of-type {\n",
       "        vertical-align: middle;\n",
       "    }\n",
       "\n",
       "    .dataframe tbody tr th {\n",
       "        vertical-align: top;\n",
       "    }\n",
       "\n",
       "    .dataframe thead th {\n",
       "        text-align: right;\n",
       "    }\n",
       "</style>\n",
       "<table border=\"1\" class=\"dataframe\">\n",
       "  <thead>\n",
       "    <tr style=\"text-align: right;\">\n",
       "      <th></th>\n",
       "      <th>Year</th>\n",
       "      <th>AgeGroup</th>\n",
       "      <th>DeathRate</th>\n",
       "    </tr>\n",
       "  </thead>\n",
       "  <tbody>\n",
       "    <tr>\n",
       "      <th>2</th>\n",
       "      <td>1902.0</td>\n",
       "      <td>01-04 Years</td>\n",
       "      <td>NaN</td>\n",
       "    </tr>\n",
       "    <tr>\n",
       "      <th>4</th>\n",
       "      <td>NaN</td>\n",
       "      <td>01-04 Years</td>\n",
       "      <td>NaN</td>\n",
       "    </tr>\n",
       "    <tr>\n",
       "      <th>6</th>\n",
       "      <td>NaN</td>\n",
       "      <td>01-04 Years</td>\n",
       "      <td>NaN</td>\n",
       "    </tr>\n",
       "    <tr>\n",
       "      <th>7</th>\n",
       "      <td>1907.0</td>\n",
       "      <td>01-04 Years</td>\n",
       "      <td>NaN</td>\n",
       "    </tr>\n",
       "  </tbody>\n",
       "</table>\n",
       "</div>"
      ],
      "text/plain": [
       "     Year     AgeGroup  DeathRate\n",
       "2  1902.0  01-04 Years        NaN\n",
       "4     NaN  01-04 Years        NaN\n",
       "6     NaN  01-04 Years        NaN\n",
       "7  1907.0  01-04 Years        NaN"
      ]
     },
     "execution_count": 57,
     "metadata": {},
     "output_type": "execute_result"
    }
   ],
   "source": [
    "mortality_data[mortality_data.DeathRate.isnull()]"
   ]
  },
  {
   "cell_type": "code",
   "execution_count": 58,
   "metadata": {},
   "outputs": [
    {
     "data": {
      "text/html": [
       "<div>\n",
       "<style scoped>\n",
       "    .dataframe tbody tr th:only-of-type {\n",
       "        vertical-align: middle;\n",
       "    }\n",
       "\n",
       "    .dataframe tbody tr th {\n",
       "        vertical-align: top;\n",
       "    }\n",
       "\n",
       "    .dataframe thead th {\n",
       "        text-align: right;\n",
       "    }\n",
       "</style>\n",
       "<table border=\"1\" class=\"dataframe\">\n",
       "  <thead>\n",
       "    <tr style=\"text-align: right;\">\n",
       "      <th></th>\n",
       "      <th>Year</th>\n",
       "      <th>AgeGroup</th>\n",
       "      <th>DeathRate</th>\n",
       "    </tr>\n",
       "  </thead>\n",
       "  <tbody>\n",
       "    <tr>\n",
       "      <th>0</th>\n",
       "      <td>1900.0</td>\n",
       "      <td>01-04 Years</td>\n",
       "      <td>1983.8</td>\n",
       "    </tr>\n",
       "    <tr>\n",
       "      <th>1</th>\n",
       "      <td>NaN</td>\n",
       "      <td>01-04 Years</td>\n",
       "      <td>1695.0</td>\n",
       "    </tr>\n",
       "    <tr>\n",
       "      <th>3</th>\n",
       "      <td>1903.0</td>\n",
       "      <td>01-04 Years</td>\n",
       "      <td>1542.1</td>\n",
       "    </tr>\n",
       "    <tr>\n",
       "      <th>5</th>\n",
       "      <td>1905.0</td>\n",
       "      <td>01-04 Years</td>\n",
       "      <td>1498.9</td>\n",
       "    </tr>\n",
       "    <tr>\n",
       "      <th>8</th>\n",
       "      <td>1908.0</td>\n",
       "      <td>01-04 Years</td>\n",
       "      <td>1396.8</td>\n",
       "    </tr>\n",
       "    <tr>\n",
       "      <th>...</th>\n",
       "      <td>...</td>\n",
       "      <td>...</td>\n",
       "      <td>...</td>\n",
       "    </tr>\n",
       "    <tr>\n",
       "      <th>471</th>\n",
       "      <td>2014.0</td>\n",
       "      <td>15-19 Years</td>\n",
       "      <td>45.5</td>\n",
       "    </tr>\n",
       "    <tr>\n",
       "      <th>472</th>\n",
       "      <td>2015.0</td>\n",
       "      <td>15-19 Years</td>\n",
       "      <td>48.3</td>\n",
       "    </tr>\n",
       "    <tr>\n",
       "      <th>473</th>\n",
       "      <td>2016.0</td>\n",
       "      <td>15-19 Years</td>\n",
       "      <td>51.2</td>\n",
       "    </tr>\n",
       "    <tr>\n",
       "      <th>474</th>\n",
       "      <td>2017.0</td>\n",
       "      <td>15-19 Years</td>\n",
       "      <td>51.5</td>\n",
       "    </tr>\n",
       "    <tr>\n",
       "      <th>475</th>\n",
       "      <td>2018.0</td>\n",
       "      <td>15-19 Years</td>\n",
       "      <td>49.2</td>\n",
       "    </tr>\n",
       "  </tbody>\n",
       "</table>\n",
       "<p>472 rows × 3 columns</p>\n",
       "</div>"
      ],
      "text/plain": [
       "       Year     AgeGroup  DeathRate\n",
       "0    1900.0  01-04 Years     1983.8\n",
       "1       NaN  01-04 Years     1695.0\n",
       "3    1903.0  01-04 Years     1542.1\n",
       "5    1905.0  01-04 Years     1498.9\n",
       "8    1908.0  01-04 Years     1396.8\n",
       "..      ...          ...        ...\n",
       "471  2014.0  15-19 Years       45.5\n",
       "472  2015.0  15-19 Years       48.3\n",
       "473  2016.0  15-19 Years       51.2\n",
       "474  2017.0  15-19 Years       51.5\n",
       "475  2018.0  15-19 Years       49.2\n",
       "\n",
       "[472 rows x 3 columns]"
      ]
     },
     "execution_count": 58,
     "metadata": {},
     "output_type": "execute_result"
    }
   ],
   "source": [
    "mortality_data[mortality_data.DeathRate.notnull()]"
   ]
  },
  {
   "cell_type": "markdown",
   "metadata": {},
   "source": [
    "## How to drop rows with missing values"
   ]
  },
  {
   "cell_type": "code",
   "execution_count": 59,
   "metadata": {},
   "outputs": [
    {
     "data": {
      "text/html": [
       "<div>\n",
       "<style scoped>\n",
       "    .dataframe tbody tr th:only-of-type {\n",
       "        vertical-align: middle;\n",
       "    }\n",
       "\n",
       "    .dataframe tbody tr th {\n",
       "        vertical-align: top;\n",
       "    }\n",
       "\n",
       "    .dataframe thead th {\n",
       "        text-align: right;\n",
       "    }\n",
       "</style>\n",
       "<table border=\"1\" class=\"dataframe\">\n",
       "  <thead>\n",
       "    <tr style=\"text-align: right;\">\n",
       "      <th></th>\n",
       "      <th>Year</th>\n",
       "      <th>AgeGroup</th>\n",
       "      <th>DeathRate</th>\n",
       "    </tr>\n",
       "  </thead>\n",
       "  <tbody>\n",
       "    <tr>\n",
       "      <th>0</th>\n",
       "      <td>1900.0</td>\n",
       "      <td>01-04 Years</td>\n",
       "      <td>1983.8</td>\n",
       "    </tr>\n",
       "    <tr>\n",
       "      <th>3</th>\n",
       "      <td>1903.0</td>\n",
       "      <td>01-04 Years</td>\n",
       "      <td>1542.1</td>\n",
       "    </tr>\n",
       "    <tr>\n",
       "      <th>5</th>\n",
       "      <td>1905.0</td>\n",
       "      <td>01-04 Years</td>\n",
       "      <td>1498.9</td>\n",
       "    </tr>\n",
       "    <tr>\n",
       "      <th>8</th>\n",
       "      <td>1908.0</td>\n",
       "      <td>01-04 Years</td>\n",
       "      <td>1396.8</td>\n",
       "    </tr>\n",
       "    <tr>\n",
       "      <th>9</th>\n",
       "      <td>1909.0</td>\n",
       "      <td>01-04 Years</td>\n",
       "      <td>1348.9</td>\n",
       "    </tr>\n",
       "  </tbody>\n",
       "</table>\n",
       "</div>"
      ],
      "text/plain": [
       "     Year     AgeGroup  DeathRate\n",
       "0  1900.0  01-04 Years     1983.8\n",
       "3  1903.0  01-04 Years     1542.1\n",
       "5  1905.0  01-04 Years     1498.9\n",
       "8  1908.0  01-04 Years     1396.8\n",
       "9  1909.0  01-04 Years     1348.9"
      ]
     },
     "execution_count": 59,
     "metadata": {},
     "output_type": "execute_result"
    }
   ],
   "source": [
    "mortality_data = mortality_data.dropna()\n",
    "mortality_data.head()"
   ]
  },
  {
   "cell_type": "code",
   "execution_count": 60,
   "metadata": {},
   "outputs": [],
   "source": [
    "mortality_data.dropna(thresh=2, inplace=True)"
   ]
  },
  {
   "cell_type": "code",
   "execution_count": 61,
   "metadata": {},
   "outputs": [],
   "source": [
    "mortality_data.dropna(subset=['DeathRate'], inplace=True)"
   ]
  },
  {
   "cell_type": "markdown",
   "metadata": {},
   "source": [
    "## How to fill missing values"
   ]
  },
  {
   "cell_type": "code",
   "execution_count": 62,
   "metadata": {},
   "outputs": [
    {
     "data": {
      "text/html": [
       "<div>\n",
       "<style scoped>\n",
       "    .dataframe tbody tr th:only-of-type {\n",
       "        vertical-align: middle;\n",
       "    }\n",
       "\n",
       "    .dataframe tbody tr th {\n",
       "        vertical-align: top;\n",
       "    }\n",
       "\n",
       "    .dataframe thead th {\n",
       "        text-align: right;\n",
       "    }\n",
       "</style>\n",
       "<table border=\"1\" class=\"dataframe\">\n",
       "  <thead>\n",
       "    <tr style=\"text-align: right;\">\n",
       "      <th></th>\n",
       "      <th>Year</th>\n",
       "      <th>AgeGroup</th>\n",
       "      <th>DeathRate</th>\n",
       "    </tr>\n",
       "  </thead>\n",
       "  <tbody>\n",
       "    <tr>\n",
       "      <th>0</th>\n",
       "      <td>1900.0</td>\n",
       "      <td>01-04 Years</td>\n",
       "      <td>1983.8</td>\n",
       "    </tr>\n",
       "    <tr>\n",
       "      <th>1</th>\n",
       "      <td>NaN</td>\n",
       "      <td>01-04 Years</td>\n",
       "      <td>1695.0</td>\n",
       "    </tr>\n",
       "    <tr>\n",
       "      <th>2</th>\n",
       "      <td>1902.0</td>\n",
       "      <td>01-04 Years</td>\n",
       "      <td>NaN</td>\n",
       "    </tr>\n",
       "    <tr>\n",
       "      <th>3</th>\n",
       "      <td>1903.0</td>\n",
       "      <td>01-04 Years</td>\n",
       "      <td>1542.1</td>\n",
       "    </tr>\n",
       "    <tr>\n",
       "      <th>4</th>\n",
       "      <td>NaN</td>\n",
       "      <td>01-04 Years</td>\n",
       "      <td>NaN</td>\n",
       "    </tr>\n",
       "  </tbody>\n",
       "</table>\n",
       "</div>"
      ],
      "text/plain": [
       "     Year     AgeGroup  DeathRate\n",
       "0  1900.0  01-04 Years     1983.8\n",
       "1     NaN  01-04 Years     1695.0\n",
       "2  1902.0  01-04 Years        NaN\n",
       "3  1903.0  01-04 Years     1542.1\n",
       "4     NaN  01-04 Years        NaN"
      ]
     },
     "execution_count": 62,
     "metadata": {},
     "output_type": "execute_result"
    }
   ],
   "source": [
    "mortality_data = pd.read_csv('mortality_missing_values.csv')\n",
    "mortality_data.head()"
   ]
  },
  {
   "cell_type": "code",
   "execution_count": 63,
   "metadata": {},
   "outputs": [
    {
     "data": {
      "text/html": [
       "<div>\n",
       "<style scoped>\n",
       "    .dataframe tbody tr th:only-of-type {\n",
       "        vertical-align: middle;\n",
       "    }\n",
       "\n",
       "    .dataframe tbody tr th {\n",
       "        vertical-align: top;\n",
       "    }\n",
       "\n",
       "    .dataframe thead th {\n",
       "        text-align: right;\n",
       "    }\n",
       "</style>\n",
       "<table border=\"1\" class=\"dataframe\">\n",
       "  <thead>\n",
       "    <tr style=\"text-align: right;\">\n",
       "      <th></th>\n",
       "      <th>Year</th>\n",
       "      <th>AgeGroup</th>\n",
       "      <th>DeathRate</th>\n",
       "    </tr>\n",
       "  </thead>\n",
       "  <tbody>\n",
       "    <tr>\n",
       "      <th>0</th>\n",
       "      <td>1900.0</td>\n",
       "      <td>01-04 Years</td>\n",
       "      <td>1983.800000</td>\n",
       "    </tr>\n",
       "    <tr>\n",
       "      <th>1</th>\n",
       "      <td>NaN</td>\n",
       "      <td>01-04 Years</td>\n",
       "      <td>1695.000000</td>\n",
       "    </tr>\n",
       "    <tr>\n",
       "      <th>2</th>\n",
       "      <td>1902.0</td>\n",
       "      <td>01-04 Years</td>\n",
       "      <td>181.221186</td>\n",
       "    </tr>\n",
       "    <tr>\n",
       "      <th>3</th>\n",
       "      <td>1903.0</td>\n",
       "      <td>01-04 Years</td>\n",
       "      <td>1542.100000</td>\n",
       "    </tr>\n",
       "  </tbody>\n",
       "</table>\n",
       "</div>"
      ],
      "text/plain": [
       "     Year     AgeGroup    DeathRate\n",
       "0  1900.0  01-04 Years  1983.800000\n",
       "1     NaN  01-04 Years  1695.000000\n",
       "2  1902.0  01-04 Years   181.221186\n",
       "3  1903.0  01-04 Years  1542.100000"
      ]
     },
     "execution_count": 63,
     "metadata": {},
     "output_type": "execute_result"
    }
   ],
   "source": [
    "mortality_data.DeathRate.fillna(value=mortality_data.DeathRate.mean(), inplace=True)\n",
    "mortality_data.head(4)"
   ]
  },
  {
   "cell_type": "code",
   "execution_count": 64,
   "metadata": {},
   "outputs": [
    {
     "data": {
      "text/html": [
       "<div>\n",
       "<style scoped>\n",
       "    .dataframe tbody tr th:only-of-type {\n",
       "        vertical-align: middle;\n",
       "    }\n",
       "\n",
       "    .dataframe tbody tr th {\n",
       "        vertical-align: top;\n",
       "    }\n",
       "\n",
       "    .dataframe thead th {\n",
       "        text-align: right;\n",
       "    }\n",
       "</style>\n",
       "<table border=\"1\" class=\"dataframe\">\n",
       "  <thead>\n",
       "    <tr style=\"text-align: right;\">\n",
       "      <th></th>\n",
       "      <th>Year</th>\n",
       "      <th>AgeGroup</th>\n",
       "      <th>DeathRate</th>\n",
       "    </tr>\n",
       "  </thead>\n",
       "  <tbody>\n",
       "    <tr>\n",
       "      <th>0</th>\n",
       "      <td>1900.0</td>\n",
       "      <td>01-04 Years</td>\n",
       "      <td>1983.8</td>\n",
       "    </tr>\n",
       "    <tr>\n",
       "      <th>1</th>\n",
       "      <td>1900.0</td>\n",
       "      <td>01-04 Years</td>\n",
       "      <td>1695.0</td>\n",
       "    </tr>\n",
       "    <tr>\n",
       "      <th>2</th>\n",
       "      <td>1902.0</td>\n",
       "      <td>01-04 Years</td>\n",
       "      <td>1695.0</td>\n",
       "    </tr>\n",
       "    <tr>\n",
       "      <th>3</th>\n",
       "      <td>1903.0</td>\n",
       "      <td>01-04 Years</td>\n",
       "      <td>1542.1</td>\n",
       "    </tr>\n",
       "  </tbody>\n",
       "</table>\n",
       "</div>"
      ],
      "text/plain": [
       "     Year     AgeGroup  DeathRate\n",
       "0  1900.0  01-04 Years     1983.8\n",
       "1  1900.0  01-04 Years     1695.0\n",
       "2  1902.0  01-04 Years     1695.0\n",
       "3  1903.0  01-04 Years     1542.1"
      ]
     },
     "execution_count": 64,
     "metadata": {},
     "output_type": "execute_result"
    }
   ],
   "source": [
    "mortality_data = pd.read_csv('mortality_missing_values.csv')\n",
    "mortality_data.fillna(method = 'ffill', limit=2, inplace=True)\n",
    "mortality_data.head(4)"
   ]
  },
  {
   "cell_type": "code",
   "execution_count": 65,
   "metadata": {},
   "outputs": [
    {
     "data": {
      "text/html": [
       "<div>\n",
       "<style scoped>\n",
       "    .dataframe tbody tr th:only-of-type {\n",
       "        vertical-align: middle;\n",
       "    }\n",
       "\n",
       "    .dataframe tbody tr th {\n",
       "        vertical-align: top;\n",
       "    }\n",
       "\n",
       "    .dataframe thead th {\n",
       "        text-align: right;\n",
       "    }\n",
       "</style>\n",
       "<table border=\"1\" class=\"dataframe\">\n",
       "  <thead>\n",
       "    <tr style=\"text-align: right;\">\n",
       "      <th></th>\n",
       "      <th>Year</th>\n",
       "      <th>AgeGroup</th>\n",
       "      <th>DeathRate</th>\n",
       "    </tr>\n",
       "  </thead>\n",
       "  <tbody>\n",
       "    <tr>\n",
       "      <th>0</th>\n",
       "      <td>1900.0</td>\n",
       "      <td>01-04 Years</td>\n",
       "      <td>1983.80</td>\n",
       "    </tr>\n",
       "    <tr>\n",
       "      <th>1</th>\n",
       "      <td>1901.0</td>\n",
       "      <td>01-04 Years</td>\n",
       "      <td>1695.00</td>\n",
       "    </tr>\n",
       "    <tr>\n",
       "      <th>2</th>\n",
       "      <td>1902.0</td>\n",
       "      <td>01-04 Years</td>\n",
       "      <td>1618.55</td>\n",
       "    </tr>\n",
       "    <tr>\n",
       "      <th>3</th>\n",
       "      <td>1903.0</td>\n",
       "      <td>01-04 Years</td>\n",
       "      <td>1542.10</td>\n",
       "    </tr>\n",
       "  </tbody>\n",
       "</table>\n",
       "</div>"
      ],
      "text/plain": [
       "     Year     AgeGroup  DeathRate\n",
       "0  1900.0  01-04 Years    1983.80\n",
       "1  1901.0  01-04 Years    1695.00\n",
       "2  1902.0  01-04 Years    1618.55\n",
       "3  1903.0  01-04 Years    1542.10"
      ]
     },
     "execution_count": 65,
     "metadata": {},
     "output_type": "execute_result"
    }
   ],
   "source": [
    "mortality_data = pd.read_csv('mortality_missing_values.csv')\n",
    "mortality_data = mortality_data.interpolate()\n",
    "mortality_data.head(4)"
   ]
  },
  {
   "cell_type": "markdown",
   "metadata": {},
   "source": [
    "## How to find date and number columns that are imported as objects"
   ]
  },
  {
   "cell_type": "code",
   "execution_count": 66,
   "metadata": {},
   "outputs": [
    {
     "data": {
      "text/html": [
       "<div>\n",
       "<style scoped>\n",
       "    .dataframe tbody tr th:only-of-type {\n",
       "        vertical-align: middle;\n",
       "    }\n",
       "\n",
       "    .dataframe tbody tr th {\n",
       "        vertical-align: top;\n",
       "    }\n",
       "\n",
       "    .dataframe thead th {\n",
       "        text-align: right;\n",
       "    }\n",
       "</style>\n",
       "<table border=\"1\" class=\"dataframe\">\n",
       "  <thead>\n",
       "    <tr style=\"text-align: right;\">\n",
       "      <th></th>\n",
       "      <th>branch</th>\n",
       "      <th>type</th>\n",
       "      <th>matchup</th>\n",
       "      <th>state</th>\n",
       "      <th>startdate</th>\n",
       "      <th>enddate</th>\n",
       "      <th>pollster</th>\n",
       "      <th>grade</th>\n",
       "      <th>population</th>\n",
       "      <th>multiversions</th>\n",
       "      <th>url</th>\n",
       "      <th>createddate</th>\n",
       "      <th>timestamp</th>\n",
       "    </tr>\n",
       "  </thead>\n",
       "  <tbody>\n",
       "    <tr>\n",
       "      <th>4208</th>\n",
       "      <td>President</td>\n",
       "      <td>now-cast</td>\n",
       "      <td>Clinton vs. Trump vs. Johnson</td>\n",
       "      <td>U.S.</td>\n",
       "      <td>11/3/2016</td>\n",
       "      <td>11/6/2016</td>\n",
       "      <td>ABC News/Washington Post</td>\n",
       "      <td>A+</td>\n",
       "      <td>lv</td>\n",
       "      <td>NaN</td>\n",
       "      <td>https://www.washingtonpost.com/news/the-fix/wp...</td>\n",
       "      <td>11/7/16</td>\n",
       "      <td>09:24:53  8 Nov 2016</td>\n",
       "    </tr>\n",
       "    <tr>\n",
       "      <th>4209</th>\n",
       "      <td>President</td>\n",
       "      <td>now-cast</td>\n",
       "      <td>Clinton vs. Trump vs. Johnson</td>\n",
       "      <td>U.S.</td>\n",
       "      <td>11/1/2016</td>\n",
       "      <td>11/7/2016</td>\n",
       "      <td>Google Consumer Surveys</td>\n",
       "      <td>B</td>\n",
       "      <td>lv</td>\n",
       "      <td>NaN</td>\n",
       "      <td>https://datastudio.google.com/u/0/#/org//repor...</td>\n",
       "      <td>11/7/16</td>\n",
       "      <td>09:24:53  8 Nov 2016</td>\n",
       "    </tr>\n",
       "  </tbody>\n",
       "</table>\n",
       "</div>"
      ],
      "text/plain": [
       "         branch      type                        matchup state  startdate  \\\n",
       "4208  President  now-cast  Clinton vs. Trump vs. Johnson  U.S.  11/3/2016   \n",
       "4209  President  now-cast  Clinton vs. Trump vs. Johnson  U.S.  11/1/2016   \n",
       "\n",
       "        enddate                  pollster grade population multiversions  \\\n",
       "4208  11/6/2016  ABC News/Washington Post    A+         lv           NaN   \n",
       "4209  11/7/2016   Google Consumer Surveys     B         lv           NaN   \n",
       "\n",
       "                                                    url createddate  \\\n",
       "4208  https://www.washingtonpost.com/news/the-fix/wp...     11/7/16   \n",
       "4209  https://datastudio.google.com/u/0/#/org//repor...     11/7/16   \n",
       "\n",
       "                 timestamp  \n",
       "4208  09:24:53  8 Nov 2016  \n",
       "4209  09:24:53  8 Nov 2016  "
      ]
     },
     "execution_count": 66,
     "metadata": {},
     "output_type": "execute_result"
    }
   ],
   "source": [
    "polls.select_dtypes('object').head(2)"
   ]
  },
  {
   "cell_type": "code",
   "execution_count": 67,
   "metadata": {},
   "outputs": [
    {
     "data": {
      "text/html": [
       "<div>\n",
       "<style scoped>\n",
       "    .dataframe tbody tr th:only-of-type {\n",
       "        vertical-align: middle;\n",
       "    }\n",
       "\n",
       "    .dataframe tbody tr th {\n",
       "        vertical-align: top;\n",
       "    }\n",
       "\n",
       "    .dataframe thead th {\n",
       "        text-align: right;\n",
       "    }\n",
       "</style>\n",
       "<table border=\"1\" class=\"dataframe\">\n",
       "  <thead>\n",
       "    <tr style=\"text-align: right;\">\n",
       "      <th></th>\n",
       "      <th>area_title</th>\n",
       "      <th>naics</th>\n",
       "      <th>naics_title</th>\n",
       "      <th>i_group</th>\n",
       "      <th>occ_code</th>\n",
       "      <th>occ_title</th>\n",
       "      <th>o_group</th>\n",
       "      <th>tot_emp</th>\n",
       "      <th>emp_prse</th>\n",
       "      <th>jobs_1000</th>\n",
       "      <th>...</th>\n",
       "      <th>hourly_median</th>\n",
       "      <th>hourly_percent75</th>\n",
       "      <th>hourly_percent90</th>\n",
       "      <th>annual_percent10</th>\n",
       "      <th>annual_percent25</th>\n",
       "      <th>annual_median</th>\n",
       "      <th>annual_percent75</th>\n",
       "      <th>annual_percent90</th>\n",
       "      <th>annual</th>\n",
       "      <th>hourly</th>\n",
       "    </tr>\n",
       "  </thead>\n",
       "  <tbody>\n",
       "    <tr>\n",
       "      <th>0</th>\n",
       "      <td>U.S.</td>\n",
       "      <td>000000</td>\n",
       "      <td>Cross-industry</td>\n",
       "      <td>cross-industry</td>\n",
       "      <td>00-0000</td>\n",
       "      <td>All Occupations</td>\n",
       "      <td>total</td>\n",
       "      <td>144733270</td>\n",
       "      <td>0.1</td>\n",
       "      <td>NaN</td>\n",
       "      <td>...</td>\n",
       "      <td>18.58</td>\n",
       "      <td>30.06</td>\n",
       "      <td>47.31</td>\n",
       "      <td>20690</td>\n",
       "      <td>25740</td>\n",
       "      <td>38640</td>\n",
       "      <td>62510</td>\n",
       "      <td>98410</td>\n",
       "      <td>NaN</td>\n",
       "      <td>NaN</td>\n",
       "    </tr>\n",
       "    <tr>\n",
       "      <th>1</th>\n",
       "      <td>U.S.</td>\n",
       "      <td>000000</td>\n",
       "      <td>Cross-industry</td>\n",
       "      <td>cross-industry</td>\n",
       "      <td>11-0000</td>\n",
       "      <td>Management Occupations</td>\n",
       "      <td>major</td>\n",
       "      <td>7616650</td>\n",
       "      <td>0.2</td>\n",
       "      <td>NaN</td>\n",
       "      <td>...</td>\n",
       "      <td>50.11</td>\n",
       "      <td>72.93</td>\n",
       "      <td>#</td>\n",
       "      <td>49260</td>\n",
       "      <td>70880</td>\n",
       "      <td>104240</td>\n",
       "      <td>151700</td>\n",
       "      <td>#</td>\n",
       "      <td>NaN</td>\n",
       "      <td>NaN</td>\n",
       "    </tr>\n",
       "  </tbody>\n",
       "</table>\n",
       "<p>2 rows × 27 columns</p>\n",
       "</div>"
      ],
      "text/plain": [
       "  area_title   naics     naics_title         i_group occ_code  \\\n",
       "0       U.S.  000000  Cross-industry  cross-industry  00-0000   \n",
       "1       U.S.  000000  Cross-industry  cross-industry  11-0000   \n",
       "\n",
       "                occ_title o_group    tot_emp emp_prse jobs_1000  ...  \\\n",
       "0         All Occupations   total  144733270      0.1       NaN  ...   \n",
       "1  Management Occupations   major    7616650      0.2       NaN  ...   \n",
       "\n",
       "  hourly_median hourly_percent75 hourly_percent90 annual_percent10  \\\n",
       "0         18.58            30.06            47.31            20690   \n",
       "1         50.11            72.93                #            49260   \n",
       "\n",
       "  annual_percent25 annual_median annual_percent75 annual_percent90 annual  \\\n",
       "0            25740         38640            62510            98410    NaN   \n",
       "1            70880        104240           151700                #    NaN   \n",
       "\n",
       "  hourly  \n",
       "0    NaN  \n",
       "1    NaN  \n",
       "\n",
       "[2 rows x 27 columns]"
      ]
     },
     "execution_count": 67,
     "metadata": {},
     "output_type": "execute_result"
    }
   ],
   "source": [
    "jobs.select_dtypes('object').head(2)"
   ]
  },
  {
   "cell_type": "markdown",
   "metadata": {},
   "source": [
    "## How to convert date and time strings to the datetime data type"
   ]
  },
  {
   "cell_type": "code",
   "execution_count": 68,
   "metadata": {},
   "outputs": [
    {
     "data": {
      "text/html": [
       "<div>\n",
       "<style scoped>\n",
       "    .dataframe tbody tr th:only-of-type {\n",
       "        vertical-align: middle;\n",
       "    }\n",
       "\n",
       "    .dataframe tbody tr th {\n",
       "        vertical-align: top;\n",
       "    }\n",
       "\n",
       "    .dataframe thead th {\n",
       "        text-align: right;\n",
       "    }\n",
       "</style>\n",
       "<table border=\"1\" class=\"dataframe\">\n",
       "  <thead>\n",
       "    <tr style=\"text-align: right;\">\n",
       "      <th></th>\n",
       "      <th>startdate</th>\n",
       "      <th>enddate</th>\n",
       "      <th>createddate</th>\n",
       "      <th>timestamp</th>\n",
       "    </tr>\n",
       "  </thead>\n",
       "  <tbody>\n",
       "    <tr>\n",
       "      <th>4208</th>\n",
       "      <td>11/3/2016</td>\n",
       "      <td>11/6/2016</td>\n",
       "      <td>11/7/16</td>\n",
       "      <td>09:24:53  8 Nov 2016</td>\n",
       "    </tr>\n",
       "    <tr>\n",
       "      <th>4209</th>\n",
       "      <td>11/1/2016</td>\n",
       "      <td>11/7/2016</td>\n",
       "      <td>11/7/16</td>\n",
       "      <td>09:24:53  8 Nov 2016</td>\n",
       "    </tr>\n",
       "  </tbody>\n",
       "</table>\n",
       "</div>"
      ],
      "text/plain": [
       "      startdate    enddate createddate             timestamp\n",
       "4208  11/3/2016  11/6/2016     11/7/16  09:24:53  8 Nov 2016\n",
       "4209  11/1/2016  11/7/2016     11/7/16  09:24:53  8 Nov 2016"
      ]
     },
     "execution_count": 68,
     "metadata": {},
     "output_type": "execute_result"
    }
   ],
   "source": [
    "date_cols = ['startdate','enddate','createddate','timestamp']\n",
    "polls[date_cols].head(2)"
   ]
  },
  {
   "cell_type": "code",
   "execution_count": 69,
   "metadata": {},
   "outputs": [
    {
     "data": {
      "text/html": [
       "<div>\n",
       "<style scoped>\n",
       "    .dataframe tbody tr th:only-of-type {\n",
       "        vertical-align: middle;\n",
       "    }\n",
       "\n",
       "    .dataframe tbody tr th {\n",
       "        vertical-align: top;\n",
       "    }\n",
       "\n",
       "    .dataframe thead th {\n",
       "        text-align: right;\n",
       "    }\n",
       "</style>\n",
       "<table border=\"1\" class=\"dataframe\">\n",
       "  <thead>\n",
       "    <tr style=\"text-align: right;\">\n",
       "      <th></th>\n",
       "      <th>startdate</th>\n",
       "      <th>enddate</th>\n",
       "      <th>createddate</th>\n",
       "      <th>timestamp</th>\n",
       "    </tr>\n",
       "  </thead>\n",
       "  <tbody>\n",
       "    <tr>\n",
       "      <th>4208</th>\n",
       "      <td>2016-11-03</td>\n",
       "      <td>2016-11-06</td>\n",
       "      <td>2016-11-07</td>\n",
       "      <td>2016-11-08 09:24:53</td>\n",
       "    </tr>\n",
       "    <tr>\n",
       "      <th>4209</th>\n",
       "      <td>2016-11-01</td>\n",
       "      <td>2016-11-07</td>\n",
       "      <td>2016-11-07</td>\n",
       "      <td>2016-11-08 09:24:53</td>\n",
       "    </tr>\n",
       "  </tbody>\n",
       "</table>\n",
       "</div>"
      ],
      "text/plain": [
       "      startdate    enddate createddate           timestamp\n",
       "4208 2016-11-03 2016-11-06  2016-11-07 2016-11-08 09:24:53\n",
       "4209 2016-11-01 2016-11-07  2016-11-07 2016-11-08 09:24:53"
      ]
     },
     "execution_count": 69,
     "metadata": {},
     "output_type": "execute_result"
    }
   ],
   "source": [
    "polls[date_cols] = polls[date_cols].apply(pd.to_datetime)\n",
    "polls[date_cols].head(2)"
   ]
  },
  {
   "cell_type": "code",
   "execution_count": 70,
   "metadata": {},
   "outputs": [
    {
     "data": {
      "text/html": [
       "<div>\n",
       "<style scoped>\n",
       "    .dataframe tbody tr th:only-of-type {\n",
       "        vertical-align: middle;\n",
       "    }\n",
       "\n",
       "    .dataframe tbody tr th {\n",
       "        vertical-align: top;\n",
       "    }\n",
       "\n",
       "    .dataframe thead th {\n",
       "        text-align: right;\n",
       "    }\n",
       "</style>\n",
       "<table border=\"1\" class=\"dataframe\">\n",
       "  <thead>\n",
       "    <tr style=\"text-align: right;\">\n",
       "      <th></th>\n",
       "      <th>startdate</th>\n",
       "      <th>enddate</th>\n",
       "      <th>createddate</th>\n",
       "      <th>timestamp</th>\n",
       "    </tr>\n",
       "  </thead>\n",
       "  <tbody>\n",
       "    <tr>\n",
       "      <th>4208</th>\n",
       "      <td>11/03/2016</td>\n",
       "      <td>11-06-16</td>\n",
       "      <td>2016-11-07</td>\n",
       "      <td>2016-11-08 09:24:53</td>\n",
       "    </tr>\n",
       "    <tr>\n",
       "      <th>4209</th>\n",
       "      <td>11/01/2016</td>\n",
       "      <td>11-07-16</td>\n",
       "      <td>2016-11-07</td>\n",
       "      <td>2016-11-08 09:24:53</td>\n",
       "    </tr>\n",
       "  </tbody>\n",
       "</table>\n",
       "</div>"
      ],
      "text/plain": [
       "       startdate   enddate createddate           timestamp\n",
       "4208  11/03/2016  11-06-16  2016-11-07 2016-11-08 09:24:53\n",
       "4209  11/01/2016  11-07-16  2016-11-07 2016-11-08 09:24:53"
      ]
     },
     "execution_count": 70,
     "metadata": {},
     "output_type": "execute_result"
    }
   ],
   "source": [
    "polls['startdate'] = polls.startdate.dt.strftime(\"%m/%d/%Y\")\n",
    "polls['enddate'] = polls.enddate.dt.strftime(\"%m-%d-%y\")\n",
    "polls[date_cols].head(2)"
   ]
  },
  {
   "cell_type": "markdown",
   "metadata": {},
   "source": [
    "## How to convert object columns to numeric data types"
   ]
  },
  {
   "cell_type": "code",
   "execution_count": 71,
   "metadata": {},
   "outputs": [],
   "source": [
    "# pd.to_numeric(jobs.tot_emp)"
   ]
  },
  {
   "cell_type": "code",
   "execution_count": 72,
   "metadata": {},
   "outputs": [
    {
     "data": {
      "text/plain": [
       "403892    170\n",
       "403893    130\n",
       "403894     **\n",
       "Name: tot_emp, dtype: object"
      ]
     },
     "execution_count": 72,
     "metadata": {},
     "output_type": "execute_result"
    }
   ],
   "source": [
    "jobs.tot_emp.tail(3)"
   ]
  },
  {
   "cell_type": "code",
   "execution_count": 73,
   "metadata": {},
   "outputs": [
    {
     "data": {
      "text/plain": [
       "403892    170.0\n",
       "403893    130.0\n",
       "403894      NaN\n",
       "Name: tot_emp, dtype: float64"
      ]
     },
     "execution_count": 73,
     "metadata": {},
     "output_type": "execute_result"
    }
   ],
   "source": [
    "pd.to_numeric(jobs.tot_emp, errors='coerce').tail(3)"
   ]
  },
  {
   "cell_type": "markdown",
   "metadata": {},
   "source": [
    "## How to work with the category data type"
   ]
  },
  {
   "cell_type": "code",
   "execution_count": 74,
   "metadata": {},
   "outputs": [],
   "source": [
    "fires.state = fires.state.astype('category')"
   ]
  },
  {
   "cell_type": "code",
   "execution_count": 75,
   "metadata": {},
   "outputs": [
    {
     "ename": "FileNotFoundError",
     "evalue": "[Errno 2] No such file or directory: '../../data/GSS7218_R3.DTA'",
     "output_type": "error",
     "traceback": [
      "\u001b[1;31m---------------------------------------------------------------------------\u001b[0m",
      "\u001b[1;31mFileNotFoundError\u001b[0m                         Traceback (most recent call last)",
      "\u001b[1;32m<ipython-input-75-9b9d03160709>\u001b[0m in \u001b[0;36m<module>\u001b[1;34m\u001b[0m\n\u001b[1;32m----> 1\u001b[1;33m \u001b[0mstatCounts\u001b[0m \u001b[1;33m=\u001b[0m \u001b[0mpd\u001b[0m\u001b[1;33m.\u001b[0m\u001b[0mread_stata\u001b[0m\u001b[1;33m(\u001b[0m\u001b[1;34m'../../data/GSS7218_R3.DTA'\u001b[0m\u001b[1;33m,\u001b[0m \u001b[0mcolumns\u001b[0m\u001b[1;33m=\u001b[0m\u001b[1;33m[\u001b[0m\u001b[1;34m'year'\u001b[0m\u001b[1;33m,\u001b[0m\u001b[1;34m'wrkstat'\u001b[0m\u001b[1;33m]\u001b[0m\u001b[1;33m)\u001b[0m\u001b[1;33m\u001b[0m\u001b[1;33m\u001b[0m\u001b[0m\n\u001b[0m",
      "\u001b[1;32mC:\\ProgramData\\Anaconda3\\lib\\site-packages\\pandas\\io\\stata.py\u001b[0m in \u001b[0;36mread_stata\u001b[1;34m(filepath_or_buffer, convert_dates, convert_categoricals, index_col, convert_missing, preserve_dtypes, columns, order_categoricals, chunksize, iterator, storage_options)\u001b[0m\n\u001b[0;32m   1896\u001b[0m ) -> Union[DataFrame, StataReader]:\n\u001b[0;32m   1897\u001b[0m \u001b[1;33m\u001b[0m\u001b[0m\n\u001b[1;32m-> 1898\u001b[1;33m     reader = StataReader(\n\u001b[0m\u001b[0;32m   1899\u001b[0m         \u001b[0mfilepath_or_buffer\u001b[0m\u001b[1;33m,\u001b[0m\u001b[1;33m\u001b[0m\u001b[1;33m\u001b[0m\u001b[0m\n\u001b[0;32m   1900\u001b[0m         \u001b[0mconvert_dates\u001b[0m\u001b[1;33m=\u001b[0m\u001b[0mconvert_dates\u001b[0m\u001b[1;33m,\u001b[0m\u001b[1;33m\u001b[0m\u001b[1;33m\u001b[0m\u001b[0m\n",
      "\u001b[1;32mC:\\ProgramData\\Anaconda3\\lib\\site-packages\\pandas\\io\\stata.py\u001b[0m in \u001b[0;36m__init__\u001b[1;34m(self, path_or_buf, convert_dates, convert_categoricals, index_col, convert_missing, preserve_dtypes, columns, order_categoricals, chunksize, storage_options)\u001b[0m\n\u001b[0;32m   1054\u001b[0m \u001b[1;33m\u001b[0m\u001b[0m\n\u001b[0;32m   1055\u001b[0m         \u001b[0mself\u001b[0m\u001b[1;33m.\u001b[0m\u001b[0m_native_byteorder\u001b[0m \u001b[1;33m=\u001b[0m \u001b[0m_set_endianness\u001b[0m\u001b[1;33m(\u001b[0m\u001b[0msys\u001b[0m\u001b[1;33m.\u001b[0m\u001b[0mbyteorder\u001b[0m\u001b[1;33m)\u001b[0m\u001b[1;33m\u001b[0m\u001b[1;33m\u001b[0m\u001b[0m\n\u001b[1;32m-> 1056\u001b[1;33m         with get_handle(\n\u001b[0m\u001b[0;32m   1057\u001b[0m             \u001b[0mpath_or_buf\u001b[0m\u001b[1;33m,\u001b[0m\u001b[1;33m\u001b[0m\u001b[1;33m\u001b[0m\u001b[0m\n\u001b[0;32m   1058\u001b[0m             \u001b[1;34m\"rb\"\u001b[0m\u001b[1;33m,\u001b[0m\u001b[1;33m\u001b[0m\u001b[1;33m\u001b[0m\u001b[0m\n",
      "\u001b[1;32mC:\\ProgramData\\Anaconda3\\lib\\site-packages\\pandas\\io\\common.py\u001b[0m in \u001b[0;36mget_handle\u001b[1;34m(path_or_buf, mode, encoding, compression, memory_map, is_text, errors, storage_options)\u001b[0m\n\u001b[0;32m    649\u001b[0m         \u001b[1;32melse\u001b[0m\u001b[1;33m:\u001b[0m\u001b[1;33m\u001b[0m\u001b[1;33m\u001b[0m\u001b[0m\n\u001b[0;32m    650\u001b[0m             \u001b[1;31m# Binary mode\u001b[0m\u001b[1;33m\u001b[0m\u001b[1;33m\u001b[0m\u001b[1;33m\u001b[0m\u001b[0m\n\u001b[1;32m--> 651\u001b[1;33m             \u001b[0mhandle\u001b[0m \u001b[1;33m=\u001b[0m \u001b[0mopen\u001b[0m\u001b[1;33m(\u001b[0m\u001b[0mhandle\u001b[0m\u001b[1;33m,\u001b[0m \u001b[0mioargs\u001b[0m\u001b[1;33m.\u001b[0m\u001b[0mmode\u001b[0m\u001b[1;33m)\u001b[0m\u001b[1;33m\u001b[0m\u001b[1;33m\u001b[0m\u001b[0m\n\u001b[0m\u001b[0;32m    652\u001b[0m         \u001b[0mhandles\u001b[0m\u001b[1;33m.\u001b[0m\u001b[0mappend\u001b[0m\u001b[1;33m(\u001b[0m\u001b[0mhandle\u001b[0m\u001b[1;33m)\u001b[0m\u001b[1;33m\u001b[0m\u001b[1;33m\u001b[0m\u001b[0m\n\u001b[0;32m    653\u001b[0m \u001b[1;33m\u001b[0m\u001b[0m\n",
      "\u001b[1;31mFileNotFoundError\u001b[0m: [Errno 2] No such file or directory: '../../data/GSS7218_R3.DTA'"
     ]
    }
   ],
   "source": [
    "statCounts = pd.read_stata('../data/GSS7218_R3.DTA', columns=['year','wrkstat'])"
   ]
  },
  {
   "cell_type": "code",
   "execution_count": null,
   "metadata": {},
   "outputs": [],
   "source": [
    "filteredStatCounts = statCounts.query(\n",
    "    'wrkstat in [\"working fulltime\",\"working parttime\",\"retired\"]')\n",
    "filteredStatCounts.wrkstat.value_counts()"
   ]
  },
  {
   "cell_type": "code",
   "execution_count": null,
   "metadata": {},
   "outputs": [],
   "source": [
    "# produces a warning that you'll learn about in chapter 7\n",
    "filteredStatCounts['wrkstat'] = \\\n",
    "    filteredStatCounts.wrkstat.cat.remove_unused_categories()\n",
    "filteredStatCounts.wrkstat.value_counts()"
   ]
  },
  {
   "cell_type": "markdown",
   "metadata": {},
   "source": [
    "## How to replace invalid values and convert a column’s data type"
   ]
  },
  {
   "cell_type": "code",
   "execution_count": null,
   "metadata": {},
   "outputs": [],
   "source": [
    "import numpy as np\n",
    "jobs.tot_emp.replace(to_replace=['*','**'], value=[np.nan,np.nan]) # ,inplace=True)"
   ]
  },
  {
   "cell_type": "code",
   "execution_count": null,
   "metadata": {},
   "outputs": [],
   "source": [
    "jobs.tot_emp.replace({'*':np.nan, '**':np.nan}, inplace=True)"
   ]
  },
  {
   "cell_type": "code",
   "execution_count": null,
   "metadata": {},
   "outputs": [],
   "source": [
    "jobs.hourly_median = jobs.hourly_median.replace(to_replace='#', value = 100)"
   ]
  },
  {
   "cell_type": "code",
   "execution_count": null,
   "metadata": {},
   "outputs": [],
   "source": [
    "jobs.hourly.replace(to_replace=np.nan, value=False, inplace=True)"
   ]
  },
  {
   "cell_type": "markdown",
   "metadata": {},
   "source": [
    "## How to fix data type problems when you import the data"
   ]
  },
  {
   "cell_type": "code",
   "execution_count": null,
   "metadata": {},
   "outputs": [],
   "source": [
    "date_cols = ['forecastdate','startdate','enddate','createddate','timestamp']"
   ]
  },
  {
   "cell_type": "code",
   "execution_count": null,
   "metadata": {},
   "outputs": [],
   "source": [
    "polls = pd.read_csv('../../data/president_polls_2016.csv')\n",
    "polls[date_cols].head(3)"
   ]
  },
  {
   "cell_type": "code",
   "execution_count": null,
   "metadata": {},
   "outputs": [],
   "source": [
    "polls_new = pd.read_csv('../../data/president_polls_2016.csv', parse_dates=date_cols)\n",
    "polls_new[date_cols].head(3)"
   ]
  },
  {
   "cell_type": "markdown",
   "metadata": {},
   "source": [
    "## How to find outliers"
   ]
  },
  {
   "cell_type": "code",
   "execution_count": null,
   "metadata": {},
   "outputs": [],
   "source": [
    "mortality_data = pd.read_pickle('mortality_cleaned.pkl')"
   ]
  },
  {
   "cell_type": "code",
   "execution_count": null,
   "metadata": {},
   "outputs": [],
   "source": [
    "mortality_group = mortality_data.query('AgeGroup == \"15-19 Years\"')\n",
    "mortality_group.head(3)"
   ]
  },
  {
   "cell_type": "code",
   "execution_count": null,
   "metadata": {},
   "outputs": [],
   "source": [
    "# save DataFrame for later use\n",
    "mortality_group.to_pickle('mortality_group.pkl')"
   ]
  },
  {
   "cell_type": "code",
   "execution_count": null,
   "metadata": {},
   "outputs": [],
   "source": [
    "mortality_group.describe().T"
   ]
  },
  {
   "cell_type": "code",
   "execution_count": null,
   "metadata": {},
   "outputs": [],
   "source": [
    "mortality_group.plot(x='Year', y='DeathRate')"
   ]
  },
  {
   "cell_type": "code",
   "execution_count": null,
   "metadata": {},
   "outputs": [],
   "source": [
    "mortality_group.query('DeathRate > 500')"
   ]
  },
  {
   "cell_type": "markdown",
   "metadata": {},
   "source": [
    "## How to fix outliers"
   ]
  },
  {
   "cell_type": "code",
   "execution_count": null,
   "metadata": {},
   "outputs": [],
   "source": [
    "mortality_group = pd.read_pickle('mortality_group.pkl')\n",
    "\n",
    "mortality_group = mortality_group.query('DeathRate <= 500')"
   ]
  },
  {
   "cell_type": "code",
   "execution_count": null,
   "metadata": {},
   "outputs": [],
   "source": [
    "mortality_group = pd.read_pickle('mortality_group.pkl')\n",
    "\n",
    "mortality_group.loc[mortality_group.DeathRate > 500, 'DeathRate'] = 450"
   ]
  },
  {
   "cell_type": "code",
   "execution_count": null,
   "metadata": {},
   "outputs": [],
   "source": [
    "mortality_group = pd.read_pickle('mortality_group.pkl')\n",
    "\n",
    "mortality_group.loc[mortality_group.DeathRate > 500, 'DeathRate'] \\\n",
    "    = mortality_group.DeathRate.mean()\n",
    "mortality_group.plot(x='Year', y='DeathRate')"
   ]
  },
  {
   "cell_type": "code",
   "execution_count": null,
   "metadata": {},
   "outputs": [],
   "source": [
    "mortality_group = pd.read_pickle('mortality_group.pkl')\n",
    "\n",
    "mortality_group.loc[mortality_group.Year.isin([1917,1918,1919,1920]),\n",
    "                    'DeathRate'] = None\n",
    "mortality_group = mortality_group.interpolate()\n",
    "mortality_group.plot(x='Year', y='DeathRate')"
   ]
  },
  {
   "cell_type": "code",
   "execution_count": null,
   "metadata": {},
   "outputs": [],
   "source": []
  }
 ],
 "metadata": {
  "kernelspec": {
   "display_name": "Python 3",
   "language": "python",
   "name": "python3"
  },
  "language_info": {
   "codemirror_mode": {
    "name": "ipython",
    "version": 3
   },
   "file_extension": ".py",
   "mimetype": "text/x-python",
   "name": "python",
   "nbconvert_exporter": "python",
   "pygments_lexer": "ipython3",
   "version": "3.8.8"
  }
 },
 "nbformat": 4,
 "nbformat_minor": 4
}
