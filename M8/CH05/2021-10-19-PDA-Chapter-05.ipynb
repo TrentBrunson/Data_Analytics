{
 "cells": [
  {
   "cell_type": "markdown",
   "metadata": {},
   "source": [
    "# Chapter 5: How to get the data"
   ]
  },
  {
   "cell_type": "raw",
   "metadata": {},
   "source": [
    "Before you run the examples in this Notebook, make sure you run this Notebook:\n",
    "\n",
    "../data/download_more_data.ipynb\n",
    "\n",
    "This is described in appendixes A and B, and it downloads several large data files that are used by this Notebook."
   ]
  },
  {
   "cell_type": "code",
   "execution_count": 24,
   "metadata": {},
   "outputs": [],
   "source": [
    "import pandas as pd"
   ]
  },
  {
   "cell_type": "markdown",
   "metadata": {},
   "source": [
    "## How to import a CSV file from a website"
   ]
  },
  {
   "cell_type": "code",
   "execution_count": 25,
   "metadata": {},
   "outputs": [],
   "source": [
    "mortality_url = \"https://data.cdc.gov/api/views/v6ab-adf5/rows.csv?accessType=DOWNLOAD\"\n",
    "mortality_data = pd.read_csv(mortality_url)"
   ]
  },
  {
   "cell_type": "markdown",
   "metadata": {},
   "source": [
    "## How to import the first sheet of an Excel file"
   ]
  },
  {
   "cell_type": "code",
   "execution_count": 26,
   "metadata": {},
   "outputs": [],
   "source": [
    "# NOTE: This code example is presented later in this Notebook, after the Excel file has been downloaded"
   ]
  },
  {
   "cell_type": "markdown",
   "metadata": {},
   "source": [
    "## How to download a file to disk before importing it"
   ]
  },
  {
   "cell_type": "code",
   "execution_count": 27,
   "metadata": {},
   "outputs": [
    {
     "data": {
      "text/plain": [
       "('president_polls_2016.csv', <http.client.HTTPMessage at 0x224a651b340>)"
      ]
     },
     "execution_count": 27,
     "metadata": {},
     "output_type": "execute_result"
    }
   ],
   "source": [
    "from urllib import request\n",
    "polls_url = \\\n",
    "    'http://projects.fivethirtyeight.com/general-model/president_general_polls_2016.csv'\n",
    "request.urlretrieve(polls_url, filename='president_polls_2016.csv')"
   ]
  },
  {
   "cell_type": "code",
   "execution_count": 28,
   "metadata": {},
   "outputs": [
    {
     "data": {
      "text/html": [
       "<div>\n",
       "<style scoped>\n",
       "    .dataframe tbody tr th:only-of-type {\n",
       "        vertical-align: middle;\n",
       "    }\n",
       "\n",
       "    .dataframe tbody tr th {\n",
       "        vertical-align: top;\n",
       "    }\n",
       "\n",
       "    .dataframe thead th {\n",
       "        text-align: right;\n",
       "    }\n",
       "</style>\n",
       "<table border=\"1\" class=\"dataframe\">\n",
       "  <thead>\n",
       "    <tr style=\"text-align: right;\">\n",
       "      <th></th>\n",
       "      <th>cycle</th>\n",
       "      <th>branch</th>\n",
       "      <th>type</th>\n",
       "      <th>matchup</th>\n",
       "      <th>forecastdate</th>\n",
       "      <th>state</th>\n",
       "      <th>startdate</th>\n",
       "      <th>enddate</th>\n",
       "      <th>pollster</th>\n",
       "      <th>grade</th>\n",
       "      <th>...</th>\n",
       "      <th>adjpoll_clinton</th>\n",
       "      <th>adjpoll_trump</th>\n",
       "      <th>adjpoll_johnson</th>\n",
       "      <th>adjpoll_mcmullin</th>\n",
       "      <th>multiversions</th>\n",
       "      <th>url</th>\n",
       "      <th>poll_id</th>\n",
       "      <th>question_id</th>\n",
       "      <th>createddate</th>\n",
       "      <th>timestamp</th>\n",
       "    </tr>\n",
       "  </thead>\n",
       "  <tbody>\n",
       "    <tr>\n",
       "      <th>0</th>\n",
       "      <td>2016</td>\n",
       "      <td>President</td>\n",
       "      <td>polls-plus</td>\n",
       "      <td>Clinton vs. Trump vs. Johnson</td>\n",
       "      <td>11/8/16</td>\n",
       "      <td>U.S.</td>\n",
       "      <td>11/3/2016</td>\n",
       "      <td>11/6/2016</td>\n",
       "      <td>ABC News/Washington Post</td>\n",
       "      <td>A+</td>\n",
       "      <td>...</td>\n",
       "      <td>45.20163</td>\n",
       "      <td>41.72430</td>\n",
       "      <td>4.626221</td>\n",
       "      <td>NaN</td>\n",
       "      <td>NaN</td>\n",
       "      <td>https://www.washingtonpost.com/news/the-fix/wp...</td>\n",
       "      <td>48630</td>\n",
       "      <td>76192</td>\n",
       "      <td>11/7/16</td>\n",
       "      <td>09:35:33  8 Nov 2016</td>\n",
       "    </tr>\n",
       "    <tr>\n",
       "      <th>1</th>\n",
       "      <td>2016</td>\n",
       "      <td>President</td>\n",
       "      <td>polls-plus</td>\n",
       "      <td>Clinton vs. Trump vs. Johnson</td>\n",
       "      <td>11/8/16</td>\n",
       "      <td>U.S.</td>\n",
       "      <td>11/1/2016</td>\n",
       "      <td>11/7/2016</td>\n",
       "      <td>Google Consumer Surveys</td>\n",
       "      <td>B</td>\n",
       "      <td>...</td>\n",
       "      <td>43.34557</td>\n",
       "      <td>41.21439</td>\n",
       "      <td>5.175792</td>\n",
       "      <td>NaN</td>\n",
       "      <td>NaN</td>\n",
       "      <td>https://datastudio.google.com/u/0/#/org//repor...</td>\n",
       "      <td>48847</td>\n",
       "      <td>76443</td>\n",
       "      <td>11/7/16</td>\n",
       "      <td>09:35:33  8 Nov 2016</td>\n",
       "    </tr>\n",
       "  </tbody>\n",
       "</table>\n",
       "<p>2 rows × 27 columns</p>\n",
       "</div>"
      ],
      "text/plain": [
       "   cycle     branch        type                        matchup forecastdate  \\\n",
       "0   2016  President  polls-plus  Clinton vs. Trump vs. Johnson      11/8/16   \n",
       "1   2016  President  polls-plus  Clinton vs. Trump vs. Johnson      11/8/16   \n",
       "\n",
       "  state  startdate    enddate                  pollster grade  ...  \\\n",
       "0  U.S.  11/3/2016  11/6/2016  ABC News/Washington Post    A+  ...   \n",
       "1  U.S.  11/1/2016  11/7/2016   Google Consumer Surveys     B  ...   \n",
       "\n",
       "   adjpoll_clinton adjpoll_trump  adjpoll_johnson  adjpoll_mcmullin  \\\n",
       "0         45.20163      41.72430         4.626221               NaN   \n",
       "1         43.34557      41.21439         5.175792               NaN   \n",
       "\n",
       "   multiversions                                                url  poll_id  \\\n",
       "0            NaN  https://www.washingtonpost.com/news/the-fix/wp...    48630   \n",
       "1            NaN  https://datastudio.google.com/u/0/#/org//repor...    48847   \n",
       "\n",
       "   question_id  createddate             timestamp  \n",
       "0        76192      11/7/16  09:35:33  8 Nov 2016  \n",
       "1        76443      11/7/16  09:35:33  8 Nov 2016  \n",
       "\n",
       "[2 rows x 27 columns]"
      ]
     },
     "execution_count": 28,
     "metadata": {},
     "output_type": "execute_result"
    }
   ],
   "source": [
    "polls = pd.read_csv('president_polls_2016.csv')\n",
    "polls.head(2)"
   ]
  },
  {
   "cell_type": "markdown",
   "metadata": {},
   "source": [
    "## How to work with a zip file on disk"
   ]
  },
  {
   "cell_type": "markdown",
   "metadata": {},
   "source": [
    "### Download the zip file to disk"
   ]
  },
  {
   "cell_type": "code",
   "execution_count": 29,
   "metadata": {},
   "outputs": [
    {
     "data": {
      "text/plain": [
       "('oesm18all.zip', <http.client.HTTPMessage at 0x224dcd345b0>)"
      ]
     },
     "execution_count": 29,
     "metadata": {},
     "output_type": "execute_result"
    }
   ],
   "source": [
    "# NOTE: This code may take a long time to run\n",
    "from urllib import request\n",
    "zip_url = 'https://www.bls.gov/oes/special.requests/oesm18all.zip'\n",
    "request.urlretrieve(zip_url, filename='oesm18all.zip')"
   ]
  },
  {
   "cell_type": "markdown",
   "metadata": {},
   "source": [
    "### Extract the files and list their names"
   ]
  },
  {
   "cell_type": "code",
   "execution_count": 30,
   "metadata": {},
   "outputs": [
    {
     "name": "stdout",
     "output_type": "stream",
     "text": [
      "oesm18all/all_data_M_2018.xlsx 70296790 71834374\n"
     ]
    }
   ],
   "source": [
    "from zipfile import ZipFile\n",
    "file_names = list() \n",
    "with ZipFile('oesm18all.zip', mode='r') as zip:\n",
    "    zip.extractall()\n",
    "    for file in zip.infolist():\n",
    "        file_names.append(file.filename)\n",
    "        print(file.filename, file.compress_size, file.file_size)"
   ]
  },
  {
   "cell_type": "markdown",
   "metadata": {},
   "source": [
    "### Two ways to read an extracted file into a DataFrame"
   ]
  },
  {
   "cell_type": "code",
   "execution_count": 31,
   "metadata": {},
   "outputs": [
    {
     "name": "stdout",
     "output_type": "stream",
     "text": [
      "--- 1634670550.2972012 seconds ---\n"
     ]
    }
   ],
   "source": [
    "# NOTE: This code may take a long time to run\n",
    "import time\n",
    "start = time.process_time()\n",
    "jobs = pd.read_excel(\"oesm18all/all_data_M_2018.xlsx\") \n",
    "print(\"--- %s seconds ---\" % (time.time() - start))"
   ]
  },
  {
   "cell_type": "code",
   "execution_count": 32,
   "metadata": {},
   "outputs": [
    {
     "name": "stdout",
     "output_type": "stream",
     "text": [
      "--- 1634670536.2528732 seconds ---\n"
     ]
    }
   ],
   "source": [
    "# NOTE: This code may take a long time to run\n",
    "start = time.process_time()\n",
    "jobs = pd.read_excel(file_names[0])\n",
    "print(\"--- %s seconds ---\" % (time.time() - start))"
   ]
  },
  {
   "cell_type": "markdown",
   "metadata": {},
   "source": [
    "## How to run queries against a database"
   ]
  },
  {
   "cell_type": "code",
   "execution_count": 33,
   "metadata": {},
   "outputs": [],
   "source": [
    "import sqlite3\n",
    "fires_con = sqlite3.connect('../data/Data/FPA_FOD_20170508.sqlite')\n",
    "fires_cur = fires_con.cursor()"
   ]
  },
  {
   "cell_type": "code",
   "execution_count": 34,
   "metadata": {},
   "outputs": [
    {
     "data": {
      "text/plain": [
       "[('spatial_ref_sys',),\n",
       " ('spatialite_history',),\n",
       " ('sqlite_sequence',),\n",
       " ('geometry_columns',),\n",
       " ('spatial_ref_sys_aux',),\n",
       " ('views_geometry_columns',),\n",
       " ('virts_geometry_columns',),\n",
       " ('geometry_columns_statistics',),\n",
       " ('views_geometry_columns_statistics',),\n",
       " ('virts_geometry_columns_statistics',),\n",
       " ('geometry_columns_field_infos',),\n",
       " ('views_geometry_columns_field_infos',),\n",
       " ('virts_geometry_columns_field_infos',),\n",
       " ('geometry_columns_time',),\n",
       " ('geometry_columns_auth',),\n",
       " ('views_geometry_columns_auth',),\n",
       " ('virts_geometry_columns_auth',),\n",
       " ('sql_statements_log',),\n",
       " ('SpatialIndex',),\n",
       " ('ElementaryGeometries',),\n",
       " ('KNN',),\n",
       " ('Fires',),\n",
       " ('idx_Fires_Shape',),\n",
       " ('idx_Fires_Shape_node',),\n",
       " ('idx_Fires_Shape_rowid',),\n",
       " ('idx_Fires_Shape_parent',),\n",
       " ('NWCG_UnitIDActive_20170109',)]"
      ]
     },
     "execution_count": 34,
     "metadata": {},
     "output_type": "execute_result"
    }
   ],
   "source": [
    "fires_cur.execute(\n",
    "    'SELECT name FROM sqlite_master WHERE type=\"table\"').fetchall()"
   ]
  },
  {
   "cell_type": "markdown",
   "metadata": {},
   "source": [
    "## How to use a SQL query to import data into a DataFrame"
   ]
  },
  {
   "cell_type": "markdown",
   "metadata": {},
   "source": [
    "### Get information about a table"
   ]
  },
  {
   "cell_type": "code",
   "execution_count": 35,
   "metadata": {},
   "outputs": [
    {
     "data": {
      "text/plain": [
       "[(0, 'OBJECTID', 'integer', 1, None, 1),\n",
       " (1, 'FOD_ID', 'int32', 0, None, 0),\n",
       " (2, 'FPA_ID', 'text(100)', 0, None, 0),\n",
       " (3, 'SOURCE_SYSTEM_TYPE', 'text(255)', 0, None, 0),\n",
       " (4, 'SOURCE_SYSTEM', 'text(30)', 0, None, 0),\n",
       " (5, 'NWCG_REPORTING_AGENCY', 'text(255)', 0, None, 0),\n",
       " (6, 'NWCG_REPORTING_UNIT_ID', 'text(255)', 0, None, 0),\n",
       " (7, 'NWCG_REPORTING_UNIT_NAME', 'text(255)', 0, None, 0),\n",
       " (8, 'SOURCE_REPORTING_UNIT', 'text(30)', 0, None, 0),\n",
       " (9, 'SOURCE_REPORTING_UNIT_NAME', 'text(255)', 0, None, 0),\n",
       " (10, 'LOCAL_FIRE_REPORT_ID', 'text(255)', 0, None, 0),\n",
       " (11, 'LOCAL_INCIDENT_ID', 'text(255)', 0, None, 0),\n",
       " (12, 'FIRE_CODE', 'text(10)', 0, None, 0),\n",
       " (13, 'FIRE_NAME', 'text(255)', 0, None, 0),\n",
       " (14, 'ICS_209_INCIDENT_NUMBER', 'text(255)', 0, None, 0),\n",
       " (15, 'ICS_209_NAME', 'text(255)', 0, None, 0),\n",
       " (16, 'MTBS_ID', 'text(255)', 0, None, 0),\n",
       " (17, 'MTBS_FIRE_NAME', 'text(50)', 0, None, 0),\n",
       " (18, 'COMPLEX_NAME', 'text(255)', 0, None, 0),\n",
       " (19, 'FIRE_YEAR', 'int16', 0, None, 0),\n",
       " (20, 'DISCOVERY_DATE', 'realdate', 0, None, 0),\n",
       " (21, 'DISCOVERY_DOY', 'int32', 0, None, 0),\n",
       " (22, 'DISCOVERY_TIME', 'text(4)', 0, None, 0),\n",
       " (23, 'STAT_CAUSE_CODE', 'float64', 0, None, 0),\n",
       " (24, 'STAT_CAUSE_DESCR', 'text(100)', 0, None, 0),\n",
       " (25, 'CONT_DATE', 'realdate', 0, None, 0),\n",
       " (26, 'CONT_DOY', 'int32', 0, None, 0),\n",
       " (27, 'CONT_TIME', 'text(4)', 0, None, 0),\n",
       " (28, 'FIRE_SIZE', 'float64', 0, None, 0),\n",
       " (29, 'FIRE_SIZE_CLASS', 'text(1)', 0, None, 0),\n",
       " (30, 'LATITUDE', 'float64', 0, None, 0),\n",
       " (31, 'LONGITUDE', 'float64', 0, None, 0),\n",
       " (32, 'OWNER_CODE', 'float64', 0, None, 0),\n",
       " (33, 'OWNER_DESCR', 'text(100)', 0, None, 0),\n",
       " (34, 'STATE', 'text(255)', 0, None, 0),\n",
       " (35, 'COUNTY', 'text(255)', 0, None, 0),\n",
       " (36, 'FIPS_CODE', 'text(255)', 0, None, 0),\n",
       " (37, 'FIPS_NAME', 'text(255)', 0, None, 0),\n",
       " (38, 'Shape', 'POINT', 1, None, 0)]"
      ]
     },
     "execution_count": 35,
     "metadata": {},
     "output_type": "execute_result"
    }
   ],
   "source": [
    "fires_cur.execute('PRAGMA table_info(Fires)').fetchall()"
   ]
  },
  {
   "cell_type": "markdown",
   "metadata": {},
   "source": [
    "### Import the data from a query into a DataFrame"
   ]
  },
  {
   "cell_type": "code",
   "execution_count": 36,
   "metadata": {},
   "outputs": [
    {
     "data": {
      "text/html": [
       "<div>\n",
       "<style scoped>\n",
       "    .dataframe tbody tr th:only-of-type {\n",
       "        vertical-align: middle;\n",
       "    }\n",
       "\n",
       "    .dataframe tbody tr th {\n",
       "        vertical-align: top;\n",
       "    }\n",
       "\n",
       "    .dataframe thead th {\n",
       "        text-align: right;\n",
       "    }\n",
       "</style>\n",
       "<table border=\"1\" class=\"dataframe\">\n",
       "  <thead>\n",
       "    <tr style=\"text-align: right;\">\n",
       "      <th></th>\n",
       "      <th>STATE</th>\n",
       "      <th>FIRE_YEAR</th>\n",
       "      <th>DISCOVERY_DATE</th>\n",
       "      <th>FIRE_NAME</th>\n",
       "      <th>FIRE_SIZE</th>\n",
       "      <th>LATITUDE</th>\n",
       "      <th>LONGITUDE</th>\n",
       "    </tr>\n",
       "  </thead>\n",
       "  <tbody>\n",
       "    <tr>\n",
       "      <th>0</th>\n",
       "      <td>CA</td>\n",
       "      <td>2005</td>\n",
       "      <td>2005-02-02 00:00:00</td>\n",
       "      <td>FOUNTAIN</td>\n",
       "      <td>0.10</td>\n",
       "      <td>40.036944</td>\n",
       "      <td>-121.005833</td>\n",
       "    </tr>\n",
       "    <tr>\n",
       "      <th>1</th>\n",
       "      <td>CA</td>\n",
       "      <td>2004</td>\n",
       "      <td>2004-05-12 00:00:00</td>\n",
       "      <td>PIGEON</td>\n",
       "      <td>0.25</td>\n",
       "      <td>38.933056</td>\n",
       "      <td>-120.404444</td>\n",
       "    </tr>\n",
       "    <tr>\n",
       "      <th>2</th>\n",
       "      <td>CA</td>\n",
       "      <td>2004</td>\n",
       "      <td>2004-05-31 00:00:00</td>\n",
       "      <td>SLACK</td>\n",
       "      <td>0.10</td>\n",
       "      <td>38.984167</td>\n",
       "      <td>-120.735556</td>\n",
       "    </tr>\n",
       "    <tr>\n",
       "      <th>3</th>\n",
       "      <td>CA</td>\n",
       "      <td>2004</td>\n",
       "      <td>2004-06-28 00:00:00</td>\n",
       "      <td>DEER</td>\n",
       "      <td>0.10</td>\n",
       "      <td>38.559167</td>\n",
       "      <td>-119.913333</td>\n",
       "    </tr>\n",
       "    <tr>\n",
       "      <th>4</th>\n",
       "      <td>CA</td>\n",
       "      <td>2004</td>\n",
       "      <td>2004-06-28 00:00:00</td>\n",
       "      <td>STEVENOT</td>\n",
       "      <td>0.10</td>\n",
       "      <td>38.559167</td>\n",
       "      <td>-119.933056</td>\n",
       "    </tr>\n",
       "  </tbody>\n",
       "</table>\n",
       "</div>"
      ],
      "text/plain": [
       "  STATE  FIRE_YEAR       DISCOVERY_DATE FIRE_NAME  FIRE_SIZE   LATITUDE  \\\n",
       "0    CA       2005  2005-02-02 00:00:00  FOUNTAIN       0.10  40.036944   \n",
       "1    CA       2004  2004-05-12 00:00:00    PIGEON       0.25  38.933056   \n",
       "2    CA       2004  2004-05-31 00:00:00     SLACK       0.10  38.984167   \n",
       "3    CA       2004  2004-06-28 00:00:00      DEER       0.10  38.559167   \n",
       "4    CA       2004  2004-06-28 00:00:00  STEVENOT       0.10  38.559167   \n",
       "\n",
       "    LONGITUDE  \n",
       "0 -121.005833  \n",
       "1 -120.404444  \n",
       "2 -120.735556  \n",
       "3 -119.913333  \n",
       "4 -119.933056  "
      ]
     },
     "execution_count": 36,
     "metadata": {},
     "output_type": "execute_result"
    }
   ],
   "source": [
    "# NOTE: This code may take a long time to run\n",
    "fires = pd.read_sql_query(\n",
    "    '''SELECT STATE, FIRE_YEAR, DATETIME(DISCOVERY_DATE) AS DISCOVERY_DATE,\n",
    "       FIRE_NAME, FIRE_SIZE, LATITUDE, LONGITUDE\n",
    "    FROM Fires''', fires_con)\n",
    "fires.head()"
   ]
  },
  {
   "cell_type": "markdown",
   "metadata": {},
   "source": [
    "## How to build DataFrames for the metadata and the data in a Stata file"
   ]
  },
  {
   "cell_type": "markdown",
   "metadata": {},
   "source": [
    "### Get metadata from a Stata file"
   ]
  },
  {
   "cell_type": "code",
   "execution_count": 37,
   "metadata": {},
   "outputs": [
    {
     "ename": "ModuleNotFoundError",
     "evalue": "No module named 'pyreadstat'",
     "output_type": "error",
     "traceback": [
      "\u001b[1;31m---------------------------------------------------------------------------\u001b[0m",
      "\u001b[1;31mModuleNotFoundError\u001b[0m                       Traceback (most recent call last)",
      "\u001b[1;32m<ipython-input-37-5dc0677e8d0f>\u001b[0m in \u001b[0;36m<module>\u001b[1;34m\u001b[0m\n\u001b[1;32m----> 1\u001b[1;33m \u001b[1;32mimport\u001b[0m \u001b[0mpyreadstat\u001b[0m\u001b[1;33m\u001b[0m\u001b[1;33m\u001b[0m\u001b[0m\n\u001b[0m\u001b[0;32m      2\u001b[0m \u001b[0mgss_stata_filename\u001b[0m \u001b[1;33m=\u001b[0m \u001b[1;34m'../data/GSS7218_R3.DTA'\u001b[0m\u001b[1;33m\u001b[0m\u001b[1;33m\u001b[0m\u001b[0m\n\u001b[0;32m      3\u001b[0m gss_empty, gss_meta = pyreadstat.read_dta(\n\u001b[0;32m      4\u001b[0m     \u001b[0mgss_stata_filename\u001b[0m\u001b[1;33m,\u001b[0m\u001b[1;33m\u001b[0m\u001b[1;33m\u001b[0m\u001b[0m\n\u001b[0;32m      5\u001b[0m     metadataonly=True)\n",
      "\u001b[1;31mModuleNotFoundError\u001b[0m: No module named 'pyreadstat'"
     ]
    }
   ],
   "source": [
    "import pyreadstat\n",
    "gss_stata_filename = '../data/GSS7218_R3.DTA'\n",
    "gss_empty, gss_meta = pyreadstat.read_dta(\n",
    "    gss_stata_filename,\n",
    "    metadataonly=True)\n",
    "type(gss_meta)"
   ]
  },
  {
   "cell_type": "markdown",
   "metadata": {},
   "source": [
    "### What the attributes of the metadata container can tell you"
   ]
  },
  {
   "cell_type": "code",
   "execution_count": null,
   "metadata": {},
   "outputs": [],
   "source": [
    "print(\"Number of columns:\", gss_meta.number_columns)\n",
    "print(\"Number of rows:\", gss_meta.number_rows)\n",
    "print(\"Column names:\", gss_meta.column_names)"
   ]
  },
  {
   "cell_type": "markdown",
   "metadata": {},
   "source": [
    "### How to build a DataFrame for the column descriptions in the metadata"
   ]
  },
  {
   "cell_type": "code",
   "execution_count": null,
   "metadata": {},
   "outputs": [],
   "source": [
    "meta_cols=pd.DataFrame(\n",
    "    data=gss_meta.column_labels,\n",
    "    index=gss_meta.column_names,\n",
    "    columns=['description'])\n",
    "meta_cols.head(5)"
   ]
  },
  {
   "cell_type": "markdown",
   "metadata": {},
   "source": [
    "### How to import columns of the data into a DataFrame"
   ]
  },
  {
   "cell_type": "code",
   "execution_count": null,
   "metadata": {},
   "outputs": [],
   "source": [
    "gss_data = pd.read_stata('../data/GSS7218_R3.DTA',\n",
    "    columns=['year','id','wrkstat','hrs1','hrs2','evwork','wrkslf','wrkgovt'])\n",
    "gss_data.tail()"
   ]
  },
  {
   "cell_type": "markdown",
   "metadata": {},
   "source": [
    "## How to download a JSON file"
   ]
  },
  {
   "cell_type": "code",
   "execution_count": null,
   "metadata": {},
   "outputs": [],
   "source": [
    "import json\n",
    "from urllib import request\n",
    "shots_url = 'https://www.murach.com/python_analysis/shots.json'\n",
    "request.urlretrieve(shots_url, filename='shots.json')"
   ]
  },
  {
   "cell_type": "markdown",
   "metadata": {},
   "source": [
    "## How to build a DataFrame for the data"
   ]
  },
  {
   "cell_type": "code",
   "execution_count": null,
   "metadata": {},
   "outputs": [],
   "source": [
    "with open('shots.json') as json_data:\n",
    "    shots = json.load(json_data)"
   ]
  },
  {
   "cell_type": "code",
   "execution_count": null,
   "metadata": {},
   "outputs": [],
   "source": [
    "allRows = shots['resultSets'][0]['rowSet']\n",
    "columnHeaders = [x.lower() for x in shots['resultSets'][0]['headers']]\n",
    "shots = pd.DataFrame(data=allRows, columns=columnHeaders)\n",
    "shots.head()"
   ]
  }
 ],
 "metadata": {
  "kernelspec": {
   "display_name": "Python 3",
   "language": "python",
   "name": "python3"
  },
  "language_info": {
   "codemirror_mode": {
    "name": "ipython",
    "version": 3
   },
   "file_extension": ".py",
   "mimetype": "text/x-python",
   "name": "python",
   "nbconvert_exporter": "python",
   "pygments_lexer": "ipython3",
   "version": "3.8.8"
  }
 },
 "nbformat": 4,
 "nbformat_minor": 4
}
