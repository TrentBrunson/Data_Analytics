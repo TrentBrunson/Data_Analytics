{
 "cells": [
  {
   "cell_type": "markdown",
   "id": "34ca9c37",
   "metadata": {},
   "source": [
    "# Medical Costs case study - solution"
   ]
  },
  {
   "cell_type": "code",
   "execution_count": 1,
   "id": "6979c5c4",
   "metadata": {},
   "outputs": [],
   "source": [
    "import pandas as pd\n",
    "import seaborn as sns"
   ]
  },
  {
   "cell_type": "markdown",
   "id": "20329973",
   "metadata": {},
   "source": [
    "# Section 1"
   ]
  },
  {
   "cell_type": "markdown",
   "id": "a5c98ebd",
   "metadata": {},
   "source": [
    "## Get the data and examine it"
   ]
  },
  {
   "cell_type": "code",
   "execution_count": 2,
   "id": "b2aa11a0",
   "metadata": {},
   "outputs": [],
   "source": [
    "df = pd.read_csv('insurance.csv')"
   ]
  },
  {
   "cell_type": "code",
   "execution_count": 3,
   "id": "2c18dc11",
   "metadata": {},
   "outputs": [
    {
     "data": {
      "text/html": [
       "<div>\n",
       "<style scoped>\n",
       "    .dataframe tbody tr th:only-of-type {\n",
       "        vertical-align: middle;\n",
       "    }\n",
       "\n",
       "    .dataframe tbody tr th {\n",
       "        vertical-align: top;\n",
       "    }\n",
       "\n",
       "    .dataframe thead th {\n",
       "        text-align: right;\n",
       "    }\n",
       "</style>\n",
       "<table border=\"1\" class=\"dataframe\">\n",
       "  <thead>\n",
       "    <tr style=\"text-align: right;\">\n",
       "      <th></th>\n",
       "      <th>age</th>\n",
       "      <th>sex</th>\n",
       "      <th>bmi</th>\n",
       "      <th>children</th>\n",
       "      <th>smoker</th>\n",
       "      <th>region</th>\n",
       "      <th>charges</th>\n",
       "    </tr>\n",
       "  </thead>\n",
       "  <tbody>\n",
       "    <tr>\n",
       "      <th>0</th>\n",
       "      <td>19</td>\n",
       "      <td>female</td>\n",
       "      <td>27.900</td>\n",
       "      <td>0</td>\n",
       "      <td>yes</td>\n",
       "      <td>southwest</td>\n",
       "      <td>16884.92400</td>\n",
       "    </tr>\n",
       "    <tr>\n",
       "      <th>1</th>\n",
       "      <td>18</td>\n",
       "      <td>male</td>\n",
       "      <td>33.770</td>\n",
       "      <td>1</td>\n",
       "      <td>no</td>\n",
       "      <td>southeast</td>\n",
       "      <td>1725.55230</td>\n",
       "    </tr>\n",
       "    <tr>\n",
       "      <th>2</th>\n",
       "      <td>28</td>\n",
       "      <td>male</td>\n",
       "      <td>33.000</td>\n",
       "      <td>3</td>\n",
       "      <td>no</td>\n",
       "      <td>southeast</td>\n",
       "      <td>4449.46200</td>\n",
       "    </tr>\n",
       "    <tr>\n",
       "      <th>3</th>\n",
       "      <td>33</td>\n",
       "      <td>male</td>\n",
       "      <td>22.705</td>\n",
       "      <td>0</td>\n",
       "      <td>no</td>\n",
       "      <td>northwest</td>\n",
       "      <td>21984.47061</td>\n",
       "    </tr>\n",
       "    <tr>\n",
       "      <th>4</th>\n",
       "      <td>32</td>\n",
       "      <td>male</td>\n",
       "      <td>28.880</td>\n",
       "      <td>0</td>\n",
       "      <td>no</td>\n",
       "      <td>northwest</td>\n",
       "      <td>3866.85520</td>\n",
       "    </tr>\n",
       "  </tbody>\n",
       "</table>\n",
       "</div>"
      ],
      "text/plain": [
       "   age     sex     bmi  children smoker     region      charges\n",
       "0   19  female  27.900         0    yes  southwest  16884.92400\n",
       "1   18    male  33.770         1     no  southeast   1725.55230\n",
       "2   28    male  33.000         3     no  southeast   4449.46200\n",
       "3   33    male  22.705         0     no  northwest  21984.47061\n",
       "4   32    male  28.880         0     no  northwest   3866.85520"
      ]
     },
     "execution_count": 3,
     "metadata": {},
     "output_type": "execute_result"
    }
   ],
   "source": [
    "df.head()"
   ]
  },
  {
   "cell_type": "code",
   "execution_count": 4,
   "id": "dbb1898b",
   "metadata": {},
   "outputs": [
    {
     "name": "stdout",
     "output_type": "stream",
     "text": [
      "<class 'pandas.core.frame.DataFrame'>\n",
      "RangeIndex: 1338 entries, 0 to 1337\n",
      "Data columns (total 7 columns):\n",
      " #   Column    Non-Null Count  Dtype  \n",
      "---  ------    --------------  -----  \n",
      " 0   age       1338 non-null   int64  \n",
      " 1   sex       1338 non-null   object \n",
      " 2   bmi       1338 non-null   float64\n",
      " 3   children  1338 non-null   int64  \n",
      " 4   smoker    1338 non-null   object \n",
      " 5   region    1338 non-null   object \n",
      " 6   charges   1338 non-null   float64\n",
      "dtypes: float64(2), int64(2), object(3)\n",
      "memory usage: 73.3+ KB\n"
     ]
    }
   ],
   "source": [
    "df.info()"
   ]
  },
  {
   "cell_type": "code",
   "execution_count": 5,
   "id": "0aca275d",
   "metadata": {},
   "outputs": [
    {
     "data": {
      "text/plain": [
       "age           47\n",
       "sex            2\n",
       "bmi          548\n",
       "children       6\n",
       "smoker         2\n",
       "region         4\n",
       "charges     1337\n",
       "dtype: int64"
      ]
     },
     "execution_count": 5,
     "metadata": {},
     "output_type": "execute_result"
    }
   ],
   "source": [
    "df.nunique()"
   ]
  },
  {
   "cell_type": "markdown",
   "id": "ff17789a",
   "metadata": {},
   "source": [
    "## How is age related to medical costs?"
   ]
  },
  {
   "cell_type": "code",
   "execution_count": 6,
   "id": "b6d63839",
   "metadata": {},
   "outputs": [
    {
     "data": {
      "text/plain": [
       "<AxesSubplot:xlabel='age', ylabel='charges'>"
      ]
     },
     "execution_count": 6,
     "metadata": {},
     "output_type": "execute_result"
    },
    {
     "data": {
      "image/png": "[encoded data removed]",
      "text/plain": [
       "<Figure size 432x288 with 1 Axes>"
      ]
     },
     "metadata": {
      "needs_background": "light"
     },
     "output_type": "display_data"
    }
   ],
   "source": [
    "sns.scatterplot(data=df, x='age', y='charges')"
   ]
  },
  {
   "cell_type": "markdown",
   "id": "901c8667",
   "metadata": {},
   "source": [
    "### As age goes up so do medical costs"
   ]
  },
  {
   "cell_type": "markdown",
   "id": "ab085ff5",
   "metadata": {},
   "source": [
    "## How is number of children related to medical costs?"
   ]
  },
  {
   "cell_type": "code",
   "execution_count": 7,
   "id": "11bbb1d2",
   "metadata": {},
   "outputs": [
    {
     "data": {
      "text/html": [
       "<div>\n",
       "<style scoped>\n",
       "    .dataframe tbody tr th:only-of-type {\n",
       "        vertical-align: middle;\n",
       "    }\n",
       "\n",
       "    .dataframe tbody tr th {\n",
       "        vertical-align: top;\n",
       "    }\n",
       "\n",
       "    .dataframe thead th {\n",
       "        text-align: right;\n",
       "    }\n",
       "</style>\n",
       "<table border=\"1\" class=\"dataframe\">\n",
       "  <thead>\n",
       "    <tr style=\"text-align: right;\">\n",
       "      <th></th>\n",
       "      <th>children</th>\n",
       "      <th>charges</th>\n",
       "    </tr>\n",
       "  </thead>\n",
       "  <tbody>\n",
       "    <tr>\n",
       "      <th>0</th>\n",
       "      <td>0</td>\n",
       "      <td>12365.975602</td>\n",
       "    </tr>\n",
       "    <tr>\n",
       "      <th>1</th>\n",
       "      <td>1</td>\n",
       "      <td>12731.171832</td>\n",
       "    </tr>\n",
       "    <tr>\n",
       "      <th>2</th>\n",
       "      <td>2</td>\n",
       "      <td>15073.563734</td>\n",
       "    </tr>\n",
       "    <tr>\n",
       "      <th>3</th>\n",
       "      <td>3</td>\n",
       "      <td>15355.318367</td>\n",
       "    </tr>\n",
       "    <tr>\n",
       "      <th>4</th>\n",
       "      <td>4</td>\n",
       "      <td>13850.656311</td>\n",
       "    </tr>\n",
       "    <tr>\n",
       "      <th>5</th>\n",
       "      <td>5</td>\n",
       "      <td>8786.035247</td>\n",
       "    </tr>\n",
       "  </tbody>\n",
       "</table>\n",
       "</div>"
      ],
      "text/plain": [
       "   children       charges\n",
       "0         0  12365.975602\n",
       "1         1  12731.171832\n",
       "2         2  15073.563734\n",
       "3         3  15355.318367\n",
       "4         4  13850.656311\n",
       "5         5   8786.035247"
      ]
     },
     "execution_count": 7,
     "metadata": {},
     "output_type": "execute_result"
    }
   ],
   "source": [
    "children = df.groupby('children').mean()[['charges']].reset_index()\n",
    "children"
   ]
  },
  {
   "cell_type": "code",
   "execution_count": 8,
   "id": "782e1a94",
   "metadata": {},
   "outputs": [
    {
     "data": {
      "image/png": "[encoded data removed]",
      "text/plain": [
       "<Figure size 360x360 with 1 Axes>"
      ]
     },
     "metadata": {
      "needs_background": "light"
     },
     "output_type": "display_data"
    }
   ],
   "source": [
    "g = sns.catplot(data=children, kind='bar', x='children', y='charges')\n",
    "\n",
    "for ax in g.axes.flat:\n",
    "    ax.set(title='Average medical costs by number of children',\n",
    "           ylabel='Costs',\n",
    "           xlabel='Children')"
   ]
  },
  {
   "cell_type": "markdown",
   "id": "e854147f",
   "metadata": {},
   "source": [
    "### The plot above shows how costs relate to the number of children"
   ]
  },
  {
   "cell_type": "raw",
   "id": "9a11f83d",
   "metadata": {},
   "source": [
    "A person's medical costs go up with the number of children until you reach 3 children. After that, they go down. This might be due to the small sample size for people that have more than 3 children as shown by the table below."
   ]
  },
  {
   "cell_type": "code",
   "execution_count": 9,
   "id": "2e21fb9e",
   "metadata": {},
   "outputs": [
    {
     "data": {
      "text/html": [
       "<div>\n",
       "<style scoped>\n",
       "    .dataframe tbody tr th:only-of-type {\n",
       "        vertical-align: middle;\n",
       "    }\n",
       "\n",
       "    .dataframe tbody tr th {\n",
       "        vertical-align: top;\n",
       "    }\n",
       "\n",
       "    .dataframe thead th {\n",
       "        text-align: right;\n",
       "    }\n",
       "</style>\n",
       "<table border=\"1\" class=\"dataframe\">\n",
       "  <thead>\n",
       "    <tr style=\"text-align: right;\">\n",
       "      <th></th>\n",
       "      <th>age</th>\n",
       "    </tr>\n",
       "    <tr>\n",
       "      <th>children</th>\n",
       "      <th></th>\n",
       "    </tr>\n",
       "  </thead>\n",
       "  <tbody>\n",
       "    <tr>\n",
       "      <th>0</th>\n",
       "      <td>574</td>\n",
       "    </tr>\n",
       "    <tr>\n",
       "      <th>1</th>\n",
       "      <td>324</td>\n",
       "    </tr>\n",
       "    <tr>\n",
       "      <th>2</th>\n",
       "      <td>240</td>\n",
       "    </tr>\n",
       "    <tr>\n",
       "      <th>3</th>\n",
       "      <td>157</td>\n",
       "    </tr>\n",
       "    <tr>\n",
       "      <th>4</th>\n",
       "      <td>25</td>\n",
       "    </tr>\n",
       "    <tr>\n",
       "      <th>5</th>\n",
       "      <td>18</td>\n",
       "    </tr>\n",
       "  </tbody>\n",
       "</table>\n",
       "</div>"
      ],
      "text/plain": [
       "          age\n",
       "children     \n",
       "0         574\n",
       "1         324\n",
       "2         240\n",
       "3         157\n",
       "4          25\n",
       "5          18"
      ]
     },
     "execution_count": 9,
     "metadata": {},
     "output_type": "execute_result"
    }
   ],
   "source": [
    "df.groupby('children').count()[['age']]"
   ]
  },
  {
   "cell_type": "markdown",
   "id": "e9de8cbc",
   "metadata": {},
   "source": [
    "## How is the number of people distributed by region?"
   ]
  },
  {
   "cell_type": "code",
   "execution_count": 10,
   "id": "7bae11f9",
   "metadata": {},
   "outputs": [
    {
     "data": {
      "text/html": [
       "<div>\n",
       "<style scoped>\n",
       "    .dataframe tbody tr th:only-of-type {\n",
       "        vertical-align: middle;\n",
       "    }\n",
       "\n",
       "    .dataframe tbody tr th {\n",
       "        vertical-align: top;\n",
       "    }\n",
       "\n",
       "    .dataframe thead th {\n",
       "        text-align: right;\n",
       "    }\n",
       "</style>\n",
       "<table border=\"1\" class=\"dataframe\">\n",
       "  <thead>\n",
       "    <tr style=\"text-align: right;\">\n",
       "      <th></th>\n",
       "      <th>charges</th>\n",
       "    </tr>\n",
       "    <tr>\n",
       "      <th>region</th>\n",
       "      <th></th>\n",
       "    </tr>\n",
       "  </thead>\n",
       "  <tbody>\n",
       "    <tr>\n",
       "      <th>northeast</th>\n",
       "      <td>324</td>\n",
       "    </tr>\n",
       "    <tr>\n",
       "      <th>northwest</th>\n",
       "      <td>325</td>\n",
       "    </tr>\n",
       "    <tr>\n",
       "      <th>southeast</th>\n",
       "      <td>364</td>\n",
       "    </tr>\n",
       "    <tr>\n",
       "      <th>southwest</th>\n",
       "      <td>325</td>\n",
       "    </tr>\n",
       "  </tbody>\n",
       "</table>\n",
       "</div>"
      ],
      "text/plain": [
       "           charges\n",
       "region            \n",
       "northeast      324\n",
       "northwest      325\n",
       "southeast      364\n",
       "southwest      325"
      ]
     },
     "execution_count": 10,
     "metadata": {},
     "output_type": "execute_result"
    }
   ],
   "source": [
    "df.groupby('region').count()[['charges']]"
   ]
  },
  {
   "cell_type": "code",
   "execution_count": 11,
   "id": "5bf8318a",
   "metadata": {},
   "outputs": [
    {
     "data": {
      "text/plain": [
       "<AxesSubplot:ylabel='region'>"
      ]
     },
     "execution_count": 11,
     "metadata": {},
     "output_type": "execute_result"
    },
    {
     "data": {
      "image/png": "[encoded data removed]",
      "text/plain": [
       "<Figure size 432x288 with 1 Axes>"
      ]
     },
     "metadata": {
      "needs_background": "light"
     },
     "output_type": "display_data"
    }
   ],
   "source": [
    "df.groupby('region').count()[['charges']].plot(kind='barh')"
   ]
  },
  {
   "cell_type": "markdown",
   "id": "b6bcaf89",
   "metadata": {},
   "source": [
    "### The number of people sampled from each region is roughly equal, but there is slightly more in the southeast"
   ]
  },
  {
   "cell_type": "markdown",
   "id": "ded2502b",
   "metadata": {},
   "source": [
    "## How is the number of people distributed by age?"
   ]
  },
  {
   "cell_type": "code",
   "execution_count": 12,
   "id": "372b69b2",
   "metadata": {},
   "outputs": [
    {
     "data": {
      "text/plain": [
       "<AxesSubplot:ylabel='Density'>"
      ]
     },
     "execution_count": 12,
     "metadata": {},
     "output_type": "execute_result"
    },
    {
     "data": {
      "image/png": "[encoded data removed]",
      "text/plain": [
       "<Figure size 432x288 with 1 Axes>"
      ]
     },
     "metadata": {
      "needs_background": "light"
     },
     "output_type": "display_data"
    }
   ],
   "source": [
    "df.groupby('age').count()[['charges']].plot(kind='kde')"
   ]
  },
  {
   "cell_type": "markdown",
   "id": "a88b7874",
   "metadata": {},
   "source": [
    "### Most people are between 20 and 40 with another cluster between 60 and 80"
   ]
  },
  {
   "cell_type": "markdown",
   "id": "a16fc765",
   "metadata": {},
   "source": [
    "## How are the charges distributed?"
   ]
  },
  {
   "cell_type": "code",
   "execution_count": 13,
   "id": "5e1f8939",
   "metadata": {},
   "outputs": [
    {
     "data": {
      "text/plain": [
       "count     1338.000000\n",
       "mean     13270.422265\n",
       "std      12110.011237\n",
       "min       1121.873900\n",
       "25%       4740.287150\n",
       "50%       9382.033000\n",
       "75%      16639.912515\n",
       "max      63770.428010\n",
       "Name: charges, dtype: float64"
      ]
     },
     "execution_count": 13,
     "metadata": {},
     "output_type": "execute_result"
    }
   ],
   "source": [
    "df.charges.describe()"
   ]
  },
  {
   "cell_type": "code",
   "execution_count": 14,
   "id": "7a81e105",
   "metadata": {},
   "outputs": [
    {
     "data": {
      "text/plain": [
       "<AxesSubplot:ylabel='Density'>"
      ]
     },
     "execution_count": 14,
     "metadata": {},
     "output_type": "execute_result"
    },
    {
     "data": {
      "image/png": "[encoded data removed]",
      "text/plain": [
       "<Figure size 432x288 with 1 Axes>"
      ]
     },
     "metadata": {
      "needs_background": "light"
     },
     "output_type": "display_data"
    }
   ],
   "source": [
    "df.charges.plot(kind='kde')"
   ]
  },
  {
   "cell_type": "markdown",
   "id": "b8fa96fe",
   "metadata": {},
   "source": [
    "### Most charges are less than 20,000 but the charges range up to about 63,000"
   ]
  },
  {
   "cell_type": "markdown",
   "id": "10270f90",
   "metadata": {},
   "source": [
    "# Section 2"
   ]
  },
  {
   "cell_type": "markdown",
   "id": "1e3793b5",
   "metadata": {},
   "source": [
    "## Bin the bmi data"
   ]
  },
  {
   "cell_type": "raw",
   "id": "68fe3402",
   "metadata": {},
   "source": [
    "A google search finds the following classifications for bmi:\n",
    "    <18.5 = underweight\n",
    "    18.6-24.9 = healthy\n",
    "    25-29.9 = overweight\n",
    "    30+ = obese"
   ]
  },
  {
   "cell_type": "code",
   "execution_count": 15,
   "id": "0c69c514",
   "metadata": {},
   "outputs": [
    {
     "data": {
      "text/html": [
       "<div>\n",
       "<style scoped>\n",
       "    .dataframe tbody tr th:only-of-type {\n",
       "        vertical-align: middle;\n",
       "    }\n",
       "\n",
       "    .dataframe tbody tr th {\n",
       "        vertical-align: top;\n",
       "    }\n",
       "\n",
       "    .dataframe thead th {\n",
       "        text-align: right;\n",
       "    }\n",
       "</style>\n",
       "<table border=\"1\" class=\"dataframe\">\n",
       "  <thead>\n",
       "    <tr style=\"text-align: right;\">\n",
       "      <th></th>\n",
       "      <th>age</th>\n",
       "      <th>sex</th>\n",
       "      <th>bmi</th>\n",
       "      <th>children</th>\n",
       "      <th>smoker</th>\n",
       "      <th>region</th>\n",
       "      <th>charges</th>\n",
       "      <th>bmiBinned</th>\n",
       "    </tr>\n",
       "  </thead>\n",
       "  <tbody>\n",
       "    <tr>\n",
       "      <th>0</th>\n",
       "      <td>19</td>\n",
       "      <td>female</td>\n",
       "      <td>27.900</td>\n",
       "      <td>0</td>\n",
       "      <td>yes</td>\n",
       "      <td>southwest</td>\n",
       "      <td>16884.92400</td>\n",
       "      <td>Overweight</td>\n",
       "    </tr>\n",
       "    <tr>\n",
       "      <th>1</th>\n",
       "      <td>18</td>\n",
       "      <td>male</td>\n",
       "      <td>33.770</td>\n",
       "      <td>1</td>\n",
       "      <td>no</td>\n",
       "      <td>southeast</td>\n",
       "      <td>1725.55230</td>\n",
       "      <td>Obese</td>\n",
       "    </tr>\n",
       "    <tr>\n",
       "      <th>2</th>\n",
       "      <td>28</td>\n",
       "      <td>male</td>\n",
       "      <td>33.000</td>\n",
       "      <td>3</td>\n",
       "      <td>no</td>\n",
       "      <td>southeast</td>\n",
       "      <td>4449.46200</td>\n",
       "      <td>Obese</td>\n",
       "    </tr>\n",
       "    <tr>\n",
       "      <th>3</th>\n",
       "      <td>33</td>\n",
       "      <td>male</td>\n",
       "      <td>22.705</td>\n",
       "      <td>0</td>\n",
       "      <td>no</td>\n",
       "      <td>northwest</td>\n",
       "      <td>21984.47061</td>\n",
       "      <td>Healthy</td>\n",
       "    </tr>\n",
       "    <tr>\n",
       "      <th>4</th>\n",
       "      <td>32</td>\n",
       "      <td>male</td>\n",
       "      <td>28.880</td>\n",
       "      <td>0</td>\n",
       "      <td>no</td>\n",
       "      <td>northwest</td>\n",
       "      <td>3866.85520</td>\n",
       "      <td>Overweight</td>\n",
       "    </tr>\n",
       "  </tbody>\n",
       "</table>\n",
       "</div>"
      ],
      "text/plain": [
       "   age     sex     bmi  children smoker     region      charges   bmiBinned\n",
       "0   19  female  27.900         0    yes  southwest  16884.92400  Overweight\n",
       "1   18    male  33.770         1     no  southeast   1725.55230       Obese\n",
       "2   28    male  33.000         3     no  southeast   4449.46200       Obese\n",
       "3   33    male  22.705         0     no  northwest  21984.47061     Healthy\n",
       "4   32    male  28.880         0     no  northwest   3866.85520  Overweight"
      ]
     },
     "execution_count": 15,
     "metadata": {},
     "output_type": "execute_result"
    }
   ],
   "source": [
    "# Create bins based on those ranges and labels\n",
    "df['bmiBinned'] = pd.cut(df.bmi, bins=[0, 18.5, 25.0, 30.0, 100], \n",
    "                         labels=['Underweight','Healthy','Overweight','Obese'], \n",
    "                         right=True)\n",
    "df.head()"
   ]
  },
  {
   "cell_type": "markdown",
   "id": "ba086c33",
   "metadata": {},
   "source": [
    "### Students should bin the data into underweight, healthy, overweight, and obese categories. Some minor variation in the bin edges and labels is acceptable"
   ]
  },
  {
   "cell_type": "markdown",
   "id": "cb2b596a",
   "metadata": {},
   "source": [
    "## How are the charges related to the bmi?"
   ]
  },
  {
   "cell_type": "code",
   "execution_count": 16,
   "id": "5006f3a7",
   "metadata": {},
   "outputs": [
    {
     "data": {
      "text/plain": [
       "<seaborn.axisgrid.FacetGrid at 0x25bd2507880>"
      ]
     },
     "execution_count": 16,
     "metadata": {},
     "output_type": "execute_result"
    },
    {
     "data": {
      "image/png": "[encoded data removed]",
      "text/plain": [
       "<Figure size 360x360 with 1 Axes>"
      ]
     },
     "metadata": {
      "needs_background": "light"
     },
     "output_type": "display_data"
    }
   ],
   "source": [
    "sns.relplot(data=df, x='bmi', y='charges', kind='scatter')"
   ]
  },
  {
   "cell_type": "raw",
   "id": "f70be296",
   "metadata": {},
   "source": [
    "At the low end of the bmi, there are very few charges over $30k but this gets more and more common as bmi increases."
   ]
  },
  {
   "cell_type": "markdown",
   "id": "67589434",
   "metadata": {},
   "source": [
    "### The scatter plot above shows that medical charges increase as bmi increases"
   ]
  },
  {
   "cell_type": "markdown",
   "id": "b7c16484",
   "metadata": {},
   "source": [
    "## How is the smoker status related to the charges?"
   ]
  },
  {
   "cell_type": "code",
   "execution_count": 18,
   "id": "18491b23",
   "metadata": {},
   "outputs": [
    {
     "data": {
      "text/html": [
       "<div>\n",
       "<style scoped>\n",
       "    .dataframe tbody tr th:only-of-type {\n",
       "        vertical-align: middle;\n",
       "    }\n",
       "\n",
       "    .dataframe tbody tr th {\n",
       "        vertical-align: top;\n",
       "    }\n",
       "\n",
       "    .dataframe thead th {\n",
       "        text-align: right;\n",
       "    }\n",
       "</style>\n",
       "<table border=\"1\" class=\"dataframe\">\n",
       "  <thead>\n",
       "    <tr style=\"text-align: right;\">\n",
       "      <th></th>\n",
       "      <th>smoker</th>\n",
       "      <th>no</th>\n",
       "      <th>yes</th>\n",
       "    </tr>\n",
       "  </thead>\n",
       "  <tbody>\n",
       "    <tr>\n",
       "      <th rowspan=\"8\" valign=\"top\">charges</th>\n",
       "      <th>count</th>\n",
       "      <td>1064.000000</td>\n",
       "      <td>274.000000</td>\n",
       "    </tr>\n",
       "    <tr>\n",
       "      <th>mean</th>\n",
       "      <td>8434.268298</td>\n",
       "      <td>32050.231832</td>\n",
       "    </tr>\n",
       "    <tr>\n",
       "      <th>std</th>\n",
       "      <td>5993.781819</td>\n",
       "      <td>11541.547176</td>\n",
       "    </tr>\n",
       "    <tr>\n",
       "      <th>min</th>\n",
       "      <td>1121.873900</td>\n",
       "      <td>12829.455100</td>\n",
       "    </tr>\n",
       "    <tr>\n",
       "      <th>25%</th>\n",
       "      <td>3986.438700</td>\n",
       "      <td>20826.244213</td>\n",
       "    </tr>\n",
       "    <tr>\n",
       "      <th>50%</th>\n",
       "      <td>7345.405300</td>\n",
       "      <td>34456.348450</td>\n",
       "    </tr>\n",
       "    <tr>\n",
       "      <th>75%</th>\n",
       "      <td>11362.887050</td>\n",
       "      <td>41019.207275</td>\n",
       "    </tr>\n",
       "    <tr>\n",
       "      <th>max</th>\n",
       "      <td>36910.608030</td>\n",
       "      <td>63770.428010</td>\n",
       "    </tr>\n",
       "  </tbody>\n",
       "</table>\n",
       "</div>"
      ],
      "text/plain": [
       "smoker                   no           yes\n",
       "charges count   1064.000000    274.000000\n",
       "        mean    8434.268298  32050.231832\n",
       "        std     5993.781819  11541.547176\n",
       "        min     1121.873900  12829.455100\n",
       "        25%     3986.438700  20826.244213\n",
       "        50%     7345.405300  34456.348450\n",
       "        75%    11362.887050  41019.207275\n",
       "        max    36910.608030  63770.428010"
      ]
     },
     "execution_count": 18,
     "metadata": {},
     "output_type": "execute_result"
    }
   ],
   "source": [
    "df.groupby('smoker').describe()[['charges']].T"
   ]
  },
  {
   "cell_type": "code",
   "execution_count": 32,
   "id": "a485fab5",
   "metadata": {},
   "outputs": [
    {
     "data": {
      "text/plain": [
       "<seaborn.axisgrid.FacetGrid at 0x25bd3ffff40>"
      ]
     },
     "execution_count": 32,
     "metadata": {},
     "output_type": "execute_result"
    },
    {
     "data": {
      "image/png": "[encoded data removed]",
      "text/plain": [
       "<Figure size 360x360 with 1 Axes>"
      ]
     },
     "metadata": {
      "needs_background": "light"
     },
     "output_type": "display_data"
    }
   ],
   "source": [
    "# this chart gives information similar to the describe() method\n",
    "sns.catplot(data=df, x='smoker', y='charges', kind='box')"
   ]
  },
  {
   "cell_type": "raw",
   "id": "2d676f7d",
   "metadata": {},
   "source": [
    "Since the mean can be skewed by outliers, its best to use the describe() method so that you can examine the data at several percentiles to get a more definitive picture of the data. As you can see, from the min to the max, the medical charges are far higher for smokers."
   ]
  },
  {
   "cell_type": "markdown",
   "id": "7cac73b1",
   "metadata": {},
   "source": [
    "### Smokers' medical bills are much higher than non-smokers"
   ]
  },
  {
   "cell_type": "markdown",
   "id": "b106b200",
   "metadata": {},
   "source": [
    "## How are the charges related to the region?"
   ]
  },
  {
   "cell_type": "code",
   "execution_count": 19,
   "id": "8132f4b3",
   "metadata": {},
   "outputs": [
    {
     "data": {
      "text/html": [
       "<div>\n",
       "<style scoped>\n",
       "    .dataframe tbody tr th:only-of-type {\n",
       "        vertical-align: middle;\n",
       "    }\n",
       "\n",
       "    .dataframe tbody tr th {\n",
       "        vertical-align: top;\n",
       "    }\n",
       "\n",
       "    .dataframe thead th {\n",
       "        text-align: right;\n",
       "    }\n",
       "</style>\n",
       "<table border=\"1\" class=\"dataframe\">\n",
       "  <thead>\n",
       "    <tr style=\"text-align: right;\">\n",
       "      <th></th>\n",
       "      <th>region</th>\n",
       "      <th>northeast</th>\n",
       "      <th>northwest</th>\n",
       "      <th>southeast</th>\n",
       "      <th>southwest</th>\n",
       "    </tr>\n",
       "  </thead>\n",
       "  <tbody>\n",
       "    <tr>\n",
       "      <th rowspan=\"8\" valign=\"top\">charges</th>\n",
       "      <th>count</th>\n",
       "      <td>324.000000</td>\n",
       "      <td>325.000000</td>\n",
       "      <td>364.000000</td>\n",
       "      <td>325.000000</td>\n",
       "    </tr>\n",
       "    <tr>\n",
       "      <th>mean</th>\n",
       "      <td>13406.384516</td>\n",
       "      <td>12417.575374</td>\n",
       "      <td>14735.411438</td>\n",
       "      <td>12346.937377</td>\n",
       "    </tr>\n",
       "    <tr>\n",
       "      <th>std</th>\n",
       "      <td>11255.803066</td>\n",
       "      <td>11072.276928</td>\n",
       "      <td>13971.098589</td>\n",
       "      <td>11557.179101</td>\n",
       "    </tr>\n",
       "    <tr>\n",
       "      <th>min</th>\n",
       "      <td>1694.796400</td>\n",
       "      <td>1621.340200</td>\n",
       "      <td>1121.873900</td>\n",
       "      <td>1241.565000</td>\n",
       "    </tr>\n",
       "    <tr>\n",
       "      <th>25%</th>\n",
       "      <td>5194.322288</td>\n",
       "      <td>4719.736550</td>\n",
       "      <td>4440.886200</td>\n",
       "      <td>4751.070000</td>\n",
       "    </tr>\n",
       "    <tr>\n",
       "      <th>50%</th>\n",
       "      <td>10057.652025</td>\n",
       "      <td>8965.795750</td>\n",
       "      <td>9294.131950</td>\n",
       "      <td>8798.593000</td>\n",
       "    </tr>\n",
       "    <tr>\n",
       "      <th>75%</th>\n",
       "      <td>16687.364100</td>\n",
       "      <td>14711.743800</td>\n",
       "      <td>19526.286900</td>\n",
       "      <td>13462.520000</td>\n",
       "    </tr>\n",
       "    <tr>\n",
       "      <th>max</th>\n",
       "      <td>58571.074480</td>\n",
       "      <td>60021.398970</td>\n",
       "      <td>63770.428010</td>\n",
       "      <td>52590.829390</td>\n",
       "    </tr>\n",
       "  </tbody>\n",
       "</table>\n",
       "</div>"
      ],
      "text/plain": [
       "region            northeast     northwest     southeast     southwest\n",
       "charges count    324.000000    325.000000    364.000000    325.000000\n",
       "        mean   13406.384516  12417.575374  14735.411438  12346.937377\n",
       "        std    11255.803066  11072.276928  13971.098589  11557.179101\n",
       "        min     1694.796400   1621.340200   1121.873900   1241.565000\n",
       "        25%     5194.322288   4719.736550   4440.886200   4751.070000\n",
       "        50%    10057.652025   8965.795750   9294.131950   8798.593000\n",
       "        75%    16687.364100  14711.743800  19526.286900  13462.520000\n",
       "        max    58571.074480  60021.398970  63770.428010  52590.829390"
      ]
     },
     "execution_count": 19,
     "metadata": {},
     "output_type": "execute_result"
    }
   ],
   "source": [
    "df.groupby('region').describe()[['charges']].T"
   ]
  },
  {
   "cell_type": "code",
   "execution_count": 34,
   "id": "c1c3d55e",
   "metadata": {},
   "outputs": [
    {
     "data": {
      "text/plain": [
       "<seaborn.axisgrid.FacetGrid at 0x25bd45f8b20>"
      ]
     },
     "execution_count": 34,
     "metadata": {},
     "output_type": "execute_result"
    },
    {
     "data": {
      "image/png": "[encoded data removed]",
      "text/plain": [
       "<Figure size 360x360 with 1 Axes>"
      ]
     },
     "metadata": {
      "needs_background": "light"
     },
     "output_type": "display_data"
    }
   ],
   "source": [
    "# this chart gives information similar to the describe() method\n",
    "sns.catplot(data=df, x='region', y='charges', kind='box')"
   ]
  },
  {
   "cell_type": "raw",
   "id": "71649f69",
   "metadata": {},
   "source": [
    "Each region is pretty close, but the southeast has slightly more charges on the higher end"
   ]
  },
  {
   "cell_type": "markdown",
   "id": "e0780c2b",
   "metadata": {},
   "source": [
    "### The southeast has more charges on the higher end"
   ]
  },
  {
   "cell_type": "markdown",
   "id": "6142e260",
   "metadata": {},
   "source": [
    "## Which region has the highest obesity percentage?"
   ]
  },
  {
   "cell_type": "code",
   "execution_count": 73,
   "id": "f2918875",
   "metadata": {},
   "outputs": [
    {
     "data": {
      "text/html": [
       "<div>\n",
       "<style scoped>\n",
       "    .dataframe tbody tr th:only-of-type {\n",
       "        vertical-align: middle;\n",
       "    }\n",
       "\n",
       "    .dataframe tbody tr th {\n",
       "        vertical-align: top;\n",
       "    }\n",
       "\n",
       "    .dataframe thead th {\n",
       "        text-align: right;\n",
       "    }\n",
       "</style>\n",
       "<table border=\"1\" class=\"dataframe\">\n",
       "  <thead>\n",
       "    <tr style=\"text-align: right;\">\n",
       "      <th></th>\n",
       "      <th>region</th>\n",
       "      <th>bmiBinned</th>\n",
       "      <th>percent</th>\n",
       "    </tr>\n",
       "  </thead>\n",
       "  <tbody>\n",
       "    <tr>\n",
       "      <th>0</th>\n",
       "      <td>northeast</td>\n",
       "      <td>Obese</td>\n",
       "      <td>0.441358</td>\n",
       "    </tr>\n",
       "    <tr>\n",
       "      <th>1</th>\n",
       "      <td>northeast</td>\n",
       "      <td>Overweight</td>\n",
       "      <td>0.302469</td>\n",
       "    </tr>\n",
       "    <tr>\n",
       "      <th>2</th>\n",
       "      <td>northeast</td>\n",
       "      <td>Healthy</td>\n",
       "      <td>0.225309</td>\n",
       "    </tr>\n",
       "    <tr>\n",
       "      <th>3</th>\n",
       "      <td>northeast</td>\n",
       "      <td>Underweight</td>\n",
       "      <td>0.030864</td>\n",
       "    </tr>\n",
       "    <tr>\n",
       "      <th>4</th>\n",
       "      <td>northwest</td>\n",
       "      <td>Obese</td>\n",
       "      <td>0.455385</td>\n",
       "    </tr>\n",
       "    <tr>\n",
       "      <th>5</th>\n",
       "      <td>northwest</td>\n",
       "      <td>Overweight</td>\n",
       "      <td>0.329231</td>\n",
       "    </tr>\n",
       "    <tr>\n",
       "      <th>6</th>\n",
       "      <td>northwest</td>\n",
       "      <td>Healthy</td>\n",
       "      <td>0.193846</td>\n",
       "    </tr>\n",
       "    <tr>\n",
       "      <th>7</th>\n",
       "      <td>northwest</td>\n",
       "      <td>Underweight</td>\n",
       "      <td>0.021538</td>\n",
       "    </tr>\n",
       "    <tr>\n",
       "      <th>8</th>\n",
       "      <td>southeast</td>\n",
       "      <td>Obese</td>\n",
       "      <td>0.667582</td>\n",
       "    </tr>\n",
       "    <tr>\n",
       "      <th>9</th>\n",
       "      <td>southeast</td>\n",
       "      <td>Overweight</td>\n",
       "      <td>0.219780</td>\n",
       "    </tr>\n",
       "    <tr>\n",
       "      <th>10</th>\n",
       "      <td>southeast</td>\n",
       "      <td>Healthy</td>\n",
       "      <td>0.112637</td>\n",
       "    </tr>\n",
       "    <tr>\n",
       "      <th>11</th>\n",
       "      <td>southwest</td>\n",
       "      <td>Obese</td>\n",
       "      <td>0.526154</td>\n",
       "    </tr>\n",
       "    <tr>\n",
       "      <th>12</th>\n",
       "      <td>southwest</td>\n",
       "      <td>Overweight</td>\n",
       "      <td>0.310769</td>\n",
       "    </tr>\n",
       "    <tr>\n",
       "      <th>13</th>\n",
       "      <td>southwest</td>\n",
       "      <td>Healthy</td>\n",
       "      <td>0.150769</td>\n",
       "    </tr>\n",
       "    <tr>\n",
       "      <th>14</th>\n",
       "      <td>southwest</td>\n",
       "      <td>Underweight</td>\n",
       "      <td>0.012308</td>\n",
       "    </tr>\n",
       "  </tbody>\n",
       "</table>\n",
       "</div>"
      ],
      "text/plain": [
       "       region    bmiBinned   percent\n",
       "0   northeast        Obese  0.441358\n",
       "1   northeast   Overweight  0.302469\n",
       "2   northeast      Healthy  0.225309\n",
       "3   northeast  Underweight  0.030864\n",
       "4   northwest        Obese  0.455385\n",
       "5   northwest   Overweight  0.329231\n",
       "6   northwest      Healthy  0.193846\n",
       "7   northwest  Underweight  0.021538\n",
       "8   southeast        Obese  0.667582\n",
       "9   southeast   Overweight  0.219780\n",
       "10  southeast      Healthy  0.112637\n",
       "11  southwest        Obese  0.526154\n",
       "12  southwest   Overweight  0.310769\n",
       "13  southwest      Healthy  0.150769\n",
       "14  southwest  Underweight  0.012308"
      ]
     },
     "execution_count": 73,
     "metadata": {},
     "output_type": "execute_result"
    }
   ],
   "source": [
    "pctByRegion = df.groupby('region')['bmiBinned'].value_counts(normalize=True).to_frame()\n",
    "pctByRegion.columns = ['percent']\n",
    "pctByRegion.reset_index(inplace=True)\n",
    "pctByRegion"
   ]
  },
  {
   "cell_type": "code",
   "execution_count": 74,
   "id": "691c841a",
   "metadata": {},
   "outputs": [
    {
     "data": {
      "text/plain": [
       "<seaborn.axisgrid.FacetGrid at 0x25bd4748b80>"
      ]
     },
     "execution_count": 74,
     "metadata": {},
     "output_type": "execute_result"
    },
    {
     "data": {
      "image/png": "[encoded data removed]",
      "text/plain": [
       "<Figure size 720x720 with 4 Axes>"
      ]
     },
     "metadata": {
      "needs_background": "light"
     },
     "output_type": "display_data"
    }
   ],
   "source": [
    "sns.catplot(data=pctByRegion, x='bmiBinned', y='percent', col='region', col_wrap=2, kind='bar')"
   ]
  },
  {
   "cell_type": "markdown",
   "id": "73a84587",
   "metadata": {},
   "source": [
    "### The southeast does based on the chart above"
   ]
  },
  {
   "cell_type": "code",
   "execution_count": null,
   "id": "c3a340a3",
   "metadata": {},
   "outputs": [],
   "source": []
  }
 ],
 "metadata": {
  "kernelspec": {
   "display_name": "Python 3",
   "language": "python",
   "name": "python3"
  },
  "language_info": {
   "codemirror_mode": {
    "name": "ipython",
    "version": 3
   },
   "file_extension": ".py",
   "mimetype": "text/x-python",
   "name": "python",
   "nbconvert_exporter": "python",
   "pygments_lexer": "ipython3",
   "version": "3.8.8"
  }
 },
 "nbformat": 4,
 "nbformat_minor": 5
}
