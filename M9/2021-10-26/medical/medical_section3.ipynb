{
 "cells": [
  {
   "cell_type": "markdown",
   "id": "34ca9c37",
   "metadata": {},
   "source": [
    "# Medical Costs case study - solution"
   ]
  },
  {
   "cell_type": "code",
   "execution_count": 1,
   "id": "6979c5c4",
   "metadata": {},
   "outputs": [],
   "source": [
    "import pandas as pd\n",
    "import seaborn as sns"
   ]
  },
  {
   "cell_type": "markdown",
   "id": "20329973",
   "metadata": {},
   "source": [
    "# Section 1"
   ]
  },
  {
   "cell_type": "markdown",
   "id": "a5c98ebd",
   "metadata": {},
   "source": [
    "## Get the data and examine it"
   ]
  },
  {
   "cell_type": "code",
   "execution_count": 2,
   "id": "b2aa11a0",
   "metadata": {},
   "outputs": [],
   "source": [
    "df = pd.read_csv('insurance.csv')"
   ]
  },
  {
   "cell_type": "code",
   "execution_count": 3,
   "id": "2c18dc11",
   "metadata": {},
   "outputs": [
    {
     "data": {
      "text/html": [
       "<div>\n",
       "<style scoped>\n",
       "    .dataframe tbody tr th:only-of-type {\n",
       "        vertical-align: middle;\n",
       "    }\n",
       "\n",
       "    .dataframe tbody tr th {\n",
       "        vertical-align: top;\n",
       "    }\n",
       "\n",
       "    .dataframe thead th {\n",
       "        text-align: right;\n",
       "    }\n",
       "</style>\n",
       "<table border=\"1\" class=\"dataframe\">\n",
       "  <thead>\n",
       "    <tr style=\"text-align: right;\">\n",
       "      <th></th>\n",
       "      <th>age</th>\n",
       "      <th>sex</th>\n",
       "      <th>bmi</th>\n",
       "      <th>children</th>\n",
       "      <th>smoker</th>\n",
       "      <th>region</th>\n",
       "      <th>charges</th>\n",
       "    </tr>\n",
       "  </thead>\n",
       "  <tbody>\n",
       "    <tr>\n",
       "      <th>0</th>\n",
       "      <td>19</td>\n",
       "      <td>female</td>\n",
       "      <td>27.900</td>\n",
       "      <td>0</td>\n",
       "      <td>yes</td>\n",
       "      <td>southwest</td>\n",
       "      <td>16884.92400</td>\n",
       "    </tr>\n",
       "    <tr>\n",
       "      <th>1</th>\n",
       "      <td>18</td>\n",
       "      <td>male</td>\n",
       "      <td>33.770</td>\n",
       "      <td>1</td>\n",
       "      <td>no</td>\n",
       "      <td>southeast</td>\n",
       "      <td>1725.55230</td>\n",
       "    </tr>\n",
       "    <tr>\n",
       "      <th>2</th>\n",
       "      <td>28</td>\n",
       "      <td>male</td>\n",
       "      <td>33.000</td>\n",
       "      <td>3</td>\n",
       "      <td>no</td>\n",
       "      <td>southeast</td>\n",
       "      <td>4449.46200</td>\n",
       "    </tr>\n",
       "    <tr>\n",
       "      <th>3</th>\n",
       "      <td>33</td>\n",
       "      <td>male</td>\n",
       "      <td>22.705</td>\n",
       "      <td>0</td>\n",
       "      <td>no</td>\n",
       "      <td>northwest</td>\n",
       "      <td>21984.47061</td>\n",
       "    </tr>\n",
       "    <tr>\n",
       "      <th>4</th>\n",
       "      <td>32</td>\n",
       "      <td>male</td>\n",
       "      <td>28.880</td>\n",
       "      <td>0</td>\n",
       "      <td>no</td>\n",
       "      <td>northwest</td>\n",
       "      <td>3866.85520</td>\n",
       "    </tr>\n",
       "  </tbody>\n",
       "</table>\n",
       "</div>"
      ],
      "text/plain": [
       "   age     sex     bmi  children smoker     region      charges\n",
       "0   19  female  27.900         0    yes  southwest  16884.92400\n",
       "1   18    male  33.770         1     no  southeast   1725.55230\n",
       "2   28    male  33.000         3     no  southeast   4449.46200\n",
       "3   33    male  22.705         0     no  northwest  21984.47061\n",
       "4   32    male  28.880         0     no  northwest   3866.85520"
      ]
     },
     "execution_count": 3,
     "metadata": {},
     "output_type": "execute_result"
    }
   ],
   "source": [
    "df.head()"
   ]
  },
  {
   "cell_type": "code",
   "execution_count": 4,
   "id": "dbb1898b",
   "metadata": {},
   "outputs": [
    {
     "name": "stdout",
     "output_type": "stream",
     "text": [
      "<class 'pandas.core.frame.DataFrame'>\n",
      "RangeIndex: 1338 entries, 0 to 1337\n",
      "Data columns (total 7 columns):\n",
      " #   Column    Non-Null Count  Dtype  \n",
      "---  ------    --------------  -----  \n",
      " 0   age       1338 non-null   int64  \n",
      " 1   sex       1338 non-null   object \n",
      " 2   bmi       1338 non-null   float64\n",
      " 3   children  1338 non-null   int64  \n",
      " 4   smoker    1338 non-null   object \n",
      " 5   region    1338 non-null   object \n",
      " 6   charges   1338 non-null   float64\n",
      "dtypes: float64(2), int64(2), object(3)\n",
      "memory usage: 73.3+ KB\n"
     ]
    }
   ],
   "source": [
    "df.info()"
   ]
  },
  {
   "cell_type": "code",
   "execution_count": 5,
   "id": "0aca275d",
   "metadata": {},
   "outputs": [
    {
     "data": {
      "text/plain": [
       "age           47\n",
       "sex            2\n",
       "bmi          548\n",
       "children       6\n",
       "smoker         2\n",
       "region         4\n",
       "charges     1337\n",
       "dtype: int64"
      ]
     },
     "execution_count": 5,
     "metadata": {},
     "output_type": "execute_result"
    }
   ],
   "source": [
    "df.nunique()"
   ]
  },
  {
   "cell_type": "markdown",
   "id": "ff17789a",
   "metadata": {},
   "source": [
    "## How is age related to medical costs?"
   ]
  },
  {
   "cell_type": "code",
   "execution_count": 6,
   "id": "b6d63839",
   "metadata": {},
   "outputs": [
    {
     "data": {
      "text/plain": [
       "<AxesSubplot:xlabel='age', ylabel='charges'>"
      ]
     },
     "execution_count": 6,
     "metadata": {},
     "output_type": "execute_result"
    },
    {
     "data": {
      "image/png": "[encoded data removed]",
      "text/plain": [
       "<Figure size 432x288 with 1 Axes>"
      ]
     },
     "metadata": {
      "needs_background": "light"
     },
     "output_type": "display_data"
    }
   ],
   "source": [
    "sns.scatterplot(data=df, x='age', y='charges')"
   ]
  },
  {
   "cell_type": "markdown",
   "id": "901c8667",
   "metadata": {},
   "source": [
    "### As age goes up so do medical costs"
   ]
  },
  {
   "cell_type": "markdown",
   "id": "ab085ff5",
   "metadata": {},
   "source": [
    "## How is number of children related to medical costs?"
   ]
  },
  {
   "cell_type": "code",
   "execution_count": 7,
   "id": "11bbb1d2",
   "metadata": {},
   "outputs": [
    {
     "data": {
      "text/html": [
       "<div>\n",
       "<style scoped>\n",
       "    .dataframe tbody tr th:only-of-type {\n",
       "        vertical-align: middle;\n",
       "    }\n",
       "\n",
       "    .dataframe tbody tr th {\n",
       "        vertical-align: top;\n",
       "    }\n",
       "\n",
       "    .dataframe thead th {\n",
       "        text-align: right;\n",
       "    }\n",
       "</style>\n",
       "<table border=\"1\" class=\"dataframe\">\n",
       "  <thead>\n",
       "    <tr style=\"text-align: right;\">\n",
       "      <th></th>\n",
       "      <th>children</th>\n",
       "      <th>charges</th>\n",
       "    </tr>\n",
       "  </thead>\n",
       "  <tbody>\n",
       "    <tr>\n",
       "      <th>0</th>\n",
       "      <td>0</td>\n",
       "      <td>12365.975602</td>\n",
       "    </tr>\n",
       "    <tr>\n",
       "      <th>1</th>\n",
       "      <td>1</td>\n",
       "      <td>12731.171832</td>\n",
       "    </tr>\n",
       "    <tr>\n",
       "      <th>2</th>\n",
       "      <td>2</td>\n",
       "      <td>15073.563734</td>\n",
       "    </tr>\n",
       "    <tr>\n",
       "      <th>3</th>\n",
       "      <td>3</td>\n",
       "      <td>15355.318367</td>\n",
       "    </tr>\n",
       "    <tr>\n",
       "      <th>4</th>\n",
       "      <td>4</td>\n",
       "      <td>13850.656311</td>\n",
       "    </tr>\n",
       "    <tr>\n",
       "      <th>5</th>\n",
       "      <td>5</td>\n",
       "      <td>8786.035247</td>\n",
       "    </tr>\n",
       "  </tbody>\n",
       "</table>\n",
       "</div>"
      ],
      "text/plain": [
       "   children       charges\n",
       "0         0  12365.975602\n",
       "1         1  12731.171832\n",
       "2         2  15073.563734\n",
       "3         3  15355.318367\n",
       "4         4  13850.656311\n",
       "5         5   8786.035247"
      ]
     },
     "execution_count": 7,
     "metadata": {},
     "output_type": "execute_result"
    }
   ],
   "source": [
    "children = df.groupby('children').mean()[['charges']].reset_index()\n",
    "children"
   ]
  },
  {
   "cell_type": "code",
   "execution_count": 8,
   "id": "782e1a94",
   "metadata": {},
   "outputs": [
    {
     "data": {
      "image/png": "[encoded data removed]",
      "text/plain": [
       "<Figure size 360x360 with 1 Axes>"
      ]
     },
     "metadata": {
      "needs_background": "light"
     },
     "output_type": "display_data"
    }
   ],
   "source": [
    "g = sns.catplot(data=children, kind='bar', x='children', y='charges')\n",
    "\n",
    "for ax in g.axes.flat:\n",
    "    ax.set(title='Average medical costs by number of children',\n",
    "           ylabel='Costs',\n",
    "           xlabel='Children')"
   ]
  },
  {
   "cell_type": "markdown",
   "id": "e854147f",
   "metadata": {},
   "source": [
    "### The plot above shows how costs relate to the number of children"
   ]
  },
  {
   "cell_type": "raw",
   "id": "9a11f83d",
   "metadata": {},
   "source": [
    "A person's medical costs go up with the number of children until you reach 3 children. After that, they go down. This might be due to the small sample size for people that have more than 3 children as shown by the table below."
   ]
  },
  {
   "cell_type": "code",
   "execution_count": 9,
   "id": "2e21fb9e",
   "metadata": {},
   "outputs": [
    {
     "data": {
      "text/html": [
       "<div>\n",
       "<style scoped>\n",
       "    .dataframe tbody tr th:only-of-type {\n",
       "        vertical-align: middle;\n",
       "    }\n",
       "\n",
       "    .dataframe tbody tr th {\n",
       "        vertical-align: top;\n",
       "    }\n",
       "\n",
       "    .dataframe thead th {\n",
       "        text-align: right;\n",
       "    }\n",
       "</style>\n",
       "<table border=\"1\" class=\"dataframe\">\n",
       "  <thead>\n",
       "    <tr style=\"text-align: right;\">\n",
       "      <th></th>\n",
       "      <th>age</th>\n",
       "    </tr>\n",
       "    <tr>\n",
       "      <th>children</th>\n",
       "      <th></th>\n",
       "    </tr>\n",
       "  </thead>\n",
       "  <tbody>\n",
       "    <tr>\n",
       "      <th>0</th>\n",
       "      <td>574</td>\n",
       "    </tr>\n",
       "    <tr>\n",
       "      <th>1</th>\n",
       "      <td>324</td>\n",
       "    </tr>\n",
       "    <tr>\n",
       "      <th>2</th>\n",
       "      <td>240</td>\n",
       "    </tr>\n",
       "    <tr>\n",
       "      <th>3</th>\n",
       "      <td>157</td>\n",
       "    </tr>\n",
       "    <tr>\n",
       "      <th>4</th>\n",
       "      <td>25</td>\n",
       "    </tr>\n",
       "    <tr>\n",
       "      <th>5</th>\n",
       "      <td>18</td>\n",
       "    </tr>\n",
       "  </tbody>\n",
       "</table>\n",
       "</div>"
      ],
      "text/plain": [
       "          age\n",
       "children     \n",
       "0         574\n",
       "1         324\n",
       "2         240\n",
       "3         157\n",
       "4          25\n",
       "5          18"
      ]
     },
     "execution_count": 9,
     "metadata": {},
     "output_type": "execute_result"
    }
   ],
   "source": [
    "df.groupby('children').count()[['age']]"
   ]
  },
  {
   "cell_type": "markdown",
   "id": "e9de8cbc",
   "metadata": {},
   "source": [
    "## How is the number of people distributed by region?"
   ]
  },
  {
   "cell_type": "code",
   "execution_count": 10,
   "id": "7bae11f9",
   "metadata": {},
   "outputs": [
    {
     "data": {
      "text/html": [
       "<div>\n",
       "<style scoped>\n",
       "    .dataframe tbody tr th:only-of-type {\n",
       "        vertical-align: middle;\n",
       "    }\n",
       "\n",
       "    .dataframe tbody tr th {\n",
       "        vertical-align: top;\n",
       "    }\n",
       "\n",
       "    .dataframe thead th {\n",
       "        text-align: right;\n",
       "    }\n",
       "</style>\n",
       "<table border=\"1\" class=\"dataframe\">\n",
       "  <thead>\n",
       "    <tr style=\"text-align: right;\">\n",
       "      <th></th>\n",
       "      <th>charges</th>\n",
       "    </tr>\n",
       "    <tr>\n",
       "      <th>region</th>\n",
       "      <th></th>\n",
       "    </tr>\n",
       "  </thead>\n",
       "  <tbody>\n",
       "    <tr>\n",
       "      <th>northeast</th>\n",
       "      <td>324</td>\n",
       "    </tr>\n",
       "    <tr>\n",
       "      <th>northwest</th>\n",
       "      <td>325</td>\n",
       "    </tr>\n",
       "    <tr>\n",
       "      <th>southeast</th>\n",
       "      <td>364</td>\n",
       "    </tr>\n",
       "    <tr>\n",
       "      <th>southwest</th>\n",
       "      <td>325</td>\n",
       "    </tr>\n",
       "  </tbody>\n",
       "</table>\n",
       "</div>"
      ],
      "text/plain": [
       "           charges\n",
       "region            \n",
       "northeast      324\n",
       "northwest      325\n",
       "southeast      364\n",
       "southwest      325"
      ]
     },
     "execution_count": 10,
     "metadata": {},
     "output_type": "execute_result"
    }
   ],
   "source": [
    "df.groupby('region').count()[['charges']]"
   ]
  },
  {
   "cell_type": "code",
   "execution_count": 11,
   "id": "5bf8318a",
   "metadata": {},
   "outputs": [
    {
     "data": {
      "text/plain": [
       "<AxesSubplot:ylabel='region'>"
      ]
     },
     "execution_count": 11,
     "metadata": {},
     "output_type": "execute_result"
    },
    {
     "data": {
      "image/png": "[encoded data removed]",
      "text/plain": [
       "<Figure size 432x288 with 1 Axes>"
      ]
     },
     "metadata": {
      "needs_background": "light"
     },
     "output_type": "display_data"
    }
   ],
   "source": [
    "df.groupby('region').count()[['charges']].plot(kind='barh')"
   ]
  },
  {
   "cell_type": "markdown",
   "id": "b6bcaf89",
   "metadata": {},
   "source": [
    "### The number of people sampled from each region is roughly equal, but there is slightly more in the southeast"
   ]
  },
  {
   "cell_type": "markdown",
   "id": "ded2502b",
   "metadata": {},
   "source": [
    "## How is the number of people distributed by age?"
   ]
  },
  {
   "cell_type": "code",
   "execution_count": 12,
   "id": "372b69b2",
   "metadata": {},
   "outputs": [
    {
     "data": {
      "text/plain": [
       "<AxesSubplot:ylabel='Density'>"
      ]
     },
     "execution_count": 12,
     "metadata": {},
     "output_type": "execute_result"
    },
    {
     "data": {
      "image/png": "[encoded data removed]",
      "text/plain": [
       "<Figure size 432x288 with 1 Axes>"
      ]
     },
     "metadata": {
      "needs_background": "light"
     },
     "output_type": "display_data"
    }
   ],
   "source": [
    "df.groupby('age').count()[['charges']].plot(kind='kde')"
   ]
  },
  {
   "cell_type": "markdown",
   "id": "a88b7874",
   "metadata": {},
   "source": [
    "### Most people are between 20 and 40 with another cluster between 60 and 80"
   ]
  },
  {
   "cell_type": "markdown",
   "id": "a16fc765",
   "metadata": {},
   "source": [
    "## How are the charges distributed?"
   ]
  },
  {
   "cell_type": "code",
   "execution_count": 13,
   "id": "5e1f8939",
   "metadata": {},
   "outputs": [
    {
     "data": {
      "text/plain": [
       "count     1338.000000\n",
       "mean     13270.422265\n",
       "std      12110.011237\n",
       "min       1121.873900\n",
       "25%       4740.287150\n",
       "50%       9382.033000\n",
       "75%      16639.912515\n",
       "max      63770.428010\n",
       "Name: charges, dtype: float64"
      ]
     },
     "execution_count": 13,
     "metadata": {},
     "output_type": "execute_result"
    }
   ],
   "source": [
    "df.charges.describe()"
   ]
  },
  {
   "cell_type": "code",
   "execution_count": 14,
   "id": "7a81e105",
   "metadata": {},
   "outputs": [
    {
     "data": {
      "text/plain": [
       "<AxesSubplot:ylabel='Density'>"
      ]
     },
     "execution_count": 14,
     "metadata": {},
     "output_type": "execute_result"
    },
    {
     "data": {
      "image/png": "[encoded data removed]",
      "text/plain": [
       "<Figure size 432x288 with 1 Axes>"
      ]
     },
     "metadata": {
      "needs_background": "light"
     },
     "output_type": "display_data"
    }
   ],
   "source": [
    "df.charges.plot(kind='kde')"
   ]
  },
  {
   "cell_type": "markdown",
   "id": "b8fa96fe",
   "metadata": {},
   "source": [
    "### Most charges are less than 20,000 but the charges range up to about 63,000"
   ]
  },
  {
   "cell_type": "markdown",
   "id": "10270f90",
   "metadata": {},
   "source": [
    "# Section 2"
   ]
  },
  {
   "cell_type": "markdown",
   "id": "1e3793b5",
   "metadata": {},
   "source": [
    "## Bin the bmi data"
   ]
  },
  {
   "cell_type": "raw",
   "id": "68fe3402",
   "metadata": {},
   "source": [
    "A google search finds the following classifications for bmi:\n",
    "    <18.5 = underweight\n",
    "    18.6-24.9 = healthy\n",
    "    25-29.9 = overweight\n",
    "    30+ = obese"
   ]
  },
  {
   "cell_type": "code",
   "execution_count": 15,
   "id": "0c69c514",
   "metadata": {},
   "outputs": [
    {
     "data": {
      "text/html": [
       "<div>\n",
       "<style scoped>\n",
       "    .dataframe tbody tr th:only-of-type {\n",
       "        vertical-align: middle;\n",
       "    }\n",
       "\n",
       "    .dataframe tbody tr th {\n",
       "        vertical-align: top;\n",
       "    }\n",
       "\n",
       "    .dataframe thead th {\n",
       "        text-align: right;\n",
       "    }\n",
       "</style>\n",
       "<table border=\"1\" class=\"dataframe\">\n",
       "  <thead>\n",
       "    <tr style=\"text-align: right;\">\n",
       "      <th></th>\n",
       "      <th>age</th>\n",
       "      <th>sex</th>\n",
       "      <th>bmi</th>\n",
       "      <th>children</th>\n",
       "      <th>smoker</th>\n",
       "      <th>region</th>\n",
       "      <th>charges</th>\n",
       "      <th>bmiBinned</th>\n",
       "    </tr>\n",
       "  </thead>\n",
       "  <tbody>\n",
       "    <tr>\n",
       "      <th>0</th>\n",
       "      <td>19</td>\n",
       "      <td>female</td>\n",
       "      <td>27.900</td>\n",
       "      <td>0</td>\n",
       "      <td>yes</td>\n",
       "      <td>southwest</td>\n",
       "      <td>16884.92400</td>\n",
       "      <td>Overweight</td>\n",
       "    </tr>\n",
       "    <tr>\n",
       "      <th>1</th>\n",
       "      <td>18</td>\n",
       "      <td>male</td>\n",
       "      <td>33.770</td>\n",
       "      <td>1</td>\n",
       "      <td>no</td>\n",
       "      <td>southeast</td>\n",
       "      <td>1725.55230</td>\n",
       "      <td>Obese</td>\n",
       "    </tr>\n",
       "    <tr>\n",
       "      <th>2</th>\n",
       "      <td>28</td>\n",
       "      <td>male</td>\n",
       "      <td>33.000</td>\n",
       "      <td>3</td>\n",
       "      <td>no</td>\n",
       "      <td>southeast</td>\n",
       "      <td>4449.46200</td>\n",
       "      <td>Obese</td>\n",
       "    </tr>\n",
       "    <tr>\n",
       "      <th>3</th>\n",
       "      <td>33</td>\n",
       "      <td>male</td>\n",
       "      <td>22.705</td>\n",
       "      <td>0</td>\n",
       "      <td>no</td>\n",
       "      <td>northwest</td>\n",
       "      <td>21984.47061</td>\n",
       "      <td>Healthy</td>\n",
       "    </tr>\n",
       "    <tr>\n",
       "      <th>4</th>\n",
       "      <td>32</td>\n",
       "      <td>male</td>\n",
       "      <td>28.880</td>\n",
       "      <td>0</td>\n",
       "      <td>no</td>\n",
       "      <td>northwest</td>\n",
       "      <td>3866.85520</td>\n",
       "      <td>Overweight</td>\n",
       "    </tr>\n",
       "  </tbody>\n",
       "</table>\n",
       "</div>"
      ],
      "text/plain": [
       "   age     sex     bmi  children smoker     region      charges   bmiBinned\n",
       "0   19  female  27.900         0    yes  southwest  16884.92400  Overweight\n",
       "1   18    male  33.770         1     no  southeast   1725.55230       Obese\n",
       "2   28    male  33.000         3     no  southeast   4449.46200       Obese\n",
       "3   33    male  22.705         0     no  northwest  21984.47061     Healthy\n",
       "4   32    male  28.880         0     no  northwest   3866.85520  Overweight"
      ]
     },
     "execution_count": 15,
     "metadata": {},
     "output_type": "execute_result"
    }
   ],
   "source": [
    "# Create bins based on those ranges and labels\n",
    "df['bmiBinned'] = pd.cut(df.bmi, bins=[0, 18.5, 25.0, 30.0, 100], \n",
    "                         labels=['Underweight','Healthy','Overweight','Obese'], \n",
    "                         right=True)\n",
    "df.head()"
   ]
  },
  {
   "cell_type": "markdown",
   "id": "ba086c33",
   "metadata": {},
   "source": [
    "### Students should bin the data into underweight, healthy, overweight, and obese categories. Some minor variation in the bin edges and labels is acceptable"
   ]
  },
  {
   "cell_type": "markdown",
   "id": "cb2b596a",
   "metadata": {},
   "source": [
    "## How are the charges related to the bmi?"
   ]
  },
  {
   "cell_type": "code",
   "execution_count": 16,
   "id": "5006f3a7",
   "metadata": {},
   "outputs": [
    {
     "data": {
      "text/plain": [
       "<seaborn.axisgrid.FacetGrid at 0x25bd2507880>"
      ]
     },
     "execution_count": 16,
     "metadata": {},
     "output_type": "execute_result"
    },
    {
     "data": {
      "image/png": "[encoded data removed]",
      "text/plain": [
       "<Figure size 360x360 with 1 Axes>"
      ]
     },
     "metadata": {
      "needs_background": "light"
     },
     "output_type": "display_data"
    }
   ],
   "source": [
    "sns.relplot(data=df, x='bmi', y='charges', kind='scatter')"
   ]
  },
  {
   "cell_type": "raw",
   "id": "f70be296",
   "metadata": {},
   "source": [
    "At the low end of the bmi, there are very few charges over $30k but this gets more and more common as bmi increases."
   ]
  },
  {
   "cell_type": "markdown",
   "id": "67589434",
   "metadata": {},
   "source": [
    "### The scatter plot above shows that medical charges increase as bmi increases"
   ]
  },
  {
   "cell_type": "markdown",
   "id": "b7c16484",
   "metadata": {},
   "source": [
    "## How is the smoker status related to the charges?"
   ]
  },
  {
   "cell_type": "code",
   "execution_count": 18,
   "id": "18491b23",
   "metadata": {},
   "outputs": [
    {
     "data": {
      "text/html": [
       "<div>\n",
       "<style scoped>\n",
       "    .dataframe tbody tr th:only-of-type {\n",
       "        vertical-align: middle;\n",
       "    }\n",
       "\n",
       "    .dataframe tbody tr th {\n",
       "        vertical-align: top;\n",
       "    }\n",
       "\n",
       "    .dataframe thead th {\n",
       "        text-align: right;\n",
       "    }\n",
       "</style>\n",
       "<table border=\"1\" class=\"dataframe\">\n",
       "  <thead>\n",
       "    <tr style=\"text-align: right;\">\n",
       "      <th></th>\n",
       "      <th>smoker</th>\n",
       "      <th>no</th>\n",
       "      <th>yes</th>\n",
       "    </tr>\n",
       "  </thead>\n",
       "  <tbody>\n",
       "    <tr>\n",
       "      <th rowspan=\"8\" valign=\"top\">charges</th>\n",
       "      <th>count</th>\n",
       "      <td>1064.000000</td>\n",
       "      <td>274.000000</td>\n",
       "    </tr>\n",
       "    <tr>\n",
       "      <th>mean</th>\n",
       "      <td>8434.268298</td>\n",
       "      <td>32050.231832</td>\n",
       "    </tr>\n",
       "    <tr>\n",
       "      <th>std</th>\n",
       "      <td>5993.781819</td>\n",
       "      <td>11541.547176</td>\n",
       "    </tr>\n",
       "    <tr>\n",
       "      <th>min</th>\n",
       "      <td>1121.873900</td>\n",
       "      <td>12829.455100</td>\n",
       "    </tr>\n",
       "    <tr>\n",
       "      <th>25%</th>\n",
       "      <td>3986.438700</td>\n",
       "      <td>20826.244213</td>\n",
       "    </tr>\n",
       "    <tr>\n",
       "      <th>50%</th>\n",
       "      <td>7345.405300</td>\n",
       "      <td>34456.348450</td>\n",
       "    </tr>\n",
       "    <tr>\n",
       "      <th>75%</th>\n",
       "      <td>11362.887050</td>\n",
       "      <td>41019.207275</td>\n",
       "    </tr>\n",
       "    <tr>\n",
       "      <th>max</th>\n",
       "      <td>36910.608030</td>\n",
       "      <td>63770.428010</td>\n",
       "    </tr>\n",
       "  </tbody>\n",
       "</table>\n",
       "</div>"
      ],
      "text/plain": [
       "smoker                   no           yes\n",
       "charges count   1064.000000    274.000000\n",
       "        mean    8434.268298  32050.231832\n",
       "        std     5993.781819  11541.547176\n",
       "        min     1121.873900  12829.455100\n",
       "        25%     3986.438700  20826.244213\n",
       "        50%     7345.405300  34456.348450\n",
       "        75%    11362.887050  41019.207275\n",
       "        max    36910.608030  63770.428010"
      ]
     },
     "execution_count": 18,
     "metadata": {},
     "output_type": "execute_result"
    }
   ],
   "source": [
    "df.groupby('smoker').describe()[['charges']].T"
   ]
  },
  {
   "cell_type": "code",
   "execution_count": 32,
   "id": "a485fab5",
   "metadata": {},
   "outputs": [
    {
     "data": {
      "text/plain": [
       "<seaborn.axisgrid.FacetGrid at 0x25bd3ffff40>"
      ]
     },
     "execution_count": 32,
     "metadata": {},
     "output_type": "execute_result"
    },
    {
     "data": {
      "image/png": "[encoded data removed]",
      "text/plain": [
       "<Figure size 360x360 with 1 Axes>"
      ]
     },
     "metadata": {
      "needs_background": "light"
     },
     "output_type": "display_data"
    }
   ],
   "source": [
    "# this chart gives information similar to the describe() method\n",
    "sns.catplot(data=df, x='smoker', y='charges', kind='box')"
   ]
  },
  {
   "cell_type": "raw",
   "id": "2d676f7d",
   "metadata": {},
   "source": [
    "Since the mean can be skewed by outliers, its best to use the describe() method so that you can examine the data at several percentiles to get a more definitive picture of the data. As you can see, from the min to the max, the medical charges are far higher for smokers."
   ]
  },
  {
   "cell_type": "markdown",
   "id": "7cac73b1",
   "metadata": {},
   "source": [
    "### Smokers' medical bills are much higher than non-smokers"
   ]
  },
  {
   "cell_type": "markdown",
   "id": "b106b200",
   "metadata": {},
   "source": [
    "## How are the charges related to the region?"
   ]
  },
  {
   "cell_type": "code",
   "execution_count": 19,
   "id": "8132f4b3",
   "metadata": {},
   "outputs": [
    {
     "data": {
      "text/html": [
       "<div>\n",
       "<style scoped>\n",
       "    .dataframe tbody tr th:only-of-type {\n",
       "        vertical-align: middle;\n",
       "    }\n",
       "\n",
       "    .dataframe tbody tr th {\n",
       "        vertical-align: top;\n",
       "    }\n",
       "\n",
       "    .dataframe thead th {\n",
       "        text-align: right;\n",
       "    }\n",
       "</style>\n",
       "<table border=\"1\" class=\"dataframe\">\n",
       "  <thead>\n",
       "    <tr style=\"text-align: right;\">\n",
       "      <th></th>\n",
       "      <th>region</th>\n",
       "      <th>northeast</th>\n",
       "      <th>northwest</th>\n",
       "      <th>southeast</th>\n",
       "      <th>southwest</th>\n",
       "    </tr>\n",
       "  </thead>\n",
       "  <tbody>\n",
       "    <tr>\n",
       "      <th rowspan=\"8\" valign=\"top\">charges</th>\n",
       "      <th>count</th>\n",
       "      <td>324.000000</td>\n",
       "      <td>325.000000</td>\n",
       "      <td>364.000000</td>\n",
       "      <td>325.000000</td>\n",
       "    </tr>\n",
       "    <tr>\n",
       "      <th>mean</th>\n",
       "      <td>13406.384516</td>\n",
       "      <td>12417.575374</td>\n",
       "      <td>14735.411438</td>\n",
       "      <td>12346.937377</td>\n",
       "    </tr>\n",
       "    <tr>\n",
       "      <th>std</th>\n",
       "      <td>11255.803066</td>\n",
       "      <td>11072.276928</td>\n",
       "      <td>13971.098589</td>\n",
       "      <td>11557.179101</td>\n",
       "    </tr>\n",
       "    <tr>\n",
       "      <th>min</th>\n",
       "      <td>1694.796400</td>\n",
       "      <td>1621.340200</td>\n",
       "      <td>1121.873900</td>\n",
       "      <td>1241.565000</td>\n",
       "    </tr>\n",
       "    <tr>\n",
       "      <th>25%</th>\n",
       "      <td>5194.322288</td>\n",
       "      <td>4719.736550</td>\n",
       "      <td>4440.886200</td>\n",
       "      <td>4751.070000</td>\n",
       "    </tr>\n",
       "    <tr>\n",
       "      <th>50%</th>\n",
       "      <td>10057.652025</td>\n",
       "      <td>8965.795750</td>\n",
       "      <td>9294.131950</td>\n",
       "      <td>8798.593000</td>\n",
       "    </tr>\n",
       "    <tr>\n",
       "      <th>75%</th>\n",
       "      <td>16687.364100</td>\n",
       "      <td>14711.743800</td>\n",
       "      <td>19526.286900</td>\n",
       "      <td>13462.520000</td>\n",
       "    </tr>\n",
       "    <tr>\n",
       "      <th>max</th>\n",
       "      <td>58571.074480</td>\n",
       "      <td>60021.398970</td>\n",
       "      <td>63770.428010</td>\n",
       "      <td>52590.829390</td>\n",
       "    </tr>\n",
       "  </tbody>\n",
       "</table>\n",
       "</div>"
      ],
      "text/plain": [
       "region            northeast     northwest     southeast     southwest\n",
       "charges count    324.000000    325.000000    364.000000    325.000000\n",
       "        mean   13406.384516  12417.575374  14735.411438  12346.937377\n",
       "        std    11255.803066  11072.276928  13971.098589  11557.179101\n",
       "        min     1694.796400   1621.340200   1121.873900   1241.565000\n",
       "        25%     5194.322288   4719.736550   4440.886200   4751.070000\n",
       "        50%    10057.652025   8965.795750   9294.131950   8798.593000\n",
       "        75%    16687.364100  14711.743800  19526.286900  13462.520000\n",
       "        max    58571.074480  60021.398970  63770.428010  52590.829390"
      ]
     },
     "execution_count": 19,
     "metadata": {},
     "output_type": "execute_result"
    }
   ],
   "source": [
    "df.groupby('region').describe()[['charges']].T"
   ]
  },
  {
   "cell_type": "code",
   "execution_count": 34,
   "id": "c1c3d55e",
   "metadata": {},
   "outputs": [
    {
     "data": {
      "text/plain": [
       "<seaborn.axisgrid.FacetGrid at 0x25bd45f8b20>"
      ]
     },
     "execution_count": 34,
     "metadata": {},
     "output_type": "execute_result"
    },
    {
     "data": {
      "image/png": "[encoded data removed]",
      "text/plain": [
       "<Figure size 360x360 with 1 Axes>"
      ]
     },
     "metadata": {
      "needs_background": "light"
     },
     "output_type": "display_data"
    }
   ],
   "source": [
    "# this chart gives information similar to the describe() method\n",
    "sns.catplot(data=df, x='region', y='charges', kind='box')"
   ]
  },
  {
   "cell_type": "raw",
   "id": "71649f69",
   "metadata": {},
   "source": [
    "Each region is pretty close, but the southeast has slightly more charges on the higher end"
   ]
  },
  {
   "cell_type": "markdown",
   "id": "e0780c2b",
   "metadata": {},
   "source": [
    "### The southeast has more charges on the higher end"
   ]
  },
  {
   "cell_type": "markdown",
   "id": "6142e260",
   "metadata": {},
   "source": [
    "## Which region has the highest obesity percentage?"
   ]
  },
  {
   "cell_type": "code",
   "execution_count": 73,
   "id": "f2918875",
   "metadata": {},
   "outputs": [
    {
     "data": {
      "text/html": [
       "<div>\n",
       "<style scoped>\n",
       "    .dataframe tbody tr th:only-of-type {\n",
       "        vertical-align: middle;\n",
       "    }\n",
       "\n",
       "    .dataframe tbody tr th {\n",
       "        vertical-align: top;\n",
       "    }\n",
       "\n",
       "    .dataframe thead th {\n",
       "        text-align: right;\n",
       "    }\n",
       "</style>\n",
       "<table border=\"1\" class=\"dataframe\">\n",
       "  <thead>\n",
       "    <tr style=\"text-align: right;\">\n",
       "      <th></th>\n",
       "      <th>region</th>\n",
       "      <th>bmiBinned</th>\n",
       "      <th>percent</th>\n",
       "    </tr>\n",
       "  </thead>\n",
       "  <tbody>\n",
       "    <tr>\n",
       "      <th>0</th>\n",
       "      <td>northeast</td>\n",
       "      <td>Obese</td>\n",
       "      <td>0.441358</td>\n",
       "    </tr>\n",
       "    <tr>\n",
       "      <th>1</th>\n",
       "      <td>northeast</td>\n",
       "      <td>Overweight</td>\n",
       "      <td>0.302469</td>\n",
       "    </tr>\n",
       "    <tr>\n",
       "      <th>2</th>\n",
       "      <td>northeast</td>\n",
       "      <td>Healthy</td>\n",
       "      <td>0.225309</td>\n",
       "    </tr>\n",
       "    <tr>\n",
       "      <th>3</th>\n",
       "      <td>northeast</td>\n",
       "      <td>Underweight</td>\n",
       "      <td>0.030864</td>\n",
       "    </tr>\n",
       "    <tr>\n",
       "      <th>4</th>\n",
       "      <td>northwest</td>\n",
       "      <td>Obese</td>\n",
       "      <td>0.455385</td>\n",
       "    </tr>\n",
       "    <tr>\n",
       "      <th>5</th>\n",
       "      <td>northwest</td>\n",
       "      <td>Overweight</td>\n",
       "      <td>0.329231</td>\n",
       "    </tr>\n",
       "    <tr>\n",
       "      <th>6</th>\n",
       "      <td>northwest</td>\n",
       "      <td>Healthy</td>\n",
       "      <td>0.193846</td>\n",
       "    </tr>\n",
       "    <tr>\n",
       "      <th>7</th>\n",
       "      <td>northwest</td>\n",
       "      <td>Underweight</td>\n",
       "      <td>0.021538</td>\n",
       "    </tr>\n",
       "    <tr>\n",
       "      <th>8</th>\n",
       "      <td>southeast</td>\n",
       "      <td>Obese</td>\n",
       "      <td>0.667582</td>\n",
       "    </tr>\n",
       "    <tr>\n",
       "      <th>9</th>\n",
       "      <td>southeast</td>\n",
       "      <td>Overweight</td>\n",
       "      <td>0.219780</td>\n",
       "    </tr>\n",
       "    <tr>\n",
       "      <th>10</th>\n",
       "      <td>southeast</td>\n",
       "      <td>Healthy</td>\n",
       "      <td>0.112637</td>\n",
       "    </tr>\n",
       "    <tr>\n",
       "      <th>11</th>\n",
       "      <td>southwest</td>\n",
       "      <td>Obese</td>\n",
       "      <td>0.526154</td>\n",
       "    </tr>\n",
       "    <tr>\n",
       "      <th>12</th>\n",
       "      <td>southwest</td>\n",
       "      <td>Overweight</td>\n",
       "      <td>0.310769</td>\n",
       "    </tr>\n",
       "    <tr>\n",
       "      <th>13</th>\n",
       "      <td>southwest</td>\n",
       "      <td>Healthy</td>\n",
       "      <td>0.150769</td>\n",
       "    </tr>\n",
       "    <tr>\n",
       "      <th>14</th>\n",
       "      <td>southwest</td>\n",
       "      <td>Underweight</td>\n",
       "      <td>0.012308</td>\n",
       "    </tr>\n",
       "  </tbody>\n",
       "</table>\n",
       "</div>"
      ],
      "text/plain": [
       "       region    bmiBinned   percent\n",
       "0   northeast        Obese  0.441358\n",
       "1   northeast   Overweight  0.302469\n",
       "2   northeast      Healthy  0.225309\n",
       "3   northeast  Underweight  0.030864\n",
       "4   northwest        Obese  0.455385\n",
       "5   northwest   Overweight  0.329231\n",
       "6   northwest      Healthy  0.193846\n",
       "7   northwest  Underweight  0.021538\n",
       "8   southeast        Obese  0.667582\n",
       "9   southeast   Overweight  0.219780\n",
       "10  southeast      Healthy  0.112637\n",
       "11  southwest        Obese  0.526154\n",
       "12  southwest   Overweight  0.310769\n",
       "13  southwest      Healthy  0.150769\n",
       "14  southwest  Underweight  0.012308"
      ]
     },
     "execution_count": 73,
     "metadata": {},
     "output_type": "execute_result"
    }
   ],
   "source": [
    "pctByRegion = df.groupby('region')['bmiBinned'].value_counts(normalize=True).to_frame()\n",
    "pctByRegion.columns = ['percent']\n",
    "pctByRegion.reset_index(inplace=True)\n",
    "pctByRegion"
   ]
  },
  {
   "cell_type": "code",
   "execution_count": 74,
   "id": "691c841a",
   "metadata": {},
   "outputs": [
    {
     "data": {
      "text/plain": [
       "<seaborn.axisgrid.FacetGrid at 0x25bd4748b80>"
      ]
     },
     "execution_count": 74,
     "metadata": {},
     "output_type": "execute_result"
    },
    {
     "data": {
      "image/png": "[encoded data removed]",
      "text/plain": [
       "<Figure size 720x720 with 4 Axes>"
      ]
     },
     "metadata": {
      "needs_background": "light"
     },
     "output_type": "display_data"
    }
   ],
   "source": [
    "sns.catplot(data=pctByRegion, x='bmiBinned', y='percent', col='region', col_wrap=2, kind='bar')"
   ]
  },
  {
   "cell_type": "markdown",
   "id": "73a84587",
   "metadata": {},
   "source": [
    "### The southeast does based on the chart above"
   ]
  },
  {
   "cell_type": "markdown",
   "id": "8b3093e5",
   "metadata": {},
   "source": [
    "# Section 3"
   ]
  },
  {
   "cell_type": "code",
   "execution_count": 20,
   "id": "52ced78e",
   "metadata": {},
   "outputs": [],
   "source": [
    "from sklearn.model_selection import train_test_split\n",
    "from sklearn.linear_model import LinearRegression\n",
    "from sklearn.preprocessing import StandardScaler\n",
    "from sklearn.feature_selection import mutual_info_regression\n",
    "from sklearn.feature_selection import f_regression\n",
    "from sklearn.feature_selection import SelectKBest"
   ]
  },
  {
   "cell_type": "markdown",
   "id": "158a98d4",
   "metadata": {},
   "source": [
    "## Create a simple regression to show the relationship between charges and age."
   ]
  },
  {
   "cell_type": "code",
   "execution_count": 21,
   "id": "12f68d13",
   "metadata": {},
   "outputs": [
    {
     "data": {
      "text/plain": [
       "<seaborn.axisgrid.FacetGrid at 0x25bd2e9e1c0>"
      ]
     },
     "execution_count": 21,
     "metadata": {},
     "output_type": "execute_result"
    },
    {
     "data": {
      "image/png": "[encoded data removed]",
      "text/plain": [
       "<Figure size 360x360 with 1 Axes>"
      ]
     },
     "metadata": {
      "needs_background": "light"
     },
     "output_type": "display_data"
    }
   ],
   "source": [
    "sns.lmplot(data=df, x='age', y='charges', ci=None, \n",
    "           line_kws={'color':'red'}, scatter_kws={'s':10})"
   ]
  },
  {
   "cell_type": "raw",
   "id": "ff7f9439",
   "metadata": {},
   "source": [
    "The positive slope indicates an upward trend in the data"
   ]
  },
  {
   "cell_type": "markdown",
   "id": "b3757618",
   "metadata": {},
   "source": [
    "## How does this relationship change with smoking status?"
   ]
  },
  {
   "cell_type": "code",
   "execution_count": 22,
   "id": "b483c755",
   "metadata": {},
   "outputs": [
    {
     "data": {
      "text/plain": [
       "<seaborn.axisgrid.FacetGrid at 0x25bd2f0a6d0>"
      ]
     },
     "execution_count": 22,
     "metadata": {},
     "output_type": "execute_result"
    },
    {
     "data": {
      "image/png": "[encoded data removed]",
      "text/plain": [
       "<Figure size 413.25x360 with 1 Axes>"
      ]
     },
     "metadata": {
      "needs_background": "light"
     },
     "output_type": "display_data"
    }
   ],
   "source": [
    "sns.lmplot(data=df, x='age', y='charges', hue='smoker', \n",
    "           ci=None, scatter_kws={'s':10})"
   ]
  },
  {
   "cell_type": "markdown",
   "id": "da6418a3",
   "metadata": {},
   "source": [
    "### Charges start higher for smokers"
   ]
  },
  {
   "cell_type": "raw",
   "id": "e4305db5",
   "metadata": {},
   "source": [
    "The trend upward over age is about the same, but smokers' bills start much higher. The blue line is difficult to see, but it is there if you look closely"
   ]
  },
  {
   "cell_type": "markdown",
   "id": "6bd66e25",
   "metadata": {},
   "source": [
    "## How does this relationship change with the BMI?"
   ]
  },
  {
   "cell_type": "code",
   "execution_count": 29,
   "id": "32803d4d",
   "metadata": {},
   "outputs": [
    {
     "data": {
      "text/plain": [
       "<seaborn.axisgrid.FacetGrid at 0x25bd403af10>"
      ]
     },
     "execution_count": 29,
     "metadata": {},
     "output_type": "execute_result"
    },
    {
     "data": {
      "image/png": "[encoded data removed]",
      "text/plain": [
       "<Figure size 460.125x360 with 1 Axes>"
      ]
     },
     "metadata": {
      "needs_background": "light"
     },
     "output_type": "display_data"
    }
   ],
   "source": [
    "sns.lmplot(data=df, x='age', y='charges', hue='bmiBinned', \n",
    "           ci=None, scatter_kws={'s':15})"
   ]
  },
  {
   "cell_type": "markdown",
   "id": "0376cf3a",
   "metadata": {},
   "source": [
    "### Most of the highest charges are for people that are either overweight or obese"
   ]
  },
  {
   "cell_type": "markdown",
   "id": "d582ae4f",
   "metadata": {},
   "source": [
    "## Create a multiple regression to predict the charges"
   ]
  },
  {
   "cell_type": "raw",
   "id": "0a67f52e",
   "metadata": {},
   "source": [
    " HINT: you'll need to dummy encode and rescale the data"
   ]
  },
  {
   "cell_type": "code",
   "execution_count": 25,
   "id": "13f66022",
   "metadata": {},
   "outputs": [],
   "source": [
    "# convert the numerics to string so that the get_dummies will work\n",
    "df.children = df.children.astype(str)"
   ]
  },
  {
   "cell_type": "code",
   "execution_count": 77,
   "id": "0c64b3fe",
   "metadata": {},
   "outputs": [],
   "source": [
    "# Create the dummies and join back to the original data\n",
    "catCols = ['sex','children','smoker','region','bmiBinned']\n",
    "dummies = pd.get_dummies(df[catCols])\n",
    "dfDummies = df.drop(columns=catCols)\n",
    "dfDummies = dfDummies.join(dummies)"
   ]
  },
  {
   "cell_type": "code",
   "execution_count": 78,
   "id": "378b2125",
   "metadata": {},
   "outputs": [
    {
     "data": {
      "text/html": [
       "<div>\n",
       "<style scoped>\n",
       "    .dataframe tbody tr th:only-of-type {\n",
       "        vertical-align: middle;\n",
       "    }\n",
       "\n",
       "    .dataframe tbody tr th {\n",
       "        vertical-align: top;\n",
       "    }\n",
       "\n",
       "    .dataframe thead th {\n",
       "        text-align: right;\n",
       "    }\n",
       "</style>\n",
       "<table border=\"1\" class=\"dataframe\">\n",
       "  <thead>\n",
       "    <tr style=\"text-align: right;\">\n",
       "      <th></th>\n",
       "      <th>age</th>\n",
       "      <th>bmi</th>\n",
       "      <th>charges</th>\n",
       "      <th>children</th>\n",
       "      <th>sex_female</th>\n",
       "      <th>sex_male</th>\n",
       "      <th>smoker_no</th>\n",
       "      <th>smoker_yes</th>\n",
       "      <th>region_northeast</th>\n",
       "      <th>region_northwest</th>\n",
       "      <th>region_southeast</th>\n",
       "      <th>region_southwest</th>\n",
       "      <th>bmiBinned_Underweight</th>\n",
       "      <th>bmiBinned_Healthy</th>\n",
       "      <th>bmiBinned_Overweight</th>\n",
       "      <th>bmiBinned_Obese</th>\n",
       "    </tr>\n",
       "  </thead>\n",
       "  <tbody>\n",
       "    <tr>\n",
       "      <th>0</th>\n",
       "      <td>19</td>\n",
       "      <td>27.900</td>\n",
       "      <td>16884.92400</td>\n",
       "      <td>0</td>\n",
       "      <td>1</td>\n",
       "      <td>0</td>\n",
       "      <td>0</td>\n",
       "      <td>1</td>\n",
       "      <td>0</td>\n",
       "      <td>0</td>\n",
       "      <td>0</td>\n",
       "      <td>1</td>\n",
       "      <td>0</td>\n",
       "      <td>0</td>\n",
       "      <td>1</td>\n",
       "      <td>0</td>\n",
       "    </tr>\n",
       "    <tr>\n",
       "      <th>1</th>\n",
       "      <td>18</td>\n",
       "      <td>33.770</td>\n",
       "      <td>1725.55230</td>\n",
       "      <td>1</td>\n",
       "      <td>0</td>\n",
       "      <td>1</td>\n",
       "      <td>1</td>\n",
       "      <td>0</td>\n",
       "      <td>0</td>\n",
       "      <td>0</td>\n",
       "      <td>1</td>\n",
       "      <td>0</td>\n",
       "      <td>0</td>\n",
       "      <td>0</td>\n",
       "      <td>0</td>\n",
       "      <td>1</td>\n",
       "    </tr>\n",
       "    <tr>\n",
       "      <th>2</th>\n",
       "      <td>28</td>\n",
       "      <td>33.000</td>\n",
       "      <td>4449.46200</td>\n",
       "      <td>3</td>\n",
       "      <td>0</td>\n",
       "      <td>1</td>\n",
       "      <td>1</td>\n",
       "      <td>0</td>\n",
       "      <td>0</td>\n",
       "      <td>0</td>\n",
       "      <td>1</td>\n",
       "      <td>0</td>\n",
       "      <td>0</td>\n",
       "      <td>0</td>\n",
       "      <td>0</td>\n",
       "      <td>1</td>\n",
       "    </tr>\n",
       "    <tr>\n",
       "      <th>3</th>\n",
       "      <td>33</td>\n",
       "      <td>22.705</td>\n",
       "      <td>21984.47061</td>\n",
       "      <td>0</td>\n",
       "      <td>0</td>\n",
       "      <td>1</td>\n",
       "      <td>1</td>\n",
       "      <td>0</td>\n",
       "      <td>0</td>\n",
       "      <td>1</td>\n",
       "      <td>0</td>\n",
       "      <td>0</td>\n",
       "      <td>0</td>\n",
       "      <td>1</td>\n",
       "      <td>0</td>\n",
       "      <td>0</td>\n",
       "    </tr>\n",
       "    <tr>\n",
       "      <th>4</th>\n",
       "      <td>32</td>\n",
       "      <td>28.880</td>\n",
       "      <td>3866.85520</td>\n",
       "      <td>0</td>\n",
       "      <td>0</td>\n",
       "      <td>1</td>\n",
       "      <td>1</td>\n",
       "      <td>0</td>\n",
       "      <td>0</td>\n",
       "      <td>1</td>\n",
       "      <td>0</td>\n",
       "      <td>0</td>\n",
       "      <td>0</td>\n",
       "      <td>0</td>\n",
       "      <td>1</td>\n",
       "      <td>0</td>\n",
       "    </tr>\n",
       "  </tbody>\n",
       "</table>\n",
       "</div>"
      ],
      "text/plain": [
       "   age     bmi      charges  children  sex_female  sex_male  smoker_no  \\\n",
       "0   19  27.900  16884.92400         0           1         0          0   \n",
       "1   18  33.770   1725.55230         1           0         1          1   \n",
       "2   28  33.000   4449.46200         3           0         1          1   \n",
       "3   33  22.705  21984.47061         0           0         1          1   \n",
       "4   32  28.880   3866.85520         0           0         1          1   \n",
       "\n",
       "   smoker_yes  region_northeast  region_northwest  region_southeast  \\\n",
       "0           1                 0                 0                 0   \n",
       "1           0                 0                 0                 1   \n",
       "2           0                 0                 0                 1   \n",
       "3           0                 0                 1                 0   \n",
       "4           0                 0                 1                 0   \n",
       "\n",
       "   region_southwest  bmiBinned_Underweight  bmiBinned_Healthy  \\\n",
       "0                 1                      0                  0   \n",
       "1                 0                      0                  0   \n",
       "2                 0                      0                  0   \n",
       "3                 0                      0                  1   \n",
       "4                 0                      0                  0   \n",
       "\n",
       "   bmiBinned_Overweight  bmiBinned_Obese  \n",
       "0                     1                0  \n",
       "1                     0                1  \n",
       "2                     0                1  \n",
       "3                     0                0  \n",
       "4                     1                0  "
      ]
     },
     "execution_count": 78,
     "metadata": {},
     "output_type": "execute_result"
    }
   ],
   "source": [
    "dfDummies.head()"
   ]
  },
  {
   "cell_type": "code",
   "execution_count": 79,
   "id": "749089c1",
   "metadata": {},
   "outputs": [
    {
     "data": {
      "text/html": [
       "<div>\n",
       "<style scoped>\n",
       "    .dataframe tbody tr th:only-of-type {\n",
       "        vertical-align: middle;\n",
       "    }\n",
       "\n",
       "    .dataframe tbody tr th {\n",
       "        vertical-align: top;\n",
       "    }\n",
       "\n",
       "    .dataframe thead th {\n",
       "        text-align: right;\n",
       "    }\n",
       "</style>\n",
       "<table border=\"1\" class=\"dataframe\">\n",
       "  <thead>\n",
       "    <tr style=\"text-align: right;\">\n",
       "      <th></th>\n",
       "      <th>age</th>\n",
       "      <th>bmi</th>\n",
       "      <th>charges</th>\n",
       "      <th>children</th>\n",
       "      <th>sex_female</th>\n",
       "      <th>sex_male</th>\n",
       "      <th>smoker_no</th>\n",
       "      <th>smoker_yes</th>\n",
       "      <th>region_northeast</th>\n",
       "      <th>region_northwest</th>\n",
       "      <th>region_southeast</th>\n",
       "      <th>region_southwest</th>\n",
       "      <th>bmiBinned_Underweight</th>\n",
       "      <th>bmiBinned_Healthy</th>\n",
       "      <th>bmiBinned_Overweight</th>\n",
       "      <th>bmiBinned_Obese</th>\n",
       "    </tr>\n",
       "  </thead>\n",
       "  <tbody>\n",
       "    <tr>\n",
       "      <th>0</th>\n",
       "      <td>-1.438764</td>\n",
       "      <td>-0.453320</td>\n",
       "      <td>16884.92400</td>\n",
       "      <td>0</td>\n",
       "      <td>1</td>\n",
       "      <td>0</td>\n",
       "      <td>0</td>\n",
       "      <td>1</td>\n",
       "      <td>0</td>\n",
       "      <td>0</td>\n",
       "      <td>0</td>\n",
       "      <td>1</td>\n",
       "      <td>0</td>\n",
       "      <td>0</td>\n",
       "      <td>1</td>\n",
       "      <td>0</td>\n",
       "    </tr>\n",
       "    <tr>\n",
       "      <th>1</th>\n",
       "      <td>-1.509965</td>\n",
       "      <td>0.509621</td>\n",
       "      <td>1725.55230</td>\n",
       "      <td>1</td>\n",
       "      <td>0</td>\n",
       "      <td>1</td>\n",
       "      <td>1</td>\n",
       "      <td>0</td>\n",
       "      <td>0</td>\n",
       "      <td>0</td>\n",
       "      <td>1</td>\n",
       "      <td>0</td>\n",
       "      <td>0</td>\n",
       "      <td>0</td>\n",
       "      <td>0</td>\n",
       "      <td>1</td>\n",
       "    </tr>\n",
       "    <tr>\n",
       "      <th>2</th>\n",
       "      <td>-0.797954</td>\n",
       "      <td>0.383307</td>\n",
       "      <td>4449.46200</td>\n",
       "      <td>3</td>\n",
       "      <td>0</td>\n",
       "      <td>1</td>\n",
       "      <td>1</td>\n",
       "      <td>0</td>\n",
       "      <td>0</td>\n",
       "      <td>0</td>\n",
       "      <td>1</td>\n",
       "      <td>0</td>\n",
       "      <td>0</td>\n",
       "      <td>0</td>\n",
       "      <td>0</td>\n",
       "      <td>1</td>\n",
       "    </tr>\n",
       "    <tr>\n",
       "      <th>3</th>\n",
       "      <td>-0.441948</td>\n",
       "      <td>-1.305531</td>\n",
       "      <td>21984.47061</td>\n",
       "      <td>0</td>\n",
       "      <td>0</td>\n",
       "      <td>1</td>\n",
       "      <td>1</td>\n",
       "      <td>0</td>\n",
       "      <td>0</td>\n",
       "      <td>1</td>\n",
       "      <td>0</td>\n",
       "      <td>0</td>\n",
       "      <td>0</td>\n",
       "      <td>1</td>\n",
       "      <td>0</td>\n",
       "      <td>0</td>\n",
       "    </tr>\n",
       "    <tr>\n",
       "      <th>4</th>\n",
       "      <td>-0.513149</td>\n",
       "      <td>-0.292556</td>\n",
       "      <td>3866.85520</td>\n",
       "      <td>0</td>\n",
       "      <td>0</td>\n",
       "      <td>1</td>\n",
       "      <td>1</td>\n",
       "      <td>0</td>\n",
       "      <td>0</td>\n",
       "      <td>1</td>\n",
       "      <td>0</td>\n",
       "      <td>0</td>\n",
       "      <td>0</td>\n",
       "      <td>0</td>\n",
       "      <td>1</td>\n",
       "      <td>0</td>\n",
       "    </tr>\n",
       "  </tbody>\n",
       "</table>\n",
       "</div>"
      ],
      "text/plain": [
       "        age       bmi      charges  children  sex_female  sex_male  smoker_no  \\\n",
       "0 -1.438764 -0.453320  16884.92400         0           1         0          0   \n",
       "1 -1.509965  0.509621   1725.55230         1           0         1          1   \n",
       "2 -0.797954  0.383307   4449.46200         3           0         1          1   \n",
       "3 -0.441948 -1.305531  21984.47061         0           0         1          1   \n",
       "4 -0.513149 -0.292556   3866.85520         0           0         1          1   \n",
       "\n",
       "   smoker_yes  region_northeast  region_northwest  region_southeast  \\\n",
       "0           1                 0                 0                 0   \n",
       "1           0                 0                 0                 1   \n",
       "2           0                 0                 0                 1   \n",
       "3           0                 0                 1                 0   \n",
       "4           0                 0                 1                 0   \n",
       "\n",
       "   region_southwest  bmiBinned_Underweight  bmiBinned_Healthy  \\\n",
       "0                 1                      0                  0   \n",
       "1                 0                      0                  0   \n",
       "2                 0                      0                  0   \n",
       "3                 0                      0                  1   \n",
       "4                 0                      0                  0   \n",
       "\n",
       "   bmiBinned_Overweight  bmiBinned_Obese  \n",
       "0                     1                0  \n",
       "1                     0                1  \n",
       "2                     0                1  \n",
       "3                     0                0  \n",
       "4                     1                0  "
      ]
     },
     "execution_count": 79,
     "metadata": {},
     "output_type": "execute_result"
    }
   ],
   "source": [
    "# rescale the bmi and the age columns, since they are the only numerics now\n",
    "scaler = StandardScaler()\n",
    "numCols = ['bmi','age']\n",
    "dfDummies[numCols] = scaler.fit_transform(dfDummies[numCols])\n",
    "dfDummies.head()"
   ]
  },
  {
   "cell_type": "code",
   "execution_count": 80,
   "id": "389e29d7",
   "metadata": {},
   "outputs": [
    {
     "data": {
      "text/html": [
       "<div>\n",
       "<style scoped>\n",
       "    .dataframe tbody tr th:only-of-type {\n",
       "        vertical-align: middle;\n",
       "    }\n",
       "\n",
       "    .dataframe tbody tr th {\n",
       "        vertical-align: top;\n",
       "    }\n",
       "\n",
       "    .dataframe thead th {\n",
       "        text-align: right;\n",
       "    }\n",
       "</style>\n",
       "<table border=\"1\" class=\"dataframe\">\n",
       "  <thead>\n",
       "    <tr style=\"text-align: right;\">\n",
       "      <th></th>\n",
       "      <th>charges</th>\n",
       "    </tr>\n",
       "  </thead>\n",
       "  <tbody>\n",
       "    <tr>\n",
       "      <th>charges</th>\n",
       "      <td>1.000000</td>\n",
       "    </tr>\n",
       "    <tr>\n",
       "      <th>smoker_yes</th>\n",
       "      <td>0.787251</td>\n",
       "    </tr>\n",
       "    <tr>\n",
       "      <th>age</th>\n",
       "      <td>0.299008</td>\n",
       "    </tr>\n",
       "    <tr>\n",
       "      <th>bmiBinned_Obese</th>\n",
       "      <td>0.199683</td>\n",
       "    </tr>\n",
       "    <tr>\n",
       "      <th>bmi</th>\n",
       "      <td>0.198341</td>\n",
       "    </tr>\n",
       "    <tr>\n",
       "      <th>region_southeast</th>\n",
       "      <td>0.073982</td>\n",
       "    </tr>\n",
       "    <tr>\n",
       "      <th>children</th>\n",
       "      <td>0.067998</td>\n",
       "    </tr>\n",
       "    <tr>\n",
       "      <th>sex_male</th>\n",
       "      <td>0.057292</td>\n",
       "    </tr>\n",
       "    <tr>\n",
       "      <th>region_northeast</th>\n",
       "      <td>0.006349</td>\n",
       "    </tr>\n",
       "    <tr>\n",
       "      <th>region_northwest</th>\n",
       "      <td>-0.039905</td>\n",
       "    </tr>\n",
       "    <tr>\n",
       "      <th>region_southwest</th>\n",
       "      <td>-0.043210</td>\n",
       "    </tr>\n",
       "    <tr>\n",
       "      <th>bmiBinned_Underweight</th>\n",
       "      <td>-0.048117</td>\n",
       "    </tr>\n",
       "    <tr>\n",
       "      <th>sex_female</th>\n",
       "      <td>-0.057292</td>\n",
       "    </tr>\n",
       "    <tr>\n",
       "      <th>bmiBinned_Healthy</th>\n",
       "      <td>-0.105577</td>\n",
       "    </tr>\n",
       "    <tr>\n",
       "      <th>bmiBinned_Overweight</th>\n",
       "      <td>-0.119542</td>\n",
       "    </tr>\n",
       "    <tr>\n",
       "      <th>smoker_no</th>\n",
       "      <td>-0.787251</td>\n",
       "    </tr>\n",
       "  </tbody>\n",
       "</table>\n",
       "</div>"
      ],
      "text/plain": [
       "                        charges\n",
       "charges                1.000000\n",
       "smoker_yes             0.787251\n",
       "age                    0.299008\n",
       "bmiBinned_Obese        0.199683\n",
       "bmi                    0.198341\n",
       "region_southeast       0.073982\n",
       "children               0.067998\n",
       "sex_male               0.057292\n",
       "region_northeast       0.006349\n",
       "region_northwest      -0.039905\n",
       "region_southwest      -0.043210\n",
       "bmiBinned_Underweight -0.048117\n",
       "sex_female            -0.057292\n",
       "bmiBinned_Healthy     -0.105577\n",
       "bmiBinned_Overweight  -0.119542\n",
       "smoker_no             -0.787251"
      ]
     },
     "execution_count": 80,
     "metadata": {},
     "output_type": "execute_result"
    }
   ],
   "source": [
    "# correlation data\n",
    "dfDummies.corr()[['charges']].sort_values('charges', ascending=False)"
   ]
  },
  {
   "cell_type": "code",
   "execution_count": 83,
   "id": "857aa965",
   "metadata": {},
   "outputs": [],
   "source": [
    "# create the test and train datasets\n",
    "dfTrain, dfTest = train_test_split(dfDummies, test_size=0.2, random_state=20)"
   ]
  },
  {
   "cell_type": "code",
   "execution_count": 84,
   "id": "e498a3cb",
   "metadata": {},
   "outputs": [],
   "source": [
    "# create the model and select the predictors\n",
    "model = LinearRegression()\n",
    "xCols = ['smoker_yes','age','bmi']"
   ]
  },
  {
   "cell_type": "code",
   "execution_count": 85,
   "id": "473ae298",
   "metadata": {},
   "outputs": [
    {
     "data": {
      "text/plain": [
       "0.7963444799919928"
      ]
     },
     "execution_count": 85,
     "metadata": {},
     "output_type": "execute_result"
    }
   ],
   "source": [
    "# fit and score the model\n",
    "model.fit(dfTrain[xCols], dfTrain['charges'])\n",
    "model.score(dfTest[xCols], dfTest['charges'])"
   ]
  },
  {
   "cell_type": "markdown",
   "id": "0549836c",
   "metadata": {},
   "source": [
    "## Make predictions with the multiple regression model"
   ]
  },
  {
   "cell_type": "code",
   "execution_count": 87,
   "id": "a72cded6",
   "metadata": {},
   "outputs": [],
   "source": [
    "y_pred = model.predict(dfTest[xCols])"
   ]
  },
  {
   "cell_type": "code",
   "execution_count": 95,
   "id": "62efb5da",
   "metadata": {},
   "outputs": [],
   "source": [
    "predictions = dfTest[['charges']].reset_index(drop=True).join(pd.Series(y_pred, name='predicted')) "
   ]
  },
  {
   "cell_type": "code",
   "execution_count": 96,
   "id": "057d1505",
   "metadata": {},
   "outputs": [],
   "source": [
    "predictions['residuals'] = predictions.charges - predictions.predicted"
   ]
  },
  {
   "cell_type": "code",
   "execution_count": 97,
   "id": "b6e923fb",
   "metadata": {},
   "outputs": [
    {
     "data": {
      "image/png": "[encoded data removed]",
      "text/plain": [
       "<Figure size 360x360 with 1 Axes>"
      ]
     },
     "metadata": {
      "needs_background": "light"
     },
     "output_type": "display_data"
    }
   ],
   "source": [
    "g = sns.relplot(data=predictions, x='charges', y='residuals', kind='scatter')\n",
    "for ax in g.axes.flat:\n",
    "    ax.axhline(0, ls='--')"
   ]
  },
  {
   "cell_type": "raw",
   "id": "bc0ba1ef",
   "metadata": {},
   "source": [
    "The model is more accurate for the lower charges but its performance gets worse as the charges get higher"
   ]
  },
  {
   "cell_type": "markdown",
   "id": "63cfe392",
   "metadata": {},
   "source": [
    "## What is the optimal number of parameters for the multiple regression model?"
   ]
  },
  {
   "cell_type": "code",
   "execution_count": 58,
   "id": "37fbae4a",
   "metadata": {},
   "outputs": [],
   "source": [
    "# create and fit the feature selector\n",
    "fs = SelectKBest(score_func=mutual_info_regression, k='all')\n",
    "fs.fit(dfTrain.drop(columns=['charges']), dfTrain['charges'])\n",
    "\n",
    "x_train_fs = fs.transform(dfTrain.drop(columns=['charges']))\n",
    "x_test_fs = fs.transform(dfTest.drop(columns=['charges']))"
   ]
  },
  {
   "cell_type": "code",
   "execution_count": 59,
   "id": "25288a46",
   "metadata": {},
   "outputs": [],
   "source": [
    "# create the model testing loop\n",
    "model = LinearRegression()\n",
    "testScores = []\n",
    "trainScores = []\n",
    "for i in range(1, len(dfTrain.columns)):\n",
    "    fs = SelectKBest(score_func=mutual_info_regression, k=i)\n",
    "    fs.fit(dfTrain.drop(columns=['charges']), dfTrain['charges'])\n",
    "    x_test_fs = fs.transform(dfTest.drop(columns=['charges']))\n",
    "    x_train_fs = fs.transform(dfTrain.drop(columns=['charges']))\n",
    "    \n",
    "    model.fit(x_train_fs, dfTrain['charges'])\n",
    "\n",
    "    testScore = model.score(x_test_fs, dfTest['charges'])\n",
    "    trainScore = model.score(x_train_fs, dfTrain['charges'])\n",
    "    testScores.append(testScore)\n",
    "    trainScores.append(trainScore)"
   ]
  },
  {
   "cell_type": "code",
   "execution_count": 60,
   "id": "e6b6ab43",
   "metadata": {},
   "outputs": [
    {
     "data": {
      "text/plain": [
       "<AxesSubplot:xlabel='numFeatures'>"
      ]
     },
     "execution_count": 60,
     "metadata": {},
     "output_type": "execute_result"
    },
    {
     "data": {
      "image/png": "[encoded data removed]",
      "text/plain": [
       "<Figure size 432x288 with 1 Axes>"
      ]
     },
     "metadata": {
      "needs_background": "light"
     },
     "output_type": "display_data"
    }
   ],
   "source": [
    "# prepare and plot the scores\n",
    "features = pd.DataFrame(data={'testScores':testScores, 'trainScores':trainScores})\n",
    "features.reset_index(inplace=True)\n",
    "features.rename(columns={'index':'numFeatures'}, inplace=True)\n",
    "features.numFeatures = features.numFeatures + 1\n",
    "features.plot(x='numFeatures', y=['testScores','trainScores'])"
   ]
  },
  {
   "cell_type": "markdown",
   "id": "a0717080",
   "metadata": {},
   "source": [
    "### The optimal number of parameters is 2."
   ]
  },
  {
   "cell_type": "raw",
   "id": "4011cbb7",
   "metadata": {},
   "source": [
    "That's because after 2 parameters there are only small increases in the score."
   ]
  },
  {
   "cell_type": "code",
   "execution_count": null,
   "id": "c3a340a3",
   "metadata": {},
   "outputs": [],
   "source": []
  }
 ],
 "metadata": {
  "kernelspec": {
   "display_name": "Python 3",
   "language": "python",
   "name": "python3"
  },
  "language_info": {
   "codemirror_mode": {
    "name": "ipython",
    "version": 3
   },
   "file_extension": ".py",
   "mimetype": "text/x-python",
   "name": "python",
   "nbconvert_exporter": "python",
   "pygments_lexer": "ipython3",
   "version": "3.8.8"
  }
 },
 "nbformat": 4,
 "nbformat_minor": 5
}
